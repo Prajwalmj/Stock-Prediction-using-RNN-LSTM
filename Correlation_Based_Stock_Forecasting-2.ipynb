{
  "nbformat": 4,
  "nbformat_minor": 0,
  "metadata": {
    "colab": {
      "name": "Correlation-Based Stock Forecasting.ipynb",
      "provenance": [],
      "collapsed_sections": []
    },
    "kernelspec": {
      "name": "python3",
      "display_name": "Python 3"
    },
    "language_info": {
      "name": "python"
    }
  },
  "cells": [
    {
      "cell_type": "code",
      "metadata": {
        "colab": {
          "base_uri": "https://localhost:8080/"
        },
        "id": "l35U0hToU_ja",
        "outputId": "cebf481e-369a-40b2-d036-f1cc1970994b"
      },
      "source": [
        "!pip install yfinance --upgrade --no-cache-dir"
      ],
      "execution_count": 23,
      "outputs": [
        {
          "output_type": "stream",
          "text": [
            "Requirement already up-to-date: yfinance in /usr/local/lib/python3.7/dist-packages (0.1.59)\n",
            "Requirement already satisfied, skipping upgrade: pandas>=0.24 in /usr/local/lib/python3.7/dist-packages (from yfinance) (1.1.5)\n",
            "Requirement already satisfied, skipping upgrade: lxml>=4.5.1 in /usr/local/lib/python3.7/dist-packages (from yfinance) (4.6.3)\n",
            "Requirement already satisfied, skipping upgrade: multitasking>=0.0.7 in /usr/local/lib/python3.7/dist-packages (from yfinance) (0.0.9)\n",
            "Requirement already satisfied, skipping upgrade: requests>=2.20 in /usr/local/lib/python3.7/dist-packages (from yfinance) (2.23.0)\n",
            "Requirement already satisfied, skipping upgrade: numpy>=1.15 in /usr/local/lib/python3.7/dist-packages (from yfinance) (1.19.5)\n",
            "Requirement already satisfied, skipping upgrade: python-dateutil>=2.7.3 in /usr/local/lib/python3.7/dist-packages (from pandas>=0.24->yfinance) (2.8.1)\n",
            "Requirement already satisfied, skipping upgrade: pytz>=2017.2 in /usr/local/lib/python3.7/dist-packages (from pandas>=0.24->yfinance) (2018.9)\n",
            "Requirement already satisfied, skipping upgrade: urllib3!=1.25.0,!=1.25.1,<1.26,>=1.21.1 in /usr/local/lib/python3.7/dist-packages (from requests>=2.20->yfinance) (1.24.3)\n",
            "Requirement already satisfied, skipping upgrade: certifi>=2017.4.17 in /usr/local/lib/python3.7/dist-packages (from requests>=2.20->yfinance) (2020.12.5)\n",
            "Requirement already satisfied, skipping upgrade: idna<3,>=2.5 in /usr/local/lib/python3.7/dist-packages (from requests>=2.20->yfinance) (2.10)\n",
            "Requirement already satisfied, skipping upgrade: chardet<4,>=3.0.2 in /usr/local/lib/python3.7/dist-packages (from requests>=2.20->yfinance) (3.0.4)\n",
            "Requirement already satisfied, skipping upgrade: six>=1.5 in /usr/local/lib/python3.7/dist-packages (from python-dateutil>=2.7.3->pandas>=0.24->yfinance) (1.15.0)\n"
          ],
          "name": "stdout"
        }
      ]
    },
    {
      "cell_type": "code",
      "metadata": {
        "colab": {
          "base_uri": "https://localhost:8080/"
        },
        "id": "MrUhqxXiVRyi",
        "outputId": "a8cfc11a-d180-4965-90b2-7a20066230c4"
      },
      "source": [
        "!pip install -U \"scikit-learn==0.23.1\""
      ],
      "execution_count": 24,
      "outputs": [
        {
          "output_type": "stream",
          "text": [
            "Requirement already up-to-date: scikit-learn==0.23.1 in /usr/local/lib/python3.7/dist-packages (0.23.1)\n",
            "Requirement already satisfied, skipping upgrade: joblib>=0.11 in /usr/local/lib/python3.7/dist-packages (from scikit-learn==0.23.1) (1.0.1)\n",
            "Requirement already satisfied, skipping upgrade: numpy>=1.13.3 in /usr/local/lib/python3.7/dist-packages (from scikit-learn==0.23.1) (1.19.5)\n",
            "Requirement already satisfied, skipping upgrade: threadpoolctl>=2.0.0 in /usr/local/lib/python3.7/dist-packages (from scikit-learn==0.23.1) (2.1.0)\n",
            "Requirement already satisfied, skipping upgrade: scipy>=0.19.1 in /usr/local/lib/python3.7/dist-packages (from scikit-learn==0.23.1) (1.4.1)\n"
          ],
          "name": "stdout"
        }
      ]
    },
    {
      "cell_type": "code",
      "metadata": {
        "id": "ZH54fwWxVUi6"
      },
      "source": [
        "from pandas_datareader import data as pdr\n",
        "from datetime import date\n",
        "import yfinance as yf\n",
        "yf.pdr_override()\n",
        "import pandas as pd\n",
        "import numpy as np\n",
        "import seaborn as sns\n",
        "import matplotlib.pyplot as plt\n",
        "\n",
        "import os.path\n",
        "from os import path"
      ],
      "execution_count": 25,
      "outputs": []
    },
    {
      "cell_type": "code",
      "metadata": {
        "colab": {
          "base_uri": "https://localhost:8080/"
        },
        "id": "p7kPGL0VVUqy",
        "outputId": "812cf0f8-3ae2-4859-938f-94285d7e6460"
      },
      "source": [
        "ticker_list=['BRK-B','BRK-A','MSFT','AAPL','FB','JPM']\n",
        "today = date.today()\n",
        "l = len(ticker_list)\n",
        "df_dict = {} # creating a dictionay for the data\n",
        "files=[]\n",
        "sector=[]\n",
        "for i in range(0,l):\n",
        "  sector = yf.Ticker(ticker_list[i]).info['sector']\n",
        "  if path.exists('./'+sector) == False:\n",
        "    os.mkdir('./'+sector)\n",
        "  else:\n",
        "    print(\"folder already exist\");\n",
        "# we are getting the data with a start and end and adding the extra column for the percentage change\n",
        "def getData(ticker):\n",
        "  print(ticker)\n",
        "  data = pdr.get_data_yahoo(ticker, start=\"2020-01-01\", end=today).reset_index()\n",
        "  data['Symbol'] = ticker \n",
        "  data['percentage Change'] = data['Adj Close'].pct_change().dropna()\n",
        "  \n",
        "  df_dict[ticker] = data # storing the data frames in the dictionary\n",
        "  dataname= ticker+'_'+str(today)\n",
        "  files.append(dataname)\n",
        "  SaveData(data, dataname,yf.Ticker(ticker).info['sector'])\n",
        "\n",
        "\n",
        "# we are having the data based on the sector of the company\n",
        "def SaveData(df, filename,sector):\n",
        "  if (sector == 'Financial Services'):\n",
        "    df.to_csv('./Financial Services/'+filename+'.csv')\n",
        "  elif (sector == 'Technology'):\n",
        "    df.to_csv('./Technology/'+filename+'.csv')\n",
        "  elif (sector == 'Communication Services'):\n",
        "     df.to_csv('./Communication Services/'+filename+'.csv')\n",
        "  else:\n",
        "    print(\"sector is not being considered\");\n",
        "\n",
        "for ticker in ticker_list:\n",
        "  getData(ticker)"
      ],
      "execution_count": 26,
      "outputs": [
        {
          "output_type": "stream",
          "text": [
            "folder already exist\n",
            "folder already exist\n",
            "folder already exist\n",
            "folder already exist\n",
            "folder already exist\n",
            "folder already exist\n",
            "BRK-B\n",
            "[*********************100%***********************]  1 of 1 completed\n",
            "BRK-A\n",
            "[*********************100%***********************]  1 of 1 completed\n",
            "MSFT\n",
            "[*********************100%***********************]  1 of 1 completed\n",
            "AAPL\n",
            "[*********************100%***********************]  1 of 1 completed\n",
            "FB\n",
            "[*********************100%***********************]  1 of 1 completed\n",
            "JPM\n",
            "[*********************100%***********************]  1 of 1 completed\n"
          ],
          "name": "stdout"
        }
      ]
    },
    {
      "cell_type": "code",
      "metadata": {
        "id": "r5FyBPlyYnAE"
      },
      "source": [
        "df_corr = {}\n",
        "for ticker in ticker_list:\n",
        "  df_corr[ticker] = df_dict[ticker][['Date','percentage Change', 'Symbol']]\n",
        "  \n",
        "\n"
      ],
      "execution_count": 27,
      "outputs": []
    },
    {
      "cell_type": "code",
      "metadata": {
        "colab": {
          "base_uri": "https://localhost:8080/",
          "height": 204
        },
        "id": "1YUTgtkWY1Zq",
        "outputId": "72f718c4-98e8-4c9b-bd4c-808e29b3362a"
      },
      "source": [
        "df_corr['MSFT'].head()"
      ],
      "execution_count": 28,
      "outputs": [
        {
          "output_type": "execute_result",
          "data": {
            "text/html": [
              "<div>\n",
              "<style scoped>\n",
              "    .dataframe tbody tr th:only-of-type {\n",
              "        vertical-align: middle;\n",
              "    }\n",
              "\n",
              "    .dataframe tbody tr th {\n",
              "        vertical-align: top;\n",
              "    }\n",
              "\n",
              "    .dataframe thead th {\n",
              "        text-align: right;\n",
              "    }\n",
              "</style>\n",
              "<table border=\"1\" class=\"dataframe\">\n",
              "  <thead>\n",
              "    <tr style=\"text-align: right;\">\n",
              "      <th></th>\n",
              "      <th>Date</th>\n",
              "      <th>percentage Change</th>\n",
              "      <th>Symbol</th>\n",
              "    </tr>\n",
              "  </thead>\n",
              "  <tbody>\n",
              "    <tr>\n",
              "      <th>0</th>\n",
              "      <td>2020-01-02</td>\n",
              "      <td>NaN</td>\n",
              "      <td>MSFT</td>\n",
              "    </tr>\n",
              "    <tr>\n",
              "      <th>1</th>\n",
              "      <td>2020-01-03</td>\n",
              "      <td>-0.012452</td>\n",
              "      <td>MSFT</td>\n",
              "    </tr>\n",
              "    <tr>\n",
              "      <th>2</th>\n",
              "      <td>2020-01-06</td>\n",
              "      <td>0.002585</td>\n",
              "      <td>MSFT</td>\n",
              "    </tr>\n",
              "    <tr>\n",
              "      <th>3</th>\n",
              "      <td>2020-01-07</td>\n",
              "      <td>-0.009118</td>\n",
              "      <td>MSFT</td>\n",
              "    </tr>\n",
              "    <tr>\n",
              "      <th>4</th>\n",
              "      <td>2020-01-08</td>\n",
              "      <td>0.015928</td>\n",
              "      <td>MSFT</td>\n",
              "    </tr>\n",
              "  </tbody>\n",
              "</table>\n",
              "</div>"
            ],
            "text/plain": [
              "        Date  percentage Change Symbol\n",
              "0 2020-01-02                NaN   MSFT\n",
              "1 2020-01-03          -0.012452   MSFT\n",
              "2 2020-01-06           0.002585   MSFT\n",
              "3 2020-01-07          -0.009118   MSFT\n",
              "4 2020-01-08           0.015928   MSFT"
            ]
          },
          "metadata": {
            "tags": []
          },
          "execution_count": 28
        }
      ]
    },
    {
      "cell_type": "code",
      "metadata": {
        "id": "1xF_CzQWeTJ6"
      },
      "source": [
        "\n",
        "result = pd.concat([df_corr['BRK-A'],df_corr['BRK-B'],df_corr['MSFT'], df_corr['AAPL'],df_corr['JPM'],df_corr['FB']], axis=0)\n",
        "\n",
        "\n"
      ],
      "execution_count": 29,
      "outputs": []
    },
    {
      "cell_type": "code",
      "metadata": {
        "colab": {
          "base_uri": "https://localhost:8080/",
          "height": 204
        },
        "id": "762-U8I1kuOH",
        "outputId": "9419ff2d-456f-4c4d-f4de-59294d54f0bc"
      },
      "source": [
        "df_pivot = result.pivot('Date','Symbol','percentage Change').reset_index()\n",
        "\n",
        "df_pivot.head()"
      ],
      "execution_count": 30,
      "outputs": [
        {
          "output_type": "execute_result",
          "data": {
            "text/html": [
              "<div>\n",
              "<style scoped>\n",
              "    .dataframe tbody tr th:only-of-type {\n",
              "        vertical-align: middle;\n",
              "    }\n",
              "\n",
              "    .dataframe tbody tr th {\n",
              "        vertical-align: top;\n",
              "    }\n",
              "\n",
              "    .dataframe thead th {\n",
              "        text-align: right;\n",
              "    }\n",
              "</style>\n",
              "<table border=\"1\" class=\"dataframe\">\n",
              "  <thead>\n",
              "    <tr style=\"text-align: right;\">\n",
              "      <th>Symbol</th>\n",
              "      <th>Date</th>\n",
              "      <th>AAPL</th>\n",
              "      <th>BRK-A</th>\n",
              "      <th>BRK-B</th>\n",
              "      <th>FB</th>\n",
              "      <th>JPM</th>\n",
              "      <th>MSFT</th>\n",
              "    </tr>\n",
              "  </thead>\n",
              "  <tbody>\n",
              "    <tr>\n",
              "      <th>0</th>\n",
              "      <td>2020-01-02</td>\n",
              "      <td>NaN</td>\n",
              "      <td>NaN</td>\n",
              "      <td>NaN</td>\n",
              "      <td>NaN</td>\n",
              "      <td>NaN</td>\n",
              "      <td>NaN</td>\n",
              "    </tr>\n",
              "    <tr>\n",
              "      <th>1</th>\n",
              "      <td>2020-01-03</td>\n",
              "      <td>-0.009722</td>\n",
              "      <td>-0.009075</td>\n",
              "      <td>-0.009676</td>\n",
              "      <td>-0.005291</td>\n",
              "      <td>-0.013197</td>\n",
              "      <td>-0.012452</td>\n",
              "    </tr>\n",
              "    <tr>\n",
              "      <th>2</th>\n",
              "      <td>2020-01-06</td>\n",
              "      <td>0.007968</td>\n",
              "      <td>0.003111</td>\n",
              "      <td>0.003581</td>\n",
              "      <td>0.018834</td>\n",
              "      <td>-0.000795</td>\n",
              "      <td>0.002585</td>\n",
              "    </tr>\n",
              "    <tr>\n",
              "      <th>3</th>\n",
              "      <td>2020-01-07</td>\n",
              "      <td>-0.004703</td>\n",
              "      <td>-0.003848</td>\n",
              "      <td>-0.004714</td>\n",
              "      <td>0.002164</td>\n",
              "      <td>-0.017001</td>\n",
              "      <td>-0.009118</td>\n",
              "    </tr>\n",
              "    <tr>\n",
              "      <th>4</th>\n",
              "      <td>2020-01-08</td>\n",
              "      <td>0.016086</td>\n",
              "      <td>0.000847</td>\n",
              "      <td>0.000310</td>\n",
              "      <td>0.010138</td>\n",
              "      <td>0.007801</td>\n",
              "      <td>0.015928</td>\n",
              "    </tr>\n",
              "  </tbody>\n",
              "</table>\n",
              "</div>"
            ],
            "text/plain": [
              "Symbol       Date      AAPL     BRK-A     BRK-B        FB       JPM      MSFT\n",
              "0      2020-01-02       NaN       NaN       NaN       NaN       NaN       NaN\n",
              "1      2020-01-03 -0.009722 -0.009075 -0.009676 -0.005291 -0.013197 -0.012452\n",
              "2      2020-01-06  0.007968  0.003111  0.003581  0.018834 -0.000795  0.002585\n",
              "3      2020-01-07 -0.004703 -0.003848 -0.004714  0.002164 -0.017001 -0.009118\n",
              "4      2020-01-08  0.016086  0.000847  0.000310  0.010138  0.007801  0.015928"
            ]
          },
          "metadata": {
            "tags": []
          },
          "execution_count": 30
        }
      ]
    },
    {
      "cell_type": "code",
      "metadata": {
        "colab": {
          "base_uri": "https://localhost:8080/",
          "height": 266
        },
        "id": "ipx62e_Nk7Nt",
        "outputId": "db80df0f-1ae6-47ca-bb86-1adc681ef277"
      },
      "source": [
        "#finding the correlation between various companies\n",
        "corr_df = df_pivot.corr(method='pearson')\n",
        "corr_df.head().reset_index()\n",
        "corr_df.head(10)"
      ],
      "execution_count": 31,
      "outputs": [
        {
          "output_type": "execute_result",
          "data": {
            "text/html": [
              "<div>\n",
              "<style scoped>\n",
              "    .dataframe tbody tr th:only-of-type {\n",
              "        vertical-align: middle;\n",
              "    }\n",
              "\n",
              "    .dataframe tbody tr th {\n",
              "        vertical-align: top;\n",
              "    }\n",
              "\n",
              "    .dataframe thead th {\n",
              "        text-align: right;\n",
              "    }\n",
              "</style>\n",
              "<table border=\"1\" class=\"dataframe\">\n",
              "  <thead>\n",
              "    <tr style=\"text-align: right;\">\n",
              "      <th>Symbol</th>\n",
              "      <th>AAPL</th>\n",
              "      <th>BRK-A</th>\n",
              "      <th>BRK-B</th>\n",
              "      <th>FB</th>\n",
              "      <th>JPM</th>\n",
              "      <th>MSFT</th>\n",
              "    </tr>\n",
              "    <tr>\n",
              "      <th>Symbol</th>\n",
              "      <th></th>\n",
              "      <th></th>\n",
              "      <th></th>\n",
              "      <th></th>\n",
              "      <th></th>\n",
              "      <th></th>\n",
              "    </tr>\n",
              "  </thead>\n",
              "  <tbody>\n",
              "    <tr>\n",
              "      <th>AAPL</th>\n",
              "      <td>1.000000</td>\n",
              "      <td>0.563244</td>\n",
              "      <td>0.597759</td>\n",
              "      <td>0.745970</td>\n",
              "      <td>0.477045</td>\n",
              "      <td>0.824575</td>\n",
              "    </tr>\n",
              "    <tr>\n",
              "      <th>BRK-A</th>\n",
              "      <td>0.563244</td>\n",
              "      <td>1.000000</td>\n",
              "      <td>0.971807</td>\n",
              "      <td>0.483254</td>\n",
              "      <td>0.815763</td>\n",
              "      <td>0.603636</td>\n",
              "    </tr>\n",
              "    <tr>\n",
              "      <th>BRK-B</th>\n",
              "      <td>0.597759</td>\n",
              "      <td>0.971807</td>\n",
              "      <td>1.000000</td>\n",
              "      <td>0.511507</td>\n",
              "      <td>0.849181</td>\n",
              "      <td>0.649812</td>\n",
              "    </tr>\n",
              "    <tr>\n",
              "      <th>FB</th>\n",
              "      <td>0.745970</td>\n",
              "      <td>0.483254</td>\n",
              "      <td>0.511507</td>\n",
              "      <td>1.000000</td>\n",
              "      <td>0.415842</td>\n",
              "      <td>0.735233</td>\n",
              "    </tr>\n",
              "    <tr>\n",
              "      <th>JPM</th>\n",
              "      <td>0.477045</td>\n",
              "      <td>0.815763</td>\n",
              "      <td>0.849181</td>\n",
              "      <td>0.415842</td>\n",
              "      <td>1.000000</td>\n",
              "      <td>0.533530</td>\n",
              "    </tr>\n",
              "    <tr>\n",
              "      <th>MSFT</th>\n",
              "      <td>0.824575</td>\n",
              "      <td>0.603636</td>\n",
              "      <td>0.649812</td>\n",
              "      <td>0.735233</td>\n",
              "      <td>0.533530</td>\n",
              "      <td>1.000000</td>\n",
              "    </tr>\n",
              "  </tbody>\n",
              "</table>\n",
              "</div>"
            ],
            "text/plain": [
              "Symbol      AAPL     BRK-A     BRK-B        FB       JPM      MSFT\n",
              "Symbol                                                            \n",
              "AAPL    1.000000  0.563244  0.597759  0.745970  0.477045  0.824575\n",
              "BRK-A   0.563244  1.000000  0.971807  0.483254  0.815763  0.603636\n",
              "BRK-B   0.597759  0.971807  1.000000  0.511507  0.849181  0.649812\n",
              "FB      0.745970  0.483254  0.511507  1.000000  0.415842  0.735233\n",
              "JPM     0.477045  0.815763  0.849181  0.415842  1.000000  0.533530\n",
              "MSFT    0.824575  0.603636  0.649812  0.735233  0.533530  1.000000"
            ]
          },
          "metadata": {
            "tags": []
          },
          "execution_count": 31
        }
      ]
    },
    {
      "cell_type": "code",
      "metadata": {
        "colab": {
          "base_uri": "https://localhost:8080/",
          "height": 303
        },
        "id": "fBlXnGy9ldeq",
        "outputId": "a74e8973-7b67-4e73-869f-75d5e64f9a12"
      },
      "source": [
        "# generating the lower triangle correlation to see the correlation\n",
        "mask = np.zeros_like(corr_df) # generate an array of zeros same as corr_df\n",
        "\n",
        "mask[np.triu_indices_from(mask)] = True # mask upper triangle\n",
        "sns.heatmap(corr_df, cmap='RdYlGn', vmax=1.0, vmin=-1.0 , mask = mask, linewidths=2.5)\n",
        "plt.yticks(rotation=0) \n",
        "plt.xticks(rotation=90) \n",
        "plt.show()"
      ],
      "execution_count": 32,
      "outputs": [
        {
          "output_type": "display_data",
          "data": {
            "image/png": "[encoded data removed]",
            "text/plain": [
              "<Figure size 432x288 with 2 Axes>"
            ]
          },
          "metadata": {
            "tags": [],
            "needs_background": "light"
          }
        }
      ]
    },
    {
      "cell_type": "markdown",
      "metadata": {
        "id": "4ogNzleqqQWS"
      },
      "source": [
        "lagged cosscorrelation"
      ]
    },
    {
      "cell_type": "code",
      "metadata": {
        "id": "dunb-ycuk2Kf"
      },
      "source": [
        "# crosscorr is used to find the correlation of companies with a lag of lag days \n",
        "def crosscorr(companyx, companyy, lag=0):\n",
        "    \"\"\"\n",
        "    lag is the no of days it is lagged\n",
        "    \"\"\"\n",
        "    return companyx.corr(companyy.shift(lag))"
      ],
      "execution_count": 33,
      "outputs": []
    },
    {
      "cell_type": "markdown",
      "metadata": {
        "id": "w87dXMwODKDX"
      },
      "source": [
        "calculating the correlation between two different companies"
      ]
    },
    {
      "cell_type": "code",
      "metadata": {
        "id": "pRp5jVGtlMja"
      },
      "source": [
        " #finding the correlation between two companies\n",
        " companyx='BRK-A'\n",
        " companyy ='BRK-B'\n",
        " xcrosscorr_days = [crosscorr(df_dict[ companyx]['percentage Change'], df_dict[ companyy]['percentage Change'], lag=i) for i in range(0,100)]"
      ],
      "execution_count": 34,
      "outputs": []
    },
    {
      "cell_type": "code",
      "metadata": {
        "colab": {
          "base_uri": "https://localhost:8080/"
        },
        "id": "_ZVUSESPlbmL",
        "outputId": "30a7bf4f-afb2-4338-8bd9-9f691a6cdb6f"
      },
      "source": [
        "max_value = max( xcrosscorr_days)\n",
        "print(\"The highest corelation on between \",yf.Ticker( companyx).info['longName'] ,\"and\", yf.Ticker( companyy).info['longName'],\"is\",max_value)"
      ],
      "execution_count": 35,
      "outputs": [
        {
          "output_type": "stream",
          "text": [
            "The highest corelation on between  Berkshire Hathaway Inc. and Berkshire Hathaway Inc. is 0.9718066547973372\n"
          ],
          "name": "stdout"
        }
      ]
    },
    {
      "cell_type": "code",
      "metadata": {
        "colab": {
          "base_uri": "https://localhost:8080/"
        },
        "id": "r6ruZKtzpDnM",
        "outputId": "a9707288-5865-4f7c-d4a6-7ca9eab47387"
      },
      "source": [
        " max_index =  xcrosscorr_days.index(max_value)\n",
        "print(\"The highest corelation lag days between \",yf.Ticker( companyx).info['longName'] ,\"and\", yf.Ticker( companyy).info['longName'],\"is\",max_index)"
      ],
      "execution_count": 36,
      "outputs": [
        {
          "output_type": "stream",
          "text": [
            "The highest corelation lag days between  Berkshire Hathaway Inc. and Berkshire Hathaway Inc. is 0\n"
          ],
          "name": "stdout"
        }
      ]
    },
    {
      "cell_type": "code",
      "metadata": {
        "colab": {
          "base_uri": "https://localhost:8080/",
          "height": 708
        },
        "id": "OU-a-NlthU65",
        "outputId": "89318b9b-bcef-46fa-8764-cbf2b5f029c7"
      },
      "source": [
        "print(\"stock_price_from_correlation, actual stock price\")\n",
        "\n",
        "x = []\n",
        "y = []\n",
        "for i in range(2,100):\n",
        "  percentage_change = df_corr[ companyy]['percentage Change'][i]\n",
        "  stock_price_previous_day = df_dict[ companyx]['Close'][i-1]\n",
        "  stock_price_previous_day = stock_price_previous_day + stock_price_previous_day*max_value* percentage_change \n",
        "  x.append(stock_price_previous_day)\n",
        "  y.append(df_dict[ companyx]['Close'][i])\n",
        "  \n",
        " \n",
        "plt.plot(x, label = \"predicted stock price by correlation\")\n",
        "plt.plot(y, label = \"actual stock price\")\n",
        "plt.xlabel(\"Days\")\n",
        "plt.ylabel(\"Stock Price\")\n",
        "plt.text(80, 160,  companyx , style='italic',\n",
        "        bbox={'facecolor':'red', 'alpha':0.5, 'pad':10})\n",
        "plt.legend()\n",
        "plt.show()\n"
      ],
      "execution_count": 37,
      "outputs": [
        {
          "output_type": "stream",
          "text": [
            "stock_price_from_correlation, actual stock price\n"
          ],
          "name": "stdout"
        },
        {
          "output_type": "display_data",
          "data": {
            "image/png": "[encoded data removed]",
            "text/plain": [
              "<Figure size 432x288 with 1 Axes>"
            ]
          },
          "metadata": {
            "tags": [],
            "needs_background": "light"
          }
        }
      ]
    },
    {
      "cell_type": "code",
      "metadata": {
        "id": "RegS3qcJhVC4"
      },
      "source": [
        ""
      ],
      "execution_count": 37,
      "outputs": []
    },
    {
      "cell_type": "code",
      "metadata": {
        "id": "GpwUxjikhVLY"
      },
      "source": [
        ""
      ],
      "execution_count": 37,
      "outputs": []
    }
  ]
}