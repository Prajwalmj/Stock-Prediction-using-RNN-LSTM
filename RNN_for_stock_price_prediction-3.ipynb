{
  "nbformat": 4,
  "nbformat_minor": 0,
  "metadata": {
    "colab": {
      "name": "RNN for stock price prediction.ipynb",
      "provenance": [],
      "collapsed_sections": []
    },
    "kernelspec": {
      "name": "python3",
      "display_name": "Python 3"
    },
    "language_info": {
      "name": "python"
    },
    "accelerator": "GPU"
  },
  "cells": [
    {
      "cell_type": "markdown",
      "metadata": {
        "id": "QLOcqCi_xUV0"
      },
      "source": [
        "Import Required libraries"
      ]
    },
    {
      "cell_type": "code",
      "metadata": {
        "colab": {
          "base_uri": "https://localhost:8080/"
        },
        "id": "GMV40IwPvM00",
        "outputId": "f31ec9b9-d6a0-4ffa-be7c-c838f138ee49"
      },
      "source": [
        "#install the yahoo finance  \n",
        "!pip install yfinance --upgrade --no-cache-dir"
      ],
      "execution_count": 1,
      "outputs": [
        {
          "output_type": "stream",
          "text": [
            "Collecting yfinance\n",
            "  Downloading https://files.pythonhosted.org/packages/a7/ee/315752b9ef281ba83c62aa7ec2e2074f85223da6e7e74efb4d3e11c0f510/yfinance-0.1.59.tar.gz\n",
            "Requirement already satisfied, skipping upgrade: pandas>=0.24 in /usr/local/lib/python3.7/dist-packages (from yfinance) (1.1.5)\n",
            "Requirement already satisfied, skipping upgrade: numpy>=1.15 in /usr/local/lib/python3.7/dist-packages (from yfinance) (1.19.5)\n",
            "Requirement already satisfied, skipping upgrade: requests>=2.20 in /usr/local/lib/python3.7/dist-packages (from yfinance) (2.23.0)\n",
            "Requirement already satisfied, skipping upgrade: multitasking>=0.0.7 in /usr/local/lib/python3.7/dist-packages (from yfinance) (0.0.9)\n",
            "Collecting lxml>=4.5.1\n",
            "\u001b[?25l  Downloading https://files.pythonhosted.org/packages/30/c0/d0526314971fc661b083ab135747dc68446a3022686da8c16d25fcf6ef07/lxml-4.6.3-cp37-cp37m-manylinux2014_x86_64.whl (6.3MB)\n",
            "\u001b[K     |████████████████████████████████| 6.3MB 13.2MB/s \n",
            "\u001b[?25hRequirement already satisfied, skipping upgrade: pytz>=2017.2 in /usr/local/lib/python3.7/dist-packages (from pandas>=0.24->yfinance) (2018.9)\n",
            "Requirement already satisfied, skipping upgrade: python-dateutil>=2.7.3 in /usr/local/lib/python3.7/dist-packages (from pandas>=0.24->yfinance) (2.8.1)\n",
            "Requirement already satisfied, skipping upgrade: idna<3,>=2.5 in /usr/local/lib/python3.7/dist-packages (from requests>=2.20->yfinance) (2.10)\n",
            "Requirement already satisfied, skipping upgrade: urllib3!=1.25.0,!=1.25.1,<1.26,>=1.21.1 in /usr/local/lib/python3.7/dist-packages (from requests>=2.20->yfinance) (1.24.3)\n",
            "Requirement already satisfied, skipping upgrade: chardet<4,>=3.0.2 in /usr/local/lib/python3.7/dist-packages (from requests>=2.20->yfinance) (3.0.4)\n",
            "Requirement already satisfied, skipping upgrade: certifi>=2017.4.17 in /usr/local/lib/python3.7/dist-packages (from requests>=2.20->yfinance) (2020.12.5)\n",
            "Requirement already satisfied, skipping upgrade: six>=1.5 in /usr/local/lib/python3.7/dist-packages (from python-dateutil>=2.7.3->pandas>=0.24->yfinance) (1.15.0)\n",
            "Building wheels for collected packages: yfinance\n",
            "  Building wheel for yfinance (setup.py) ... \u001b[?25l\u001b[?25hdone\n",
            "  Created wheel for yfinance: filename=yfinance-0.1.59-py2.py3-none-any.whl size=23442 sha256=a730408e3e6e3ab0c96acf3042eaa0d1e148c83fd31be44331a0b1b716c8b8be\n",
            "  Stored in directory: /tmp/pip-ephem-wheel-cache-5ju1d79u/wheels/f8/2a/0f/4b5a86e1d52e451757eb6bc17fd899629f0925c777741b6d04\n",
            "Successfully built yfinance\n",
            "Installing collected packages: lxml, yfinance\n",
            "  Found existing installation: lxml 4.2.6\n",
            "    Uninstalling lxml-4.2.6:\n",
            "      Successfully uninstalled lxml-4.2.6\n",
            "Successfully installed lxml-4.6.3 yfinance-0.1.59\n"
          ],
          "name": "stdout"
        }
      ]
    },
    {
      "cell_type": "code",
      "metadata": {
        "colab": {
          "base_uri": "https://localhost:8080/"
        },
        "id": "MWE5jY0YvRk2",
        "outputId": "b8310575-faa4-427d-e2b8-0306a837e477"
      },
      "source": [
        "!pip install -U \"scikit-learn==0.24\""
      ],
      "execution_count": 2,
      "outputs": [
        {
          "output_type": "stream",
          "text": [
            "Collecting scikit-learn==0.24\n",
            "\u001b[?25l  Downloading https://files.pythonhosted.org/packages/b1/ed/ab51a8da34d2b3f4524b21093081e7f9e2ddf1c9eac9f795dcf68ad0a57d/scikit_learn-0.24.0-cp37-cp37m-manylinux2010_x86_64.whl (22.3MB)\n",
            "\u001b[K     |████████████████████████████████| 22.3MB 1.6MB/s \n",
            "\u001b[?25hCollecting threadpoolctl>=2.0.0\n",
            "  Downloading https://files.pythonhosted.org/packages/f7/12/ec3f2e203afa394a149911729357aa48affc59c20e2c1c8297a60f33f133/threadpoolctl-2.1.0-py3-none-any.whl\n",
            "Requirement already satisfied, skipping upgrade: scipy>=0.19.1 in /usr/local/lib/python3.7/dist-packages (from scikit-learn==0.24) (1.4.1)\n",
            "Requirement already satisfied, skipping upgrade: numpy>=1.13.3 in /usr/local/lib/python3.7/dist-packages (from scikit-learn==0.24) (1.19.5)\n",
            "Requirement already satisfied, skipping upgrade: joblib>=0.11 in /usr/local/lib/python3.7/dist-packages (from scikit-learn==0.24) (1.0.1)\n",
            "Installing collected packages: threadpoolctl, scikit-learn\n",
            "  Found existing installation: scikit-learn 0.22.2.post1\n",
            "    Uninstalling scikit-learn-0.22.2.post1:\n",
            "      Successfully uninstalled scikit-learn-0.22.2.post1\n",
            "Successfully installed scikit-learn-0.24.0 threadpoolctl-2.1.0\n"
          ],
          "name": "stdout"
        }
      ]
    },
    {
      "cell_type": "code",
      "metadata": {
        "id": "gq212vklvTrS"
      },
      "source": [
        "from pandas_datareader import data as pdr\n",
        "from datetime import date\n",
        "import yfinance as yf\n",
        "yf.pdr_override()\n",
        "import numpy as np\n",
        "np.random.seed(7)\n",
        "import pandas as pd\n",
        "import math\n",
        "import numpy as np\n",
        "from keras.models import Sequential\n",
        "from keras.layers import Activation, SimpleRNN,Dense,Dropout\n",
        "from keras import optimizers\n",
        "from sklearn.metrics import mean_squared_error\n",
        "from math import sqrt\n",
        "from sklearn.metrics import r2_score\n",
        "from keras.layers.recurrent import LSTM\n",
        "from sklearn.metrics import accuracy_score\n",
        "import os.path\n",
        "from os import path\n",
        "import numpy\n",
        "import matplotlib.pyplot as plt\n",
        "from sklearn.preprocessing import MinMaxScaler\n",
        "from numpy import array\n",
        "from sklearn.metrics import mean_absolute_percentage_error\n",
        "import keras\n",
        "keras.backend.set_epsilon(1)"
      ],
      "execution_count": 3,
      "outputs": []
    },
    {
      "cell_type": "markdown",
      "metadata": {
        "id": "YzFs9RC_xd_S"
      },
      "source": [
        "Collect the data"
      ]
    },
    {
      "cell_type": "code",
      "metadata": {
        "colab": {
          "base_uri": "https://localhost:8080/"
        },
        "id": "zbUKICmE0Q9n",
        "outputId": "21e6f6cf-9f4b-4938-ae75-cd11d827f7bc"
      },
      "source": [
        "#https://finance.yahoo.com/sector/ms_financial_services\n",
        "ticker_list=['BRK-B','BRK-A','MSFT','AAPL','FB','JPM']\n",
        "today = date.today()\n",
        "l = len(ticker_list)\n",
        "df_dict = {} # creating a dictionay for the data\n",
        "files=[]\n",
        "sector=[]\n",
        "for i in range(0,l):\n",
        "  sector = yf.Ticker(ticker_list[i]).info['sector']\n",
        "  if path.exists('./'+sector) == False:\n",
        "    os.mkdir('./'+sector)\n",
        "  else:\n",
        "    print(\"folder already exist\");\n",
        "# we are getting the data with a start and end\n",
        "def getData(ticker):\n",
        "  print(ticker)\n",
        "  data = pdr.get_data_yahoo(ticker, start=\"2020-01-01\", end=\"2021-05-17\")\n",
        "  df_dict[ticker] = data # storing the data frames in the dictionary\n",
        "  dataname= ticker+'_'+str(today)\n",
        "  files.append(dataname)\n",
        "  SaveData(data, dataname,yf.Ticker(ticker).info['sector'])\n",
        "\n",
        "# we are having the data based on the sector of the company\n",
        "  \n",
        "def SaveData(df, filename,sector):\n",
        "  if (sector == 'Financial Services'):\n",
        "    df.to_csv('./Financial Services/'+filename+'.csv')\n",
        "  elif (sector == 'Technology'):\n",
        "    df.to_csv('./Technology/'+filename+'.csv')\n",
        "  elif (sector == 'Communication Services'):\n",
        "    df.to_csv('./Communication Services/'+filename+'.csv')\n",
        "  else:\n",
        "    print(\"sector is not being considered\");\n",
        "\n",
        "for ticker in ticker_list:\n",
        "  getData(ticker)\n"
      ],
      "execution_count": 4,
      "outputs": [
        {
          "output_type": "stream",
          "text": [
            "folder already exist\n",
            "folder already exist\n",
            "folder already exist\n",
            "BRK-B\n",
            "[*********************100%***********************]  1 of 1 completed\n",
            "BRK-A\n",
            "[*********************100%***********************]  1 of 1 completed\n",
            "MSFT\n",
            "[*********************100%***********************]  1 of 1 completed\n",
            "AAPL\n",
            "[*********************100%***********************]  1 of 1 completed\n",
            "FB\n",
            "[*********************100%***********************]  1 of 1 completed\n",
            "JPM\n",
            "[*********************100%***********************]  1 of 1 completed\n"
          ],
          "name": "stdout"
        }
      ]
    },
    {
      "cell_type": "markdown",
      "metadata": {
        "id": "NJcWzvYyxhtp"
      },
      "source": [
        "Preprocess the data"
      ]
    },
    {
      "cell_type": "code",
      "metadata": {
        "colab": {
          "base_uri": "https://localhost:8080/"
        },
        "id": "uZ9FQdJtXmfj",
        "outputId": "9c80f6b9-4d00-45be-831d-8eb295b3e912"
      },
      "source": [
        "\n",
        "# finding the features with highest correlation with the close feature\n",
        "company = 'JPM'\n",
        "df_dict[company].corr()['Adj Close']"
      ],
      "execution_count": 5,
      "outputs": [
        {
          "output_type": "execute_result",
          "data": {
            "text/plain": [
              "Open         0.994448\n",
              "High         0.996137\n",
              "Low          0.996081\n",
              "Close        0.997893\n",
              "Adj Close    1.000000\n",
              "Volume      -0.437272\n",
              "Name: Adj Close, dtype: float64"
            ]
          },
          "metadata": {
            "tags": []
          },
          "execution_count": 5
        }
      ]
    },
    {
      "cell_type": "code",
      "metadata": {
        "colab": {
          "base_uri": "https://localhost:8080/",
          "height": 235
        },
        "id": "cN-uk72I5f3Q",
        "outputId": "a49c6cbc-029b-413f-d3d9-9c7ddbe8d578"
      },
      "source": [
        "\n",
        "df_dict[company].head()"
      ],
      "execution_count": 6,
      "outputs": [
        {
          "output_type": "execute_result",
          "data": {
            "text/html": [
              "<div>\n",
              "<style scoped>\n",
              "    .dataframe tbody tr th:only-of-type {\n",
              "        vertical-align: middle;\n",
              "    }\n",
              "\n",
              "    .dataframe tbody tr th {\n",
              "        vertical-align: top;\n",
              "    }\n",
              "\n",
              "    .dataframe thead th {\n",
              "        text-align: right;\n",
              "    }\n",
              "</style>\n",
              "<table border=\"1\" class=\"dataframe\">\n",
              "  <thead>\n",
              "    <tr style=\"text-align: right;\">\n",
              "      <th></th>\n",
              "      <th>Open</th>\n",
              "      <th>High</th>\n",
              "      <th>Low</th>\n",
              "      <th>Close</th>\n",
              "      <th>Adj Close</th>\n",
              "      <th>Volume</th>\n",
              "    </tr>\n",
              "    <tr>\n",
              "      <th>Date</th>\n",
              "      <th></th>\n",
              "      <th></th>\n",
              "      <th></th>\n",
              "      <th></th>\n",
              "      <th></th>\n",
              "      <th></th>\n",
              "    </tr>\n",
              "  </thead>\n",
              "  <tbody>\n",
              "    <tr>\n",
              "      <th>2020-01-02</th>\n",
              "      <td>139.789993</td>\n",
              "      <td>141.100006</td>\n",
              "      <td>139.259995</td>\n",
              "      <td>141.089996</td>\n",
              "      <td>134.380966</td>\n",
              "      <td>10803700</td>\n",
              "    </tr>\n",
              "    <tr>\n",
              "      <th>2020-01-03</th>\n",
              "      <td>137.500000</td>\n",
              "      <td>139.229996</td>\n",
              "      <td>137.080002</td>\n",
              "      <td>138.339996</td>\n",
              "      <td>132.607590</td>\n",
              "      <td>10386800</td>\n",
              "    </tr>\n",
              "    <tr>\n",
              "      <th>2020-01-06</th>\n",
              "      <td>136.559998</td>\n",
              "      <td>138.270004</td>\n",
              "      <td>136.500000</td>\n",
              "      <td>138.229996</td>\n",
              "      <td>132.502167</td>\n",
              "      <td>10259000</td>\n",
              "    </tr>\n",
              "    <tr>\n",
              "      <th>2020-01-07</th>\n",
              "      <td>137.279999</td>\n",
              "      <td>137.860001</td>\n",
              "      <td>135.820007</td>\n",
              "      <td>135.880005</td>\n",
              "      <td>130.249542</td>\n",
              "      <td>10531300</td>\n",
              "    </tr>\n",
              "    <tr>\n",
              "      <th>2020-01-08</th>\n",
              "      <td>135.699997</td>\n",
              "      <td>137.580002</td>\n",
              "      <td>135.600006</td>\n",
              "      <td>136.940002</td>\n",
              "      <td>131.265610</td>\n",
              "      <td>9695300</td>\n",
              "    </tr>\n",
              "  </tbody>\n",
              "</table>\n",
              "</div>"
            ],
            "text/plain": [
              "                  Open        High  ...   Adj Close    Volume\n",
              "Date                                ...                      \n",
              "2020-01-02  139.789993  141.100006  ...  134.380966  10803700\n",
              "2020-01-03  137.500000  139.229996  ...  132.607590  10386800\n",
              "2020-01-06  136.559998  138.270004  ...  132.502167  10259000\n",
              "2020-01-07  137.279999  137.860001  ...  130.249542  10531300\n",
              "2020-01-08  135.699997  137.580002  ...  131.265610   9695300\n",
              "\n",
              "[5 rows x 6 columns]"
            ]
          },
          "metadata": {
            "tags": []
          },
          "execution_count": 6
        }
      ]
    },
    {
      "cell_type": "code",
      "metadata": {
        "colab": {
          "base_uri": "https://localhost:8080/",
          "height": 419
        },
        "id": "u_gReNTu0kgk",
        "outputId": "df546ad4-1b6c-455e-91d7-439204ffd20d"
      },
      "source": [
        "# we are considering a subset of company featues but we can consider only positively correlated features\n",
        "df=df_dict[company].reset_index()[['Adj Close', 'Close']]\n",
        "df"
      ],
      "execution_count": 7,
      "outputs": [
        {
          "output_type": "execute_result",
          "data": {
            "text/html": [
              "<div>\n",
              "<style scoped>\n",
              "    .dataframe tbody tr th:only-of-type {\n",
              "        vertical-align: middle;\n",
              "    }\n",
              "\n",
              "    .dataframe tbody tr th {\n",
              "        vertical-align: top;\n",
              "    }\n",
              "\n",
              "    .dataframe thead th {\n",
              "        text-align: right;\n",
              "    }\n",
              "</style>\n",
              "<table border=\"1\" class=\"dataframe\">\n",
              "  <thead>\n",
              "    <tr style=\"text-align: right;\">\n",
              "      <th></th>\n",
              "      <th>Adj Close</th>\n",
              "      <th>Close</th>\n",
              "    </tr>\n",
              "  </thead>\n",
              "  <tbody>\n",
              "    <tr>\n",
              "      <th>0</th>\n",
              "      <td>134.380966</td>\n",
              "      <td>141.089996</td>\n",
              "    </tr>\n",
              "    <tr>\n",
              "      <th>1</th>\n",
              "      <td>132.607590</td>\n",
              "      <td>138.339996</td>\n",
              "    </tr>\n",
              "    <tr>\n",
              "      <th>2</th>\n",
              "      <td>132.502167</td>\n",
              "      <td>138.229996</td>\n",
              "    </tr>\n",
              "    <tr>\n",
              "      <th>3</th>\n",
              "      <td>130.249542</td>\n",
              "      <td>135.880005</td>\n",
              "    </tr>\n",
              "    <tr>\n",
              "      <th>4</th>\n",
              "      <td>131.265610</td>\n",
              "      <td>136.940002</td>\n",
              "    </tr>\n",
              "    <tr>\n",
              "      <th>...</th>\n",
              "      <td>...</td>\n",
              "      <td>...</td>\n",
              "    </tr>\n",
              "    <tr>\n",
              "      <th>340</th>\n",
              "      <td>161.220001</td>\n",
              "      <td>161.220001</td>\n",
              "    </tr>\n",
              "    <tr>\n",
              "      <th>341</th>\n",
              "      <td>158.539993</td>\n",
              "      <td>158.539993</td>\n",
              "    </tr>\n",
              "    <tr>\n",
              "      <th>342</th>\n",
              "      <td>157.449997</td>\n",
              "      <td>157.449997</td>\n",
              "    </tr>\n",
              "    <tr>\n",
              "      <th>343</th>\n",
              "      <td>161.500000</td>\n",
              "      <td>161.500000</td>\n",
              "    </tr>\n",
              "    <tr>\n",
              "      <th>344</th>\n",
              "      <td>164.009995</td>\n",
              "      <td>164.009995</td>\n",
              "    </tr>\n",
              "  </tbody>\n",
              "</table>\n",
              "<p>345 rows × 2 columns</p>\n",
              "</div>"
            ],
            "text/plain": [
              "      Adj Close       Close\n",
              "0    134.380966  141.089996\n",
              "1    132.607590  138.339996\n",
              "2    132.502167  138.229996\n",
              "3    130.249542  135.880005\n",
              "4    131.265610  136.940002\n",
              "..          ...         ...\n",
              "340  161.220001  161.220001\n",
              "341  158.539993  158.539993\n",
              "342  157.449997  157.449997\n",
              "343  161.500000  161.500000\n",
              "344  164.009995  164.009995\n",
              "\n",
              "[345 rows x 2 columns]"
            ]
          },
          "metadata": {
            "tags": []
          },
          "execution_count": 7
        }
      ]
    },
    {
      "cell_type": "code",
      "metadata": {
        "colab": {
          "base_uri": "https://localhost:8080/",
          "height": 299
        },
        "id": "ij_oCMqa0j94",
        "outputId": "97325553-5766-444c-f5d3-47e306bbfb6a"
      },
      "source": [
        "import matplotlib.pyplot as plt\n",
        "plt.plot(df)"
      ],
      "execution_count": 8,
      "outputs": [
        {
          "output_type": "execute_result",
          "data": {
            "text/plain": [
              "[<matplotlib.lines.Line2D at 0x7fc3c7094990>,\n",
              " <matplotlib.lines.Line2D at 0x7fc3c7094bd0>]"
            ]
          },
          "metadata": {
            "tags": []
          },
          "execution_count": 8
        },
        {
          "output_type": "display_data",
          "data": {
            "image/png": "[encoded data removed]",
            "text/plain": [
              "<Figure size 432x288 with 1 Axes>"
            ]
          },
          "metadata": {
            "tags": [],
            "needs_background": "light"
          }
        }
      ]
    },
    {
      "cell_type": "code",
      "metadata": {
        "id": "7T11CXNK1G5e"
      },
      "source": [
        "\n",
        "#normalize the data using minMaxScalar\n",
        "from sklearn.preprocessing import MinMaxScaler\n",
        "scaler=MinMaxScaler(feature_range=(0,1))\n",
        "df=scaler.fit_transform(np.array(df).reshape(-1,1))"
      ],
      "execution_count": 9,
      "outputs": []
    },
    {
      "cell_type": "code",
      "metadata": {
        "id": "ZmzoAmXd1G9e"
      },
      "source": [
        "#split dataset into train and test \n",
        "split = 0.80\n",
        "training_size=int(len(df)*split)\n",
        "test_size=len(df)-training_size\n",
        "train_data,test_data=df[0:training_size,:],df[training_size:len(df),:1]"
      ],
      "execution_count": 10,
      "outputs": []
    },
    {
      "cell_type": "code",
      "metadata": {
        "colab": {
          "base_uri": "https://localhost:8080/"
        },
        "id": "iHqSsp5N1HDI",
        "outputId": "83aacc77-bbc9-4ec2-a1f0-2c2ba31ce539"
      },
      "source": [
        "training_size,test_size"
      ],
      "execution_count": 11,
      "outputs": [
        {
          "output_type": "execute_result",
          "data": {
            "text/plain": [
              "(552, 138)"
            ]
          },
          "metadata": {
            "tags": []
          },
          "execution_count": 11
        }
      ]
    },
    {
      "cell_type": "code",
      "metadata": {
        "id": "mJluDBsYdhro"
      },
      "source": [
        "# converting data into the time_step data\n",
        "def timestep_data(dataset, time_step=1):\n",
        "\tdata_input, data_output = [], []\n",
        "\tfor i in range(len(dataset)-time_step-1):\n",
        "\t\tdata1 = dataset[i:(i+time_step), 0]   \n",
        "\t\tdata_input.append(data1)\n",
        "\t\tdata_output.append(dataset[i + time_step, 0])\n",
        "\treturn np.array(data_input), np.array(data_output)"
      ],
      "execution_count": 12,
      "outputs": []
    },
    {
      "cell_type": "code",
      "metadata": {
        "id": "mRhneIna3UHa"
      },
      "source": [
        "# we take a previous memory i.e set to values without dependence on the data here it is 30\n",
        "time_step = 30\n",
        "x_train, y_train = timestep_data(train_data, time_step)\n",
        "x_test, y_test = timestep_data(test_data, time_step)"
      ],
      "execution_count": 13,
      "outputs": []
    },
    {
      "cell_type": "code",
      "metadata": {
        "colab": {
          "base_uri": "https://localhost:8080/"
        },
        "id": "qR_cTmOXeBQ1",
        "outputId": "cf6a5a4f-73bd-4a5c-a680-d4ff6a1b8a23"
      },
      "source": [
        "print(\"x_train shape \",x_train.shape,\"y_train shape\", y_train.shape,\"x_test shape\",x_test.shape,\"y_test shape\",y_test.shape)"
      ],
      "execution_count": 14,
      "outputs": [
        {
          "output_type": "stream",
          "text": [
            "x_train shape  (521, 30) y_train shape (521,) x_test shape (107, 30) y_test shape (107,)\n"
          ],
          "name": "stdout"
        }
      ]
    },
    {
      "cell_type": "code",
      "metadata": {
        "id": "Cbij4x-T3grs"
      },
      "source": [
        "#reshape the data before sending it ot the model\n",
        "\n",
        "x_train =x_train.reshape(x_train.shape[0],x_train.shape[1] , 1)\n",
        "x_test = x_test.reshape(x_test.shape[0],x_test.shape[1] , 1)"
      ],
      "execution_count": 15,
      "outputs": []
    },
    {
      "cell_type": "code",
      "metadata": {
        "id": "XsKExdxESYPG"
      },
      "source": [
        "#hyperparameters\n",
        "lr = 1e-3\n",
        "batch_size = 64\n",
        "num_epochs = 250\n",
        "hl = [50,45]"
      ],
      "execution_count": 16,
      "outputs": []
    },
    {
      "cell_type": "markdown",
      "metadata": {
        "id": "9b4zK64DxyDR"
      },
      "source": [
        "Model"
      ]
    },
    {
      "cell_type": "code",
      "metadata": {
        "id": "e0oVir9-3gzD"
      },
      "source": [
        "# for rnn model \n",
        "model = Sequential()\n",
        "model.add(SimpleRNN(x_train.shape[2],input_shape = (x_train.shape[1],x_train.shape[2]),return_sequences = True,\n",
        "                        activation = 'relu'))\n",
        "for i in range(len(hl)-1):        \n",
        "  model.add(SimpleRNN(hl[i],activation = 'relu',return_sequences = True))\n",
        "\n",
        "model.add(SimpleRNN(hl[-1],activation = 'relu'))\n",
        "model.add(Dense(1))\n",
        "model.compile(optimizer = optimizers.Adam(lr = lr), loss = 'mean_squared_error' )\n",
        "\n",
        "\n",
        "\n"
      ],
      "execution_count": 17,
      "outputs": []
    },
    {
      "cell_type": "code",
      "metadata": {
        "colab": {
          "base_uri": "https://localhost:8080/"
        },
        "id": "bKzB-chW3g6d",
        "outputId": "9943732d-dda2-4d96-8255-19056894b941"
      },
      "source": [
        "history = model.fit(x_train,y_train,validation_data=(x_test,y_test),epochs=num_epochs,batch_size=batch_size,verbose=1)"
      ],
      "execution_count": 18,
      "outputs": [
        {
          "output_type": "stream",
          "text": [
            "Epoch 1/250\n",
            "9/9 [==============================] - 5s 123ms/step - loss: 3.2135 - val_loss: 2.8068\n",
            "Epoch 2/250\n",
            "9/9 [==============================] - 0s 49ms/step - loss: 0.2946 - val_loss: 0.4136\n",
            "Epoch 3/250\n",
            "9/9 [==============================] - 0s 55ms/step - loss: 0.0492 - val_loss: 0.0253\n",
            "Epoch 4/250\n",
            "9/9 [==============================] - 0s 51ms/step - loss: 0.0174 - val_loss: 0.0106\n",
            "Epoch 5/250\n",
            "9/9 [==============================] - 0s 50ms/step - loss: 0.0131 - val_loss: 0.0142\n",
            "Epoch 6/250\n",
            "9/9 [==============================] - 0s 50ms/step - loss: 0.0091 - val_loss: 0.0212\n",
            "Epoch 7/250\n",
            "9/9 [==============================] - 0s 52ms/step - loss: 0.0082 - val_loss: 0.0090\n",
            "Epoch 8/250\n",
            "9/9 [==============================] - 0s 50ms/step - loss: 0.0075 - val_loss: 0.0041\n",
            "Epoch 9/250\n",
            "9/9 [==============================] - 0s 51ms/step - loss: 0.0072 - val_loss: 0.0048\n",
            "Epoch 10/250\n",
            "9/9 [==============================] - 0s 50ms/step - loss: 0.0071 - val_loss: 0.0028\n",
            "Epoch 11/250\n",
            "9/9 [==============================] - 0s 53ms/step - loss: 0.0064 - val_loss: 0.0012\n",
            "Epoch 12/250\n",
            "9/9 [==============================] - 0s 53ms/step - loss: 0.0069 - val_loss: 0.0012\n",
            "Epoch 13/250\n",
            "9/9 [==============================] - 0s 52ms/step - loss: 0.0066 - val_loss: 0.0030\n",
            "Epoch 14/250\n",
            "9/9 [==============================] - 0s 53ms/step - loss: 0.0061 - val_loss: 0.0016\n",
            "Epoch 15/250\n",
            "9/9 [==============================] - 0s 52ms/step - loss: 0.0058 - val_loss: 0.0012\n",
            "Epoch 16/250\n",
            "9/9 [==============================] - 0s 51ms/step - loss: 0.0067 - val_loss: 0.0022\n",
            "Epoch 17/250\n",
            "9/9 [==============================] - 0s 53ms/step - loss: 0.0055 - val_loss: 0.0022\n",
            "Epoch 18/250\n",
            "9/9 [==============================] - 0s 50ms/step - loss: 0.0055 - val_loss: 0.0092\n",
            "Epoch 19/250\n",
            "9/9 [==============================] - 0s 56ms/step - loss: 0.0055 - val_loss: 0.0042\n",
            "Epoch 20/250\n",
            "9/9 [==============================] - 0s 50ms/step - loss: 0.0055 - val_loss: 0.0015\n",
            "Epoch 21/250\n",
            "9/9 [==============================] - 0s 51ms/step - loss: 0.0053 - val_loss: 0.0015\n",
            "Epoch 22/250\n",
            "9/9 [==============================] - 0s 51ms/step - loss: 0.0050 - val_loss: 0.0127\n",
            "Epoch 23/250\n",
            "9/9 [==============================] - 0s 51ms/step - loss: 0.0067 - val_loss: 0.0027\n",
            "Epoch 24/250\n",
            "9/9 [==============================] - 0s 53ms/step - loss: 0.0055 - val_loss: 0.0017\n",
            "Epoch 25/250\n",
            "9/9 [==============================] - 0s 51ms/step - loss: 0.0062 - val_loss: 0.0017\n",
            "Epoch 26/250\n",
            "9/9 [==============================] - 0s 53ms/step - loss: 0.0053 - val_loss: 0.0017\n",
            "Epoch 27/250\n",
            "9/9 [==============================] - 0s 51ms/step - loss: 0.0054 - val_loss: 0.0019\n",
            "Epoch 28/250\n",
            "9/9 [==============================] - 0s 53ms/step - loss: 0.0051 - val_loss: 0.0011\n",
            "Epoch 29/250\n",
            "9/9 [==============================] - 0s 54ms/step - loss: 0.0058 - val_loss: 0.0011\n",
            "Epoch 30/250\n",
            "9/9 [==============================] - 0s 51ms/step - loss: 0.0050 - val_loss: 0.0042\n",
            "Epoch 31/250\n",
            "9/9 [==============================] - 0s 52ms/step - loss: 0.0060 - val_loss: 0.0057\n",
            "Epoch 32/250\n",
            "9/9 [==============================] - 0s 52ms/step - loss: 0.0063 - val_loss: 0.0013\n",
            "Epoch 33/250\n",
            "9/9 [==============================] - 0s 55ms/step - loss: 0.0058 - val_loss: 0.0076\n",
            "Epoch 34/250\n",
            "9/9 [==============================] - 0s 55ms/step - loss: 0.0053 - val_loss: 0.0031\n",
            "Epoch 35/250\n",
            "9/9 [==============================] - 0s 52ms/step - loss: 0.0050 - val_loss: 0.0013\n",
            "Epoch 36/250\n",
            "9/9 [==============================] - 0s 52ms/step - loss: 0.0054 - val_loss: 0.0012\n",
            "Epoch 37/250\n",
            "9/9 [==============================] - 0s 51ms/step - loss: 0.0052 - val_loss: 0.0028\n",
            "Epoch 38/250\n",
            "9/9 [==============================] - 0s 56ms/step - loss: 0.0048 - val_loss: 0.0074\n",
            "Epoch 39/250\n",
            "9/9 [==============================] - 0s 51ms/step - loss: 0.0048 - val_loss: 0.0164\n",
            "Epoch 40/250\n",
            "9/9 [==============================] - 0s 53ms/step - loss: 0.0052 - val_loss: 0.0242\n",
            "Epoch 41/250\n",
            "9/9 [==============================] - 0s 50ms/step - loss: 0.0062 - val_loss: 0.0106\n",
            "Epoch 42/250\n",
            "9/9 [==============================] - 0s 51ms/step - loss: 0.0053 - val_loss: 0.0013\n",
            "Epoch 43/250\n",
            "9/9 [==============================] - 0s 52ms/step - loss: 0.0051 - val_loss: 0.0015\n",
            "Epoch 44/250\n",
            "9/9 [==============================] - 0s 51ms/step - loss: 0.0041 - val_loss: 0.0148\n",
            "Epoch 45/250\n",
            "9/9 [==============================] - 0s 52ms/step - loss: 0.0048 - val_loss: 0.0131\n",
            "Epoch 46/250\n",
            "9/9 [==============================] - 0s 49ms/step - loss: 0.0049 - val_loss: 0.0032\n",
            "Epoch 47/250\n",
            "9/9 [==============================] - 0s 54ms/step - loss: 0.0043 - val_loss: 0.0017\n",
            "Epoch 48/250\n",
            "9/9 [==============================] - 0s 52ms/step - loss: 0.0059 - val_loss: 0.0145\n",
            "Epoch 49/250\n",
            "9/9 [==============================] - 0s 51ms/step - loss: 0.0078 - val_loss: 9.2966e-04\n",
            "Epoch 50/250\n",
            "9/9 [==============================] - 0s 55ms/step - loss: 0.0055 - val_loss: 0.0347\n",
            "Epoch 51/250\n",
            "9/9 [==============================] - 0s 50ms/step - loss: 0.0081 - val_loss: 0.0471\n",
            "Epoch 52/250\n",
            "9/9 [==============================] - 0s 55ms/step - loss: 0.0074 - val_loss: 0.0246\n",
            "Epoch 53/250\n",
            "9/9 [==============================] - 0s 51ms/step - loss: 0.0054 - val_loss: 0.0085\n",
            "Epoch 54/250\n",
            "9/9 [==============================] - 0s 50ms/step - loss: 0.0042 - val_loss: 8.4867e-04\n",
            "Epoch 55/250\n",
            "9/9 [==============================] - 0s 53ms/step - loss: 0.0052 - val_loss: 0.0013\n",
            "Epoch 56/250\n",
            "9/9 [==============================] - 1s 56ms/step - loss: 0.0040 - val_loss: 0.0164\n",
            "Epoch 57/250\n",
            "9/9 [==============================] - 0s 51ms/step - loss: 0.0049 - val_loss: 0.0283\n",
            "Epoch 58/250\n",
            "9/9 [==============================] - 0s 52ms/step - loss: 0.0063 - val_loss: 0.0016\n",
            "Epoch 59/250\n",
            "9/9 [==============================] - 0s 50ms/step - loss: 0.0049 - val_loss: 0.0089\n",
            "Epoch 60/250\n",
            "9/9 [==============================] - 0s 54ms/step - loss: 0.0041 - val_loss: 0.0217\n",
            "Epoch 61/250\n",
            "9/9 [==============================] - 0s 51ms/step - loss: 0.0047 - val_loss: 0.0111\n",
            "Epoch 62/250\n",
            "9/9 [==============================] - 0s 56ms/step - loss: 0.0041 - val_loss: 0.0041\n",
            "Epoch 63/250\n",
            "9/9 [==============================] - 0s 51ms/step - loss: 0.0052 - val_loss: 8.8946e-04\n",
            "Epoch 64/250\n",
            "9/9 [==============================] - 0s 56ms/step - loss: 0.0048 - val_loss: 0.0035\n",
            "Epoch 65/250\n",
            "9/9 [==============================] - 0s 51ms/step - loss: 0.0035 - val_loss: 0.0031\n",
            "Epoch 66/250\n",
            "9/9 [==============================] - 0s 53ms/step - loss: 0.0035 - val_loss: 0.0019\n",
            "Epoch 67/250\n",
            "9/9 [==============================] - 0s 54ms/step - loss: 0.0035 - val_loss: 0.0119\n",
            "Epoch 68/250\n",
            "9/9 [==============================] - 0s 52ms/step - loss: 0.0040 - val_loss: 9.6296e-04\n",
            "Epoch 69/250\n",
            "9/9 [==============================] - 0s 54ms/step - loss: 0.0039 - val_loss: 7.7771e-04\n",
            "Epoch 70/250\n",
            "9/9 [==============================] - 0s 55ms/step - loss: 0.0030 - val_loss: 6.3891e-04\n",
            "Epoch 71/250\n",
            "9/9 [==============================] - 0s 53ms/step - loss: 0.0030 - val_loss: 0.0210\n",
            "Epoch 72/250\n",
            "9/9 [==============================] - 0s 54ms/step - loss: 0.0049 - val_loss: 0.0057\n",
            "Epoch 73/250\n",
            "9/9 [==============================] - 0s 56ms/step - loss: 0.0028 - val_loss: 0.0109\n",
            "Epoch 74/250\n",
            "9/9 [==============================] - 0s 54ms/step - loss: 0.0031 - val_loss: 0.0014\n",
            "Epoch 75/250\n",
            "9/9 [==============================] - 0s 53ms/step - loss: 0.0024 - val_loss: 0.0015\n",
            "Epoch 76/250\n",
            "9/9 [==============================] - 0s 52ms/step - loss: 0.0030 - val_loss: 5.9900e-04\n",
            "Epoch 77/250\n",
            "9/9 [==============================] - 0s 53ms/step - loss: 0.0027 - val_loss: 8.4241e-04\n",
            "Epoch 78/250\n",
            "9/9 [==============================] - 0s 55ms/step - loss: 0.0025 - val_loss: 0.0033\n",
            "Epoch 79/250\n",
            "9/9 [==============================] - 0s 52ms/step - loss: 0.0032 - val_loss: 0.0085\n",
            "Epoch 80/250\n",
            "9/9 [==============================] - 0s 53ms/step - loss: 0.0028 - val_loss: 0.0026\n",
            "Epoch 81/250\n",
            "9/9 [==============================] - 0s 49ms/step - loss: 0.0028 - val_loss: 7.3152e-04\n",
            "Epoch 82/250\n",
            "9/9 [==============================] - 0s 54ms/step - loss: 0.0031 - val_loss: 0.0047\n",
            "Epoch 83/250\n",
            "9/9 [==============================] - 0s 56ms/step - loss: 0.0028 - val_loss: 5.1088e-04\n",
            "Epoch 84/250\n",
            "9/9 [==============================] - 0s 50ms/step - loss: 0.0024 - val_loss: 0.0094\n",
            "Epoch 85/250\n",
            "9/9 [==============================] - 0s 49ms/step - loss: 0.0025 - val_loss: 0.0020\n",
            "Epoch 86/250\n",
            "9/9 [==============================] - 1s 58ms/step - loss: 0.0028 - val_loss: 0.0030\n",
            "Epoch 87/250\n",
            "9/9 [==============================] - 0s 52ms/step - loss: 0.0025 - val_loss: 0.0078\n",
            "Epoch 88/250\n",
            "9/9 [==============================] - 0s 50ms/step - loss: 0.0029 - val_loss: 0.0093\n",
            "Epoch 89/250\n",
            "9/9 [==============================] - 0s 55ms/step - loss: 0.0045 - val_loss: 0.0015\n",
            "Epoch 90/250\n",
            "9/9 [==============================] - 0s 55ms/step - loss: 0.0028 - val_loss: 5.7570e-04\n",
            "Epoch 91/250\n",
            "9/9 [==============================] - 0s 55ms/step - loss: 0.0023 - val_loss: 0.0069\n",
            "Epoch 92/250\n",
            "9/9 [==============================] - 0s 52ms/step - loss: 0.0020 - val_loss: 0.0017\n",
            "Epoch 93/250\n",
            "9/9 [==============================] - 0s 50ms/step - loss: 0.0021 - val_loss: 0.0092\n",
            "Epoch 94/250\n",
            "9/9 [==============================] - 0s 53ms/step - loss: 0.0027 - val_loss: 0.0243\n",
            "Epoch 95/250\n",
            "9/9 [==============================] - 1s 55ms/step - loss: 0.0035 - val_loss: 0.0344\n",
            "Epoch 96/250\n",
            "9/9 [==============================] - 0s 54ms/step - loss: 0.0045 - val_loss: 0.0145\n",
            "Epoch 97/250\n",
            "9/9 [==============================] - 0s 50ms/step - loss: 0.0029 - val_loss: 0.0071\n",
            "Epoch 98/250\n",
            "9/9 [==============================] - 0s 56ms/step - loss: 0.0022 - val_loss: 0.0063\n",
            "Epoch 99/250\n",
            "9/9 [==============================] - 0s 52ms/step - loss: 0.0022 - val_loss: 0.0071\n",
            "Epoch 100/250\n",
            "9/9 [==============================] - 0s 54ms/step - loss: 0.0024 - val_loss: 0.0018\n",
            "Epoch 101/250\n",
            "9/9 [==============================] - 0s 53ms/step - loss: 0.0022 - val_loss: 0.0077\n",
            "Epoch 102/250\n",
            "9/9 [==============================] - 0s 55ms/step - loss: 0.0031 - val_loss: 0.0249\n",
            "Epoch 103/250\n",
            "9/9 [==============================] - 0s 51ms/step - loss: 0.0045 - val_loss: 0.0056\n",
            "Epoch 104/250\n",
            "9/9 [==============================] - 0s 51ms/step - loss: 0.0034 - val_loss: 0.0015\n",
            "Epoch 105/250\n",
            "9/9 [==============================] - 0s 50ms/step - loss: 0.0021 - val_loss: 6.6821e-04\n",
            "Epoch 106/250\n",
            "9/9 [==============================] - 0s 54ms/step - loss: 0.0025 - val_loss: 0.0053\n",
            "Epoch 107/250\n",
            "9/9 [==============================] - 0s 50ms/step - loss: 0.0025 - val_loss: 0.0105\n",
            "Epoch 108/250\n",
            "9/9 [==============================] - 0s 51ms/step - loss: 0.0039 - val_loss: 0.0017\n",
            "Epoch 109/250\n",
            "9/9 [==============================] - 0s 55ms/step - loss: 0.0025 - val_loss: 7.0501e-04\n",
            "Epoch 110/250\n",
            "9/9 [==============================] - 0s 52ms/step - loss: 0.0022 - val_loss: 0.0210\n",
            "Epoch 111/250\n",
            "9/9 [==============================] - 0s 52ms/step - loss: 0.0035 - val_loss: 0.0392\n",
            "Epoch 112/250\n",
            "9/9 [==============================] - 0s 53ms/step - loss: 0.0040 - val_loss: 0.0010\n",
            "Epoch 113/250\n",
            "9/9 [==============================] - 0s 54ms/step - loss: 0.0023 - val_loss: 0.0056\n",
            "Epoch 114/250\n",
            "9/9 [==============================] - 0s 53ms/step - loss: 0.0025 - val_loss: 0.0024\n",
            "Epoch 115/250\n",
            "9/9 [==============================] - 0s 56ms/step - loss: 0.0021 - val_loss: 0.0011\n",
            "Epoch 116/250\n",
            "9/9 [==============================] - 0s 54ms/step - loss: 0.0016 - val_loss: 0.0098\n",
            "Epoch 117/250\n",
            "9/9 [==============================] - 1s 58ms/step - loss: 0.0024 - val_loss: 0.0068\n",
            "Epoch 118/250\n",
            "9/9 [==============================] - 0s 48ms/step - loss: 0.0021 - val_loss: 4.9885e-04\n",
            "Epoch 119/250\n",
            "9/9 [==============================] - 0s 51ms/step - loss: 0.0016 - val_loss: 0.0291\n",
            "Epoch 120/250\n",
            "9/9 [==============================] - 0s 52ms/step - loss: 0.0038 - val_loss: 0.0158\n",
            "Epoch 121/250\n",
            "9/9 [==============================] - 0s 53ms/step - loss: 0.0034 - val_loss: 0.0452\n",
            "Epoch 122/250\n",
            "9/9 [==============================] - 0s 51ms/step - loss: 0.0073 - val_loss: 0.0290\n",
            "Epoch 123/250\n",
            "9/9 [==============================] - 0s 51ms/step - loss: 0.0041 - val_loss: 0.0100\n",
            "Epoch 124/250\n",
            "9/9 [==============================] - 0s 56ms/step - loss: 0.0024 - val_loss: 8.3232e-04\n",
            "Epoch 125/250\n",
            "9/9 [==============================] - 0s 53ms/step - loss: 0.0018 - val_loss: 4.4098e-04\n",
            "Epoch 126/250\n",
            "9/9 [==============================] - 0s 57ms/step - loss: 0.0020 - val_loss: 4.3495e-04\n",
            "Epoch 127/250\n",
            "9/9 [==============================] - 0s 52ms/step - loss: 0.0019 - val_loss: 5.6593e-04\n",
            "Epoch 128/250\n",
            "9/9 [==============================] - 0s 51ms/step - loss: 0.0020 - val_loss: 0.0042\n",
            "Epoch 129/250\n",
            "9/9 [==============================] - 0s 54ms/step - loss: 0.0028 - val_loss: 0.0056\n",
            "Epoch 130/250\n",
            "9/9 [==============================] - 0s 52ms/step - loss: 0.0029 - val_loss: 0.0039\n",
            "Epoch 131/250\n",
            "9/9 [==============================] - 0s 54ms/step - loss: 0.0021 - val_loss: 0.0223\n",
            "Epoch 132/250\n",
            "9/9 [==============================] - 0s 52ms/step - loss: 0.0031 - val_loss: 7.9152e-04\n",
            "Epoch 133/250\n",
            "9/9 [==============================] - 0s 49ms/step - loss: 0.0019 - val_loss: 0.0037\n",
            "Epoch 134/250\n",
            "9/9 [==============================] - 0s 54ms/step - loss: 0.0018 - val_loss: 0.0416\n",
            "Epoch 135/250\n",
            "9/9 [==============================] - 0s 52ms/step - loss: 0.0051 - val_loss: 0.0053\n",
            "Epoch 136/250\n",
            "9/9 [==============================] - 0s 53ms/step - loss: 0.0019 - val_loss: 0.0014\n",
            "Epoch 137/250\n",
            "9/9 [==============================] - 0s 51ms/step - loss: 0.0016 - val_loss: 0.0030\n",
            "Epoch 138/250\n",
            "9/9 [==============================] - 0s 56ms/step - loss: 0.0021 - val_loss: 7.9830e-04\n",
            "Epoch 139/250\n",
            "9/9 [==============================] - 1s 56ms/step - loss: 0.0017 - val_loss: 0.0118\n",
            "Epoch 140/250\n",
            "9/9 [==============================] - 1s 56ms/step - loss: 0.0042 - val_loss: 0.0168\n",
            "Epoch 141/250\n",
            "9/9 [==============================] - 0s 52ms/step - loss: 0.0039 - val_loss: 0.0016\n",
            "Epoch 142/250\n",
            "9/9 [==============================] - 1s 58ms/step - loss: 0.0020 - val_loss: 0.0037\n",
            "Epoch 143/250\n",
            "9/9 [==============================] - 0s 52ms/step - loss: 0.0024 - val_loss: 0.0030\n",
            "Epoch 144/250\n",
            "9/9 [==============================] - 0s 53ms/step - loss: 0.0023 - val_loss: 6.7757e-04\n",
            "Epoch 145/250\n",
            "9/9 [==============================] - 0s 55ms/step - loss: 0.0017 - val_loss: 0.0053\n",
            "Epoch 146/250\n",
            "9/9 [==============================] - 0s 50ms/step - loss: 0.0032 - val_loss: 0.0349\n",
            "Epoch 147/250\n",
            "9/9 [==============================] - 0s 55ms/step - loss: 0.0072 - val_loss: 0.0397\n",
            "Epoch 148/250\n",
            "9/9 [==============================] - 0s 53ms/step - loss: 0.0069 - val_loss: 0.0123\n",
            "Epoch 149/250\n",
            "9/9 [==============================] - 0s 56ms/step - loss: 0.0037 - val_loss: 0.0019\n",
            "Epoch 150/250\n",
            "9/9 [==============================] - 0s 54ms/step - loss: 0.0021 - val_loss: 0.0042\n",
            "Epoch 151/250\n",
            "9/9 [==============================] - 0s 51ms/step - loss: 0.0024 - val_loss: 7.1029e-04\n",
            "Epoch 152/250\n",
            "9/9 [==============================] - 0s 55ms/step - loss: 0.0024 - val_loss: 0.0021\n",
            "Epoch 153/250\n",
            "9/9 [==============================] - 0s 52ms/step - loss: 0.0025 - val_loss: 0.0038\n",
            "Epoch 154/250\n",
            "9/9 [==============================] - 0s 53ms/step - loss: 0.0021 - val_loss: 0.0618\n",
            "Epoch 155/250\n",
            "9/9 [==============================] - 0s 51ms/step - loss: 0.0063 - val_loss: 0.0037\n",
            "Epoch 156/250\n",
            "9/9 [==============================] - 0s 51ms/step - loss: 0.0021 - val_loss: 0.0034\n",
            "Epoch 157/250\n",
            "9/9 [==============================] - 1s 58ms/step - loss: 0.0027 - val_loss: 0.0019\n",
            "Epoch 158/250\n",
            "9/9 [==============================] - 0s 55ms/step - loss: 0.0024 - val_loss: 0.0098\n",
            "Epoch 159/250\n",
            "9/9 [==============================] - 0s 51ms/step - loss: 0.0023 - val_loss: 4.4945e-04\n",
            "Epoch 160/250\n",
            "9/9 [==============================] - 0s 51ms/step - loss: 0.0021 - val_loss: 0.0053\n",
            "Epoch 161/250\n",
            "9/9 [==============================] - 0s 51ms/step - loss: 0.0019 - val_loss: 0.0012\n",
            "Epoch 162/250\n",
            "9/9 [==============================] - 0s 52ms/step - loss: 0.0017 - val_loss: 0.0039\n",
            "Epoch 163/250\n",
            "9/9 [==============================] - 0s 51ms/step - loss: 0.0029 - val_loss: 0.0084\n",
            "Epoch 164/250\n",
            "9/9 [==============================] - 0s 51ms/step - loss: 0.0021 - val_loss: 4.6380e-04\n",
            "Epoch 165/250\n",
            "9/9 [==============================] - 0s 52ms/step - loss: 0.0019 - val_loss: 4.7234e-04\n",
            "Epoch 166/250\n",
            "9/9 [==============================] - 0s 53ms/step - loss: 0.0018 - val_loss: 4.4373e-04\n",
            "Epoch 167/250\n",
            "9/9 [==============================] - 0s 53ms/step - loss: 0.0017 - val_loss: 0.0033\n",
            "Epoch 168/250\n",
            "9/9 [==============================] - 0s 51ms/step - loss: 0.0025 - val_loss: 5.3023e-04\n",
            "Epoch 169/250\n",
            "9/9 [==============================] - 0s 53ms/step - loss: 0.0024 - val_loss: 0.0035\n",
            "Epoch 170/250\n",
            "9/9 [==============================] - 0s 52ms/step - loss: 0.0026 - val_loss: 0.0212\n",
            "Epoch 171/250\n",
            "9/9 [==============================] - 0s 52ms/step - loss: 0.0027 - val_loss: 0.0036\n",
            "Epoch 172/250\n",
            "9/9 [==============================] - 0s 55ms/step - loss: 0.0017 - val_loss: 0.0018\n",
            "Epoch 173/250\n",
            "9/9 [==============================] - 0s 53ms/step - loss: 0.0019 - val_loss: 0.0022\n",
            "Epoch 174/250\n",
            "9/9 [==============================] - 0s 50ms/step - loss: 0.0018 - val_loss: 0.0032\n",
            "Epoch 175/250\n",
            "9/9 [==============================] - 0s 55ms/step - loss: 0.0017 - val_loss: 0.0063\n",
            "Epoch 176/250\n",
            "9/9 [==============================] - 0s 51ms/step - loss: 0.0021 - val_loss: 4.8543e-04\n",
            "Epoch 177/250\n",
            "9/9 [==============================] - 0s 52ms/step - loss: 0.0016 - val_loss: 0.0162\n",
            "Epoch 178/250\n",
            "9/9 [==============================] - 0s 53ms/step - loss: 0.0028 - val_loss: 0.0133\n",
            "Epoch 179/250\n",
            "9/9 [==============================] - 0s 56ms/step - loss: 0.0026 - val_loss: 4.9354e-04\n",
            "Epoch 180/250\n",
            "9/9 [==============================] - 0s 54ms/step - loss: 0.0021 - val_loss: 0.0035\n",
            "Epoch 181/250\n",
            "9/9 [==============================] - 0s 51ms/step - loss: 0.0020 - val_loss: 0.0049\n",
            "Epoch 182/250\n",
            "9/9 [==============================] - 0s 51ms/step - loss: 0.0016 - val_loss: 6.1823e-04\n",
            "Epoch 183/250\n",
            "9/9 [==============================] - 0s 50ms/step - loss: 0.0016 - val_loss: 0.0037\n",
            "Epoch 184/250\n",
            "9/9 [==============================] - 0s 56ms/step - loss: 0.0023 - val_loss: 6.6163e-04\n",
            "Epoch 185/250\n",
            "9/9 [==============================] - 0s 54ms/step - loss: 0.0016 - val_loss: 0.0022\n",
            "Epoch 186/250\n",
            "9/9 [==============================] - 0s 53ms/step - loss: 0.0022 - val_loss: 8.4455e-04\n",
            "Epoch 187/250\n",
            "9/9 [==============================] - 0s 50ms/step - loss: 0.0018 - val_loss: 4.2559e-04\n",
            "Epoch 188/250\n",
            "9/9 [==============================] - 0s 55ms/step - loss: 0.0016 - val_loss: 4.2710e-04\n",
            "Epoch 189/250\n",
            "9/9 [==============================] - 0s 53ms/step - loss: 0.0019 - val_loss: 0.0011\n",
            "Epoch 190/250\n",
            "9/9 [==============================] - 0s 53ms/step - loss: 0.0017 - val_loss: 0.0477\n",
            "Epoch 191/250\n",
            "9/9 [==============================] - 0s 50ms/step - loss: 0.0056 - val_loss: 0.0242\n",
            "Epoch 192/250\n",
            "9/9 [==============================] - 0s 53ms/step - loss: 0.0038 - val_loss: 0.0162\n",
            "Epoch 193/250\n",
            "9/9 [==============================] - 0s 57ms/step - loss: 0.0034 - val_loss: 0.0143\n",
            "Epoch 194/250\n",
            "9/9 [==============================] - 0s 56ms/step - loss: 0.0027 - val_loss: 0.0222\n",
            "Epoch 195/250\n",
            "9/9 [==============================] - 1s 57ms/step - loss: 0.0036 - val_loss: 0.0033\n",
            "Epoch 196/250\n",
            "9/9 [==============================] - 0s 52ms/step - loss: 0.0019 - val_loss: 0.0037\n",
            "Epoch 197/250\n",
            "9/9 [==============================] - 0s 54ms/step - loss: 0.0019 - val_loss: 4.5839e-04\n",
            "Epoch 198/250\n",
            "9/9 [==============================] - 0s 53ms/step - loss: 0.0019 - val_loss: 0.0044\n",
            "Epoch 199/250\n",
            "9/9 [==============================] - 0s 50ms/step - loss: 0.0024 - val_loss: 0.0027\n",
            "Epoch 200/250\n",
            "9/9 [==============================] - 0s 53ms/step - loss: 0.0021 - val_loss: 4.5275e-04\n",
            "Epoch 201/250\n",
            "9/9 [==============================] - 1s 54ms/step - loss: 0.0015 - val_loss: 0.0059\n",
            "Epoch 202/250\n",
            "9/9 [==============================] - 0s 56ms/step - loss: 0.0026 - val_loss: 4.8503e-04\n",
            "Epoch 203/250\n",
            "9/9 [==============================] - 0s 52ms/step - loss: 0.0014 - val_loss: 9.9567e-04\n",
            "Epoch 204/250\n",
            "9/9 [==============================] - 0s 51ms/step - loss: 0.0018 - val_loss: 0.0016\n",
            "Epoch 205/250\n",
            "9/9 [==============================] - 0s 52ms/step - loss: 0.0021 - val_loss: 0.0069\n",
            "Epoch 206/250\n",
            "9/9 [==============================] - 0s 53ms/step - loss: 0.0026 - val_loss: 8.8390e-04\n",
            "Epoch 207/250\n",
            "9/9 [==============================] - 0s 52ms/step - loss: 0.0016 - val_loss: 0.0269\n",
            "Epoch 208/250\n",
            "9/9 [==============================] - 0s 51ms/step - loss: 0.0037 - val_loss: 5.9504e-04\n",
            "Epoch 209/250\n",
            "9/9 [==============================] - 0s 53ms/step - loss: 0.0024 - val_loss: 0.0831\n",
            "Epoch 210/250\n",
            "9/9 [==============================] - 0s 53ms/step - loss: 0.0126 - val_loss: 0.1435\n",
            "Epoch 211/250\n",
            "9/9 [==============================] - 0s 53ms/step - loss: 0.0235 - val_loss: 0.0403\n",
            "Epoch 212/250\n",
            "9/9 [==============================] - 0s 53ms/step - loss: 0.0084 - val_loss: 4.3887e-04\n",
            "Epoch 213/250\n",
            "9/9 [==============================] - 0s 52ms/step - loss: 0.0050 - val_loss: 0.0030\n",
            "Epoch 214/250\n",
            "9/9 [==============================] - 0s 52ms/step - loss: 0.0035 - val_loss: 4.8361e-04\n",
            "Epoch 215/250\n",
            "9/9 [==============================] - 0s 53ms/step - loss: 0.0027 - val_loss: 8.9145e-04\n",
            "Epoch 216/250\n",
            "9/9 [==============================] - 0s 52ms/step - loss: 0.0021 - val_loss: 8.6373e-04\n",
            "Epoch 217/250\n",
            "9/9 [==============================] - 1s 60ms/step - loss: 0.0020 - val_loss: 0.0020\n",
            "Epoch 218/250\n",
            "9/9 [==============================] - 0s 54ms/step - loss: 0.0018 - val_loss: 0.0020\n",
            "Epoch 219/250\n",
            "9/9 [==============================] - 0s 54ms/step - loss: 0.0020 - val_loss: 0.0013\n",
            "Epoch 220/250\n",
            "9/9 [==============================] - 0s 52ms/step - loss: 0.0019 - val_loss: 0.0022\n",
            "Epoch 221/250\n",
            "9/9 [==============================] - 0s 53ms/step - loss: 0.0016 - val_loss: 6.8171e-04\n",
            "Epoch 222/250\n",
            "9/9 [==============================] - 0s 57ms/step - loss: 0.0020 - val_loss: 4.2974e-04\n",
            "Epoch 223/250\n",
            "9/9 [==============================] - 0s 51ms/step - loss: 0.0025 - val_loss: 6.4489e-04\n",
            "Epoch 224/250\n",
            "9/9 [==============================] - 1s 58ms/step - loss: 0.0018 - val_loss: 0.0017\n",
            "Epoch 225/250\n",
            "9/9 [==============================] - 0s 53ms/step - loss: 0.0027 - val_loss: 0.0338\n",
            "Epoch 226/250\n",
            "9/9 [==============================] - 0s 54ms/step - loss: 0.0044 - val_loss: 0.0130\n",
            "Epoch 227/250\n",
            "9/9 [==============================] - 0s 57ms/step - loss: 0.0036 - val_loss: 0.0138\n",
            "Epoch 228/250\n",
            "9/9 [==============================] - 0s 54ms/step - loss: 0.0027 - val_loss: 0.0016\n",
            "Epoch 229/250\n",
            "9/9 [==============================] - 0s 52ms/step - loss: 0.0022 - val_loss: 0.0126\n",
            "Epoch 230/250\n",
            "9/9 [==============================] - 0s 54ms/step - loss: 0.0031 - val_loss: 0.0042\n",
            "Epoch 231/250\n",
            "9/9 [==============================] - 0s 54ms/step - loss: 0.0020 - val_loss: 5.5592e-04\n",
            "Epoch 232/250\n",
            "9/9 [==============================] - 0s 53ms/step - loss: 0.0019 - val_loss: 4.1680e-04\n",
            "Epoch 233/250\n",
            "9/9 [==============================] - 0s 55ms/step - loss: 0.0017 - val_loss: 0.0094\n",
            "Epoch 234/250\n",
            "9/9 [==============================] - 0s 52ms/step - loss: 0.0022 - val_loss: 4.5155e-04\n",
            "Epoch 235/250\n",
            "9/9 [==============================] - 0s 53ms/step - loss: 0.0021 - val_loss: 0.0019\n",
            "Epoch 236/250\n",
            "9/9 [==============================] - 0s 50ms/step - loss: 0.0017 - val_loss: 0.0070\n",
            "Epoch 237/250\n",
            "9/9 [==============================] - 0s 54ms/step - loss: 0.0020 - val_loss: 0.0085\n",
            "Epoch 238/250\n",
            "9/9 [==============================] - 0s 53ms/step - loss: 0.0030 - val_loss: 0.0052\n",
            "Epoch 239/250\n",
            "9/9 [==============================] - 0s 50ms/step - loss: 0.0023 - val_loss: 0.0124\n",
            "Epoch 240/250\n",
            "9/9 [==============================] - 0s 55ms/step - loss: 0.0029 - val_loss: 0.0023\n",
            "Epoch 241/250\n",
            "9/9 [==============================] - 0s 51ms/step - loss: 0.0021 - val_loss: 0.0067\n",
            "Epoch 242/250\n",
            "9/9 [==============================] - 0s 55ms/step - loss: 0.0018 - val_loss: 4.7752e-04\n",
            "Epoch 243/250\n",
            "9/9 [==============================] - 0s 51ms/step - loss: 0.0017 - val_loss: 7.4857e-04\n",
            "Epoch 244/250\n",
            "9/9 [==============================] - 1s 59ms/step - loss: 0.0016 - val_loss: 0.0017\n",
            "Epoch 245/250\n",
            "9/9 [==============================] - 0s 51ms/step - loss: 0.0021 - val_loss: 4.1265e-04\n",
            "Epoch 246/250\n",
            "9/9 [==============================] - 0s 50ms/step - loss: 0.0021 - val_loss: 0.0056\n",
            "Epoch 247/250\n",
            "9/9 [==============================] - 0s 50ms/step - loss: 0.0017 - val_loss: 3.9079e-04\n",
            "Epoch 248/250\n",
            "9/9 [==============================] - 0s 50ms/step - loss: 0.0016 - val_loss: 0.0012\n",
            "Epoch 249/250\n",
            "9/9 [==============================] - 0s 53ms/step - loss: 0.0017 - val_loss: 0.0101\n",
            "Epoch 250/250\n",
            "9/9 [==============================] - 0s 52ms/step - loss: 0.0036 - val_loss: 0.0023\n"
          ],
          "name": "stdout"
        }
      ]
    },
    {
      "cell_type": "code",
      "metadata": {
        "colab": {
          "base_uri": "https://localhost:8080/",
          "height": 279
        },
        "id": "nE44Dxt4K4Na",
        "outputId": "da1d4676-1330-4169-cbf2-8a880c0d70e3"
      },
      "source": [
        "plt.plot( history.history['loss'],c = 'r')\n",
        "plt.plot(history.history['val_loss'],c = 'b')\n",
        "plt.xlabel('epoch')\n",
        "plt.ylabel('Loss')\n",
        "plt.legend(['train','val'],loc = 'upper right')\n",
        "plt.show()"
      ],
      "execution_count": 19,
      "outputs": [
        {
          "output_type": "display_data",
          "data": {
            "image/png": "[encoded data removed]",
            "text/plain": [
              "<Figure size 432x288 with 1 Axes>"
            ]
          },
          "metadata": {
            "tags": [],
            "needs_background": "light"
          }
        }
      ]
    },
    {
      "cell_type": "code",
      "metadata": {
        "id": "Km5WIySo34-j"
      },
      "source": [
        "# predict the train and test data\n",
        "predict_train=model.predict(x_train)\n",
        "predict_test=model.predict(x_test)"
      ],
      "execution_count": 20,
      "outputs": []
    },
    {
      "cell_type": "code",
      "metadata": {
        "colab": {
          "base_uri": "https://localhost:8080/"
        },
        "id": "VhxtwTfyftNY",
        "outputId": "e6c0ae89-c8e1-4783-db20-09a949639a32"
      },
      "source": [
        "# metrics for model\n",
        "rsme = math.sqrt(mean_squared_error(y_test,predict_test))*100\n",
        "mape = mean_absolute_percentage_error(y_test,predict_test)*100\n",
        "print(\"rsme\",rsme)\n",
        "print(\"mape\",mape)"
      ],
      "execution_count": 21,
      "outputs": [
        {
          "output_type": "stream",
          "text": [
            "rsme 4.796422230417642\n",
            "mape 4.971879583770643\n"
          ],
          "name": "stdout"
        }
      ]
    },
    {
      "cell_type": "code",
      "metadata": {
        "id": "whhuspss39lU"
      },
      "source": [
        "#Transform to its original form\n",
        "train_predict=scaler.inverse_transform(predict_train)\n",
        "test_predict=scaler.inverse_transform(predict_test)"
      ],
      "execution_count": 22,
      "outputs": []
    },
    {
      "cell_type": "code",
      "metadata": {
        "id": "6x6iOVvbhmbl"
      },
      "source": [
        "# train predictions \n",
        "\n",
        "train_predicted_data = np.empty_like(df)\n",
        "train_predicted_data[:, :] = np.nan\n",
        "train_predicted_data[time_step:len(train_predict)+time_step, :] = train_predict"
      ],
      "execution_count": 23,
      "outputs": []
    },
    {
      "cell_type": "code",
      "metadata": {
        "id": "80SCE3IwhpWj"
      },
      "source": [
        "# shift and the test predictions \n",
        "test_predicted_data = np.empty_like(df)\n",
        "test_predicted_data[:, :] = np.nan\n",
        "test_predicted_data[len(train_predict)+(time_step*2)+1:len(df)-1, :] = test_predict"
      ],
      "execution_count": 24,
      "outputs": []
    },
    {
      "cell_type": "code",
      "metadata": {
        "colab": {
          "base_uri": "https://localhost:8080/",
          "height": 279
        },
        "id": "jDIlUncthphE",
        "outputId": "73f8e31c-f5a3-42aa-f193-2bc7e610e141"
      },
      "source": [
        "#plot train and test predicted data together\n",
        "plt.plot(scaler.inverse_transform(df), label='Dataset')\n",
        "plt.plot(train_predicted_data, label = 'training data')\n",
        "plt.plot(test_predicted_data, label = 'predicted data')\n",
        "plt.xlabel('Days')\n",
        "plt.ylabel('Stock Price')\n",
        "plt.legend()\n",
        "plt.show()"
      ],
      "execution_count": 25,
      "outputs": [
        {
          "output_type": "display_data",
          "data": {
            "image/png": "[encoded data removed]",
            "text/plain": [
              "<Figure size 432x288 with 1 Axes>"
            ]
          },
          "metadata": {
            "tags": [],
            "needs_background": "light"
          }
        }
      ]
    },
    {
      "cell_type": "markdown",
      "metadata": {
        "id": "Fp8Cp-w3yB4x"
      },
      "source": [
        "predict stock prices for future dates"
      ]
    },
    {
      "cell_type": "code",
      "metadata": {
        "id": "WREZzbnDHaN-"
      },
      "source": [
        "# to predict the new data we are consider \"no_of_steps\" no of steps backwards i.e considering pervious time step no of vlues i.e 30\n",
        "no_of_steps=time_step"
      ],
      "execution_count": 26,
      "outputs": []
    },
    {
      "cell_type": "code",
      "metadata": {
        "id": "pVOG6dK94jtJ"
      },
      "source": [
        "#convert to list to append future data\n",
        "initial_input_data=test_data[(len(test_data)- no_of_steps):].reshape(1,-1)\n",
        "input_data=list(initial_input_data)\n",
        "input_data=input_data[0].tolist()"
      ],
      "execution_count": 27,
      "outputs": []
    },
    {
      "cell_type": "code",
      "metadata": {
        "colab": {
          "base_uri": "https://localhost:8080/"
        },
        "id": "vJgEH10D4n5k",
        "outputId": "5144b16c-c808-49d1-a1c1-b7b6a9348907"
      },
      "source": [
        "#previous 30 days data\n",
        "input_data"
      ],
      "execution_count": 28,
      "outputs": [
        {
          "output_type": "execute_result",
          "data": {
            "text/plain": [
              "[0.8476003371102485,\n",
              " 0.8476003371102485,\n",
              " 0.8554186392160466,\n",
              " 0.8554186392160466,\n",
              " 0.8665228066805506,\n",
              " 0.8665228066805506,\n",
              " 0.9000621470298966,\n",
              " 0.9000621470298966,\n",
              " 0.8844255428183008,\n",
              " 0.8844255428183008,\n",
              " 0.8793267027607579,\n",
              " 0.8793267027607579,\n",
              " 0.9033480123886026,\n",
              " 0.9033480123886026,\n",
              " 0.9264630075618125,\n",
              " 0.9264630075618125,\n",
              " 0.9623817259204464,\n",
              " 0.9623817259204464,\n",
              " 0.968613718388458,\n",
              " 0.968613718388458,\n",
              " 0.9683870533274075,\n",
              " 0.9683870533274075,\n",
              " 0.938020332253634,\n",
              " 0.938020332253634,\n",
              " 0.9256697662955278,\n",
              " 0.9256697662955278,\n",
              " 0.97155967260298,\n",
              " 0.97155967260298,\n",
              " 0.9999999999999998,\n",
              " 0.9999999999999998]"
            ]
          },
          "metadata": {
            "tags": []
          },
          "execution_count": 28
        }
      ]
    },
    {
      "cell_type": "code",
      "metadata": {
        "colab": {
          "base_uri": "https://localhost:8080/"
        },
        "id": "CRg5op1PSjr6",
        "outputId": "6d91e937-56fe-4f16-f5ec-88f6d8494ca6"
      },
      "source": [
        "# predicting values for the next 30 days \n",
        "future_output=[]\n",
        "\n",
        "i=0\n",
        "while(i<30):\n",
        "    \n",
        "    if(len(input_data)>30):\n",
        "       \n",
        "        # it is list of input for predicting the future day\n",
        "        initial_input_data=np.array(input_data[1:])\n",
        "        print(\"day {} : input data {}\".format(i,initial_input_data))\n",
        "        initial_input_data=initial_input_data.reshape(1,-1)\n",
        "        initial_input_data = initial_input_data.reshape((1, no_of_steps, 1))\n",
        "     \n",
        "        \n",
        "        # it is output of the future day\n",
        "        yhat = model.predict(initial_input_data, verbose=0)\n",
        "        print(\"day {} : predicted output data {}\".format(i,yhat))\n",
        "        input_data.extend(yhat[0].tolist())\n",
        "        input_data=input_data[1:]\n",
        "       \n",
        "        # append the data with the present data\n",
        "        future_output.extend(yhat.tolist())\n",
        "        i=i+1\n",
        "    else:\n",
        "        # we are predicting 1st future day \n",
        "        initial_input_data= initial_input_data.reshape((1, no_of_steps,1))\n",
        "        yhat = model.predict(initial_input_data, verbose=0)\n",
        "        print(yhat[0])\n",
        "        input_data.extend(yhat[0].tolist())\n",
        "        print(len(input_data))\n",
        "        future_output.extend(yhat.tolist())\n",
        "        i=i+1\n",
        "    \n",
        "\n",
        "print(future_output)"
      ],
      "execution_count": 29,
      "outputs": [
        {
          "output_type": "stream",
          "text": [
            "[0.9416964]\n",
            "31\n",
            "day 1 : input data [0.84760034 0.85541864 0.85541864 0.86652281 0.86652281 0.90006215\n",
            " 0.90006215 0.88442554 0.88442554 0.8793267  0.8793267  0.90334801\n",
            " 0.90334801 0.92646301 0.92646301 0.96238173 0.96238173 0.96861372\n",
            " 0.96861372 0.96838705 0.96838705 0.93802033 0.93802033 0.92566977\n",
            " 0.92566977 0.97155967 0.97155967 1.         1.         0.94169641]\n",
            "day 1 : predicted output data [[0.92377853]]\n",
            "day 2 : input data [0.85541864 0.85541864 0.86652281 0.86652281 0.90006215 0.90006215\n",
            " 0.88442554 0.88442554 0.8793267  0.8793267  0.90334801 0.90334801\n",
            " 0.92646301 0.92646301 0.96238173 0.96238173 0.96861372 0.96861372\n",
            " 0.96838705 0.96838705 0.93802033 0.93802033 0.92566977 0.92566977\n",
            " 0.97155967 0.97155967 1.         1.         0.94169641 0.92377853]\n",
            "day 2 : predicted output data [[0.91134757]]\n",
            "day 3 : input data [0.85541864 0.86652281 0.86652281 0.90006215 0.90006215 0.88442554\n",
            " 0.88442554 0.8793267  0.8793267  0.90334801 0.90334801 0.92646301\n",
            " 0.92646301 0.96238173 0.96238173 0.96861372 0.96861372 0.96838705\n",
            " 0.96838705 0.93802033 0.93802033 0.92566977 0.92566977 0.97155967\n",
            " 0.97155967 1.         1.         0.94169641 0.92377853 0.91134757]\n",
            "day 3 : predicted output data [[0.8901491]]\n",
            "day 4 : input data [0.86652281 0.86652281 0.90006215 0.90006215 0.88442554 0.88442554\n",
            " 0.8793267  0.8793267  0.90334801 0.90334801 0.92646301 0.92646301\n",
            " 0.96238173 0.96238173 0.96861372 0.96861372 0.96838705 0.96838705\n",
            " 0.93802033 0.93802033 0.92566977 0.92566977 0.97155967 0.97155967\n",
            " 1.         1.         0.94169641 0.92377853 0.91134757 0.89014912]\n",
            "day 4 : predicted output data [[0.8708351]]\n",
            "day 5 : input data [0.86652281 0.90006215 0.90006215 0.88442554 0.88442554 0.8793267\n",
            " 0.8793267  0.90334801 0.90334801 0.92646301 0.92646301 0.96238173\n",
            " 0.96238173 0.96861372 0.96861372 0.96838705 0.96838705 0.93802033\n",
            " 0.93802033 0.92566977 0.92566977 0.97155967 0.97155967 1.\n",
            " 1.         0.94169641 0.92377853 0.91134757 0.89014912 0.87083513]\n",
            "day 5 : predicted output data [[0.857416]]\n",
            "day 6 : input data [0.90006215 0.90006215 0.88442554 0.88442554 0.8793267  0.8793267\n",
            " 0.90334801 0.90334801 0.92646301 0.92646301 0.96238173 0.96238173\n",
            " 0.96861372 0.96861372 0.96838705 0.96838705 0.93802033 0.93802033\n",
            " 0.92566977 0.92566977 0.97155967 0.97155967 1.         1.\n",
            " 0.94169641 0.92377853 0.91134757 0.89014912 0.87083513 0.85741597]\n",
            "day 6 : predicted output data [[0.841069]]\n",
            "day 7 : input data [0.90006215 0.88442554 0.88442554 0.8793267  0.8793267  0.90334801\n",
            " 0.90334801 0.92646301 0.92646301 0.96238173 0.96238173 0.96861372\n",
            " 0.96861372 0.96838705 0.96838705 0.93802033 0.93802033 0.92566977\n",
            " 0.92566977 0.97155967 0.97155967 1.         1.         0.94169641\n",
            " 0.92377853 0.91134757 0.89014912 0.87083513 0.85741597 0.84106898]\n",
            "day 7 : predicted output data [[0.82488793]]\n",
            "day 8 : input data [0.88442554 0.88442554 0.8793267  0.8793267  0.90334801 0.90334801\n",
            " 0.92646301 0.92646301 0.96238173 0.96238173 0.96861372 0.96861372\n",
            " 0.96838705 0.96838705 0.93802033 0.93802033 0.92566977 0.92566977\n",
            " 0.97155967 0.97155967 1.         1.         0.94169641 0.92377853\n",
            " 0.91134757 0.89014912 0.87083513 0.85741597 0.84106898 0.82488793]\n",
            "day 8 : predicted output data [[0.81054485]]\n",
            "day 9 : input data [0.88442554 0.8793267  0.8793267  0.90334801 0.90334801 0.92646301\n",
            " 0.92646301 0.96238173 0.96238173 0.96861372 0.96861372 0.96838705\n",
            " 0.96838705 0.93802033 0.93802033 0.92566977 0.92566977 0.97155967\n",
            " 0.97155967 1.         1.         0.94169641 0.92377853 0.91134757\n",
            " 0.89014912 0.87083513 0.85741597 0.84106898 0.82488793 0.81054485]\n",
            "day 9 : predicted output data [[0.79591006]]\n",
            "day 10 : input data [0.8793267  0.8793267  0.90334801 0.90334801 0.92646301 0.92646301\n",
            " 0.96238173 0.96238173 0.96861372 0.96861372 0.96838705 0.96838705\n",
            " 0.93802033 0.93802033 0.92566977 0.92566977 0.97155967 0.97155967\n",
            " 1.         1.         0.94169641 0.92377853 0.91134757 0.89014912\n",
            " 0.87083513 0.85741597 0.84106898 0.82488793 0.81054485 0.79591006]\n",
            "day 10 : predicted output data [[0.78084105]]\n",
            "day 11 : input data [0.8793267  0.90334801 0.90334801 0.92646301 0.92646301 0.96238173\n",
            " 0.96238173 0.96861372 0.96861372 0.96838705 0.96838705 0.93802033\n",
            " 0.93802033 0.92566977 0.92566977 0.97155967 0.97155967 1.\n",
            " 1.         0.94169641 0.92377853 0.91134757 0.89014912 0.87083513\n",
            " 0.85741597 0.84106898 0.82488793 0.81054485 0.79591006 0.78084105]\n",
            "day 11 : predicted output data [[0.7661476]]\n",
            "day 12 : input data [0.90334801 0.90334801 0.92646301 0.92646301 0.96238173 0.96238173\n",
            " 0.96861372 0.96861372 0.96838705 0.96838705 0.93802033 0.93802033\n",
            " 0.92566977 0.92566977 0.97155967 0.97155967 1.         1.\n",
            " 0.94169641 0.92377853 0.91134757 0.89014912 0.87083513 0.85741597\n",
            " 0.84106898 0.82488793 0.81054485 0.79591006 0.78084105 0.76614761]\n",
            "day 12 : predicted output data [[0.7514529]]\n",
            "day 13 : input data [0.90334801 0.92646301 0.92646301 0.96238173 0.96238173 0.96861372\n",
            " 0.96861372 0.96838705 0.96838705 0.93802033 0.93802033 0.92566977\n",
            " 0.92566977 0.97155967 0.97155967 1.         1.         0.94169641\n",
            " 0.92377853 0.91134757 0.89014912 0.87083513 0.85741597 0.84106898\n",
            " 0.82488793 0.81054485 0.79591006 0.78084105 0.76614761 0.75145292]\n",
            "day 13 : predicted output data [[0.7369886]]\n",
            "day 14 : input data [0.92646301 0.92646301 0.96238173 0.96238173 0.96861372 0.96861372\n",
            " 0.96838705 0.96838705 0.93802033 0.93802033 0.92566977 0.92566977\n",
            " 0.97155967 0.97155967 1.         1.         0.94169641 0.92377853\n",
            " 0.91134757 0.89014912 0.87083513 0.85741597 0.84106898 0.82488793\n",
            " 0.81054485 0.79591006 0.78084105 0.76614761 0.75145292 0.7369886 ]\n",
            "day 14 : predicted output data [[0.72276014]]\n",
            "day 15 : input data [0.92646301 0.96238173 0.96238173 0.96861372 0.96861372 0.96838705\n",
            " 0.96838705 0.93802033 0.93802033 0.92566977 0.92566977 0.97155967\n",
            " 0.97155967 1.         1.         0.94169641 0.92377853 0.91134757\n",
            " 0.89014912 0.87083513 0.85741597 0.84106898 0.82488793 0.81054485\n",
            " 0.79591006 0.78084105 0.76614761 0.75145292 0.7369886  0.72276014]\n",
            "day 15 : predicted output data [[0.7086887]]\n",
            "day 16 : input data [0.96238173 0.96238173 0.96861372 0.96861372 0.96838705 0.96838705\n",
            " 0.93802033 0.93802033 0.92566977 0.92566977 0.97155967 0.97155967\n",
            " 1.         1.         0.94169641 0.92377853 0.91134757 0.89014912\n",
            " 0.87083513 0.85741597 0.84106898 0.82488793 0.81054485 0.79591006\n",
            " 0.78084105 0.76614761 0.75145292 0.7369886  0.72276014 0.70868868]\n",
            "day 16 : predicted output data [[0.6947804]]\n",
            "day 17 : input data [0.96238173 0.96861372 0.96861372 0.96838705 0.96838705 0.93802033\n",
            " 0.93802033 0.92566977 0.92566977 0.97155967 0.97155967 1.\n",
            " 1.         0.94169641 0.92377853 0.91134757 0.89014912 0.87083513\n",
            " 0.85741597 0.84106898 0.82488793 0.81054485 0.79591006 0.78084105\n",
            " 0.76614761 0.75145292 0.7369886  0.72276014 0.70868868 0.69478041]\n",
            "day 17 : predicted output data [[0.6812041]]\n",
            "day 18 : input data [0.96861372 0.96861372 0.96838705 0.96838705 0.93802033 0.93802033\n",
            " 0.92566977 0.92566977 0.97155967 0.97155967 1.         1.\n",
            " 0.94169641 0.92377853 0.91134757 0.89014912 0.87083513 0.85741597\n",
            " 0.84106898 0.82488793 0.81054485 0.79591006 0.78084105 0.76614761\n",
            " 0.75145292 0.7369886  0.72276014 0.70868868 0.69478041 0.68120408]\n",
            "day 18 : predicted output data [[0.6678432]]\n",
            "day 19 : input data [0.96861372 0.96838705 0.96838705 0.93802033 0.93802033 0.92566977\n",
            " 0.92566977 0.97155967 0.97155967 1.         1.         0.94169641\n",
            " 0.92377853 0.91134757 0.89014912 0.87083513 0.85741597 0.84106898\n",
            " 0.82488793 0.81054485 0.79591006 0.78084105 0.76614761 0.75145292\n",
            " 0.7369886  0.72276014 0.70868868 0.69478041 0.68120408 0.66784322]\n",
            "day 19 : predicted output data [[0.65471536]]\n",
            "day 20 : input data [0.96838705 0.96838705 0.93802033 0.93802033 0.92566977 0.92566977\n",
            " 0.97155967 0.97155967 1.         1.         0.94169641 0.92377853\n",
            " 0.91134757 0.89014912 0.87083513 0.85741597 0.84106898 0.82488793\n",
            " 0.81054485 0.79591006 0.78084105 0.76614761 0.75145292 0.7369886\n",
            " 0.72276014 0.70868868 0.69478041 0.68120408 0.66784322 0.65471536]\n",
            "day 20 : predicted output data [[0.6418427]]\n",
            "day 21 : input data [0.96838705 0.93802033 0.93802033 0.92566977 0.92566977 0.97155967\n",
            " 0.97155967 1.         1.         0.94169641 0.92377853 0.91134757\n",
            " 0.89014912 0.87083513 0.85741597 0.84106898 0.82488793 0.81054485\n",
            " 0.79591006 0.78084105 0.76614761 0.75145292 0.7369886  0.72276014\n",
            " 0.70868868 0.69478041 0.68120408 0.66784322 0.65471536 0.64184272]\n",
            "day 21 : predicted output data [[0.6292162]]\n",
            "day 22 : input data [0.93802033 0.93802033 0.92566977 0.92566977 0.97155967 0.97155967\n",
            " 1.         1.         0.94169641 0.92377853 0.91134757 0.89014912\n",
            " 0.87083513 0.85741597 0.84106898 0.82488793 0.81054485 0.79591006\n",
            " 0.78084105 0.76614761 0.75145292 0.7369886  0.72276014 0.70868868\n",
            " 0.69478041 0.68120408 0.66784322 0.65471536 0.64184272 0.62921619]\n",
            "day 22 : predicted output data [[0.61682874]]\n",
            "day 23 : input data [0.93802033 0.92566977 0.92566977 0.97155967 0.97155967 1.\n",
            " 1.         0.94169641 0.92377853 0.91134757 0.89014912 0.87083513\n",
            " 0.85741597 0.84106898 0.82488793 0.81054485 0.79591006 0.78084105\n",
            " 0.76614761 0.75145292 0.7369886  0.72276014 0.70868868 0.69478041\n",
            " 0.68120408 0.66784322 0.65471536 0.64184272 0.62921619 0.61682874]\n",
            "day 23 : predicted output data [[0.6046689]]\n",
            "day 24 : input data [0.92566977 0.92566977 0.97155967 0.97155967 1.         1.\n",
            " 0.94169641 0.92377853 0.91134757 0.89014912 0.87083513 0.85741597\n",
            " 0.84106898 0.82488793 0.81054485 0.79591006 0.78084105 0.76614761\n",
            " 0.75145292 0.7369886  0.72276014 0.70868868 0.69478041 0.68120408\n",
            " 0.66784322 0.65471536 0.64184272 0.62921619 0.61682874 0.60466892]\n",
            "day 24 : predicted output data [[0.592756]]\n",
            "day 25 : input data [0.92566977 0.97155967 0.97155967 1.         1.         0.94169641\n",
            " 0.92377853 0.91134757 0.89014912 0.87083513 0.85741597 0.84106898\n",
            " 0.82488793 0.81054485 0.79591006 0.78084105 0.76614761 0.75145292\n",
            " 0.7369886  0.72276014 0.70868868 0.69478041 0.68120408 0.66784322\n",
            " 0.65471536 0.64184272 0.62921619 0.61682874 0.60466892 0.59275597]\n",
            "day 25 : predicted output data [[0.5810773]]\n",
            "day 26 : input data [0.97155967 0.97155967 1.         1.         0.94169641 0.92377853\n",
            " 0.91134757 0.89014912 0.87083513 0.85741597 0.84106898 0.82488793\n",
            " 0.81054485 0.79591006 0.78084105 0.76614761 0.75145292 0.7369886\n",
            " 0.72276014 0.70868868 0.69478041 0.68120408 0.66784322 0.65471536\n",
            " 0.64184272 0.62921619 0.61682874 0.60466892 0.59275597 0.58107728]\n",
            "day 26 : predicted output data [[0.56964236]]\n",
            "day 27 : input data [0.97155967 1.         1.         0.94169641 0.92377853 0.91134757\n",
            " 0.89014912 0.87083513 0.85741597 0.84106898 0.82488793 0.81054485\n",
            " 0.79591006 0.78084105 0.76614761 0.75145292 0.7369886  0.72276014\n",
            " 0.70868868 0.69478041 0.68120408 0.66784322 0.65471536 0.64184272\n",
            " 0.62921619 0.61682874 0.60466892 0.59275597 0.58107728 0.56964236]\n",
            "day 27 : predicted output data [[0.5585096]]\n",
            "day 28 : input data [1.         1.         0.94169641 0.92377853 0.91134757 0.89014912\n",
            " 0.87083513 0.85741597 0.84106898 0.82488793 0.81054485 0.79591006\n",
            " 0.78084105 0.76614761 0.75145292 0.7369886  0.72276014 0.70868868\n",
            " 0.69478041 0.68120408 0.66784322 0.65471536 0.64184272 0.62921619\n",
            " 0.61682874 0.60466892 0.59275597 0.58107728 0.56964236 0.55850959]\n",
            "day 28 : predicted output data [[0.5476467]]\n",
            "day 29 : input data [1.         0.94169641 0.92377853 0.91134757 0.89014912 0.87083513\n",
            " 0.85741597 0.84106898 0.82488793 0.81054485 0.79591006 0.78084105\n",
            " 0.76614761 0.75145292 0.7369886  0.72276014 0.70868868 0.69478041\n",
            " 0.68120408 0.66784322 0.65471536 0.64184272 0.62921619 0.61682874\n",
            " 0.60466892 0.59275597 0.58107728 0.56964236 0.55850959 0.5476467 ]\n",
            "day 29 : predicted output data [[0.5370819]]\n",
            "[[0.9416964054107666], [0.9237785339355469], [0.9113475680351257], [0.8901491165161133], [0.8708351254463196], [0.8574159741401672], [0.8410689830780029], [0.8248879313468933], [0.8105448484420776], [0.7959100604057312], [0.780841052532196], [0.7661476135253906], [0.7514529228210449], [0.7369886040687561], [0.7227601408958435], [0.7086886763572693], [0.6947804093360901], [0.681204080581665], [0.667843222618103], [0.654715359210968], [0.6418427228927612], [0.629216194152832], [0.6168287396430969], [0.604668915271759], [0.5927559733390808], [0.5810772776603699], [0.5696423649787903], [0.5585095882415771], [0.547646701335907], [0.5370818972587585]]\n"
          ],
          "name": "stdout"
        }
      ]
    },
    {
      "cell_type": "code",
      "metadata": {
        "colab": {
          "base_uri": "https://localhost:8080/",
          "height": 296
        },
        "id": "tsiNBjUd5JKC",
        "outputId": "585c4b2f-124c-4059-b756-dcfd76b01309"
      },
      "source": [
        "# appending the future 30 days and plotting the graph\n",
        "df1=df.tolist()\n",
        "df1.extend(future_output)\n",
        "plt.plot(df1[(len(df)-no_of_steps):])\n",
        "plt.xlabel('Days')\n",
        "plt.ylabel('normalized Stock Price')"
      ],
      "execution_count": 30,
      "outputs": [
        {
          "output_type": "execute_result",
          "data": {
            "text/plain": [
              "Text(0, 0.5, 'normalized Stock Price')"
            ]
          },
          "metadata": {
            "tags": []
          },
          "execution_count": 30
        },
        {
          "output_type": "display_data",
          "data": {
            "image/png": "[encoded data removed]",
            "text/plain": [
              "<Figure size 432x288 with 1 Axes>"
            ]
          },
          "metadata": {
            "tags": [],
            "needs_background": "light"
          }
        }
      ]
    },
    {
      "cell_type": "code",
      "metadata": {
        "id": "jnBejbc85JYL"
      },
      "source": [
        "df2=scaler.inverse_transform(df1).tolist()"
      ],
      "execution_count": 31,
      "outputs": []
    },
    {
      "cell_type": "code",
      "metadata": {
        "colab": {
          "base_uri": "https://localhost:8080/",
          "height": 296
        },
        "id": "-WRuIL3S5SOf",
        "outputId": "79b5b1d7-0895-4da4-8772-f0eff38e7168"
      },
      "source": [
        "# tranformed it back to original image with future 30 days\n",
        "plt.plot(df2)\n",
        "plt.xlabel('Days')\n",
        "plt.ylabel('Stock Price')"
      ],
      "execution_count": 32,
      "outputs": [
        {
          "output_type": "execute_result",
          "data": {
            "text/plain": [
              "Text(0, 0.5, 'Stock Price')"
            ]
          },
          "metadata": {
            "tags": []
          },
          "execution_count": 32
        },
        {
          "output_type": "display_data",
          "data": {
            "image/png": "[encoded data removed]",
            "text/plain": [
              "<Figure size 432x288 with 1 Axes>"
            ]
          },
          "metadata": {
            "tags": [],
            "needs_background": "light"
          }
        }
      ]
    }
  ]
}