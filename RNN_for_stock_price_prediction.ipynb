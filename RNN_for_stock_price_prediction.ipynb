{
  "nbformat": 4,
  "nbformat_minor": 0,
  "metadata": {
    "colab": {
      "name": "RNN for stock price prediction.ipynb",
      "provenance": [],
      "collapsed_sections": []
    },
    "kernelspec": {
      "name": "python3",
      "display_name": "Python 3"
    },
    "language_info": {
      "name": "python"
    },
    "accelerator": "GPU"
  },
  "cells": [
    {
      "cell_type": "markdown",
      "metadata": {
        "id": "QLOcqCi_xUV0"
      },
      "source": [
        "Import Required libraries"
      ]
    },
    {
      "cell_type": "code",
      "metadata": {
        "colab": {
          "base_uri": "https://localhost:8080/"
        },
        "id": "GMV40IwPvM00",
        "outputId": "b9ff8314-834a-432f-bb3a-728358574525"
      },
      "source": [
        "#install the yahoo finance  \n",
        "!pip install yfinance --upgrade --no-cache-dir"
      ],
      "execution_count": null,
      "outputs": [
        {
          "output_type": "stream",
          "text": [
            "Collecting yfinance\n",
            "  Downloading https://files.pythonhosted.org/packages/a7/ee/315752b9ef281ba83c62aa7ec2e2074f85223da6e7e74efb4d3e11c0f510/yfinance-0.1.59.tar.gz\n",
            "Requirement already satisfied, skipping upgrade: pandas>=0.24 in /usr/local/lib/python3.7/dist-packages (from yfinance) (1.1.5)\n",
            "Requirement already satisfied, skipping upgrade: numpy>=1.15 in /usr/local/lib/python3.7/dist-packages (from yfinance) (1.19.5)\n",
            "Requirement already satisfied, skipping upgrade: requests>=2.20 in /usr/local/lib/python3.7/dist-packages (from yfinance) (2.23.0)\n",
            "Requirement already satisfied, skipping upgrade: multitasking>=0.0.7 in /usr/local/lib/python3.7/dist-packages (from yfinance) (0.0.9)\n",
            "Collecting lxml>=4.5.1\n",
            "\u001b[?25l  Downloading https://files.pythonhosted.org/packages/30/c0/d0526314971fc661b083ab135747dc68446a3022686da8c16d25fcf6ef07/lxml-4.6.3-cp37-cp37m-manylinux2014_x86_64.whl (6.3MB)\n",
            "\u001b[K     |████████████████████████████████| 6.3MB 11.8MB/s \n",
            "\u001b[?25hRequirement already satisfied, skipping upgrade: python-dateutil>=2.7.3 in /usr/local/lib/python3.7/dist-packages (from pandas>=0.24->yfinance) (2.8.1)\n",
            "Requirement already satisfied, skipping upgrade: pytz>=2017.2 in /usr/local/lib/python3.7/dist-packages (from pandas>=0.24->yfinance) (2018.9)\n",
            "Requirement already satisfied, skipping upgrade: urllib3!=1.25.0,!=1.25.1,<1.26,>=1.21.1 in /usr/local/lib/python3.7/dist-packages (from requests>=2.20->yfinance) (1.24.3)\n",
            "Requirement already satisfied, skipping upgrade: certifi>=2017.4.17 in /usr/local/lib/python3.7/dist-packages (from requests>=2.20->yfinance) (2020.12.5)\n",
            "Requirement already satisfied, skipping upgrade: idna<3,>=2.5 in /usr/local/lib/python3.7/dist-packages (from requests>=2.20->yfinance) (2.10)\n",
            "Requirement already satisfied, skipping upgrade: chardet<4,>=3.0.2 in /usr/local/lib/python3.7/dist-packages (from requests>=2.20->yfinance) (3.0.4)\n",
            "Requirement already satisfied, skipping upgrade: six>=1.5 in /usr/local/lib/python3.7/dist-packages (from python-dateutil>=2.7.3->pandas>=0.24->yfinance) (1.15.0)\n",
            "Building wheels for collected packages: yfinance\n",
            "  Building wheel for yfinance (setup.py) ... \u001b[?25l\u001b[?25hdone\n",
            "  Created wheel for yfinance: filename=yfinance-0.1.59-py2.py3-none-any.whl size=23442 sha256=cecf2ac7c4579995add9b66782e1d347fc8c52d03ac963f2fbef0343d9ca3000\n",
            "  Stored in directory: /tmp/pip-ephem-wheel-cache-7bccr0fr/wheels/f8/2a/0f/4b5a86e1d52e451757eb6bc17fd899629f0925c777741b6d04\n",
            "Successfully built yfinance\n",
            "Installing collected packages: lxml, yfinance\n",
            "  Found existing installation: lxml 4.2.6\n",
            "    Uninstalling lxml-4.2.6:\n",
            "      Successfully uninstalled lxml-4.2.6\n",
            "Successfully installed lxml-4.6.3 yfinance-0.1.59\n"
          ],
          "name": "stdout"
        }
      ]
    },
    {
      "cell_type": "code",
      "metadata": {
        "colab": {
          "base_uri": "https://localhost:8080/"
        },
        "id": "MWE5jY0YvRk2",
        "outputId": "28b5d49b-513a-466b-c25e-3d725c17fabf"
      },
      "source": [
        "!pip install -U \"scikit-learn==0.24\""
      ],
      "execution_count": null,
      "outputs": [
        {
          "output_type": "stream",
          "text": [
            "Collecting scikit-learn==0.24\n",
            "\u001b[?25l  Downloading https://files.pythonhosted.org/packages/b1/ed/ab51a8da34d2b3f4524b21093081e7f9e2ddf1c9eac9f795dcf68ad0a57d/scikit_learn-0.24.0-cp37-cp37m-manylinux2010_x86_64.whl (22.3MB)\n",
            "\u001b[K     |████████████████████████████████| 22.3MB 69.1MB/s \n",
            "\u001b[?25hRequirement already satisfied, skipping upgrade: joblib>=0.11 in /usr/local/lib/python3.7/dist-packages (from scikit-learn==0.24) (1.0.1)\n",
            "Collecting threadpoolctl>=2.0.0\n",
            "  Downloading https://files.pythonhosted.org/packages/f7/12/ec3f2e203afa394a149911729357aa48affc59c20e2c1c8297a60f33f133/threadpoolctl-2.1.0-py3-none-any.whl\n",
            "Requirement already satisfied, skipping upgrade: scipy>=0.19.1 in /usr/local/lib/python3.7/dist-packages (from scikit-learn==0.24) (1.4.1)\n",
            "Requirement already satisfied, skipping upgrade: numpy>=1.13.3 in /usr/local/lib/python3.7/dist-packages (from scikit-learn==0.24) (1.19.5)\n",
            "Installing collected packages: threadpoolctl, scikit-learn\n",
            "  Found existing installation: scikit-learn 0.22.2.post1\n",
            "    Uninstalling scikit-learn-0.22.2.post1:\n",
            "      Successfully uninstalled scikit-learn-0.22.2.post1\n",
            "Successfully installed scikit-learn-0.24.0 threadpoolctl-2.1.0\n"
          ],
          "name": "stdout"
        }
      ]
    },
    {
      "cell_type": "code",
      "metadata": {
        "id": "gq212vklvTrS"
      },
      "source": [
        "from pandas_datareader import data as pdr\n",
        "from datetime import date\n",
        "import yfinance as yf\n",
        "yf.pdr_override()\n",
        "import numpy as np\n",
        "np.random.seed(7)\n",
        "import pandas as pd\n",
        "import math\n",
        "import numpy as np\n",
        "from keras.models import Sequential\n",
        "from keras.layers import Activation, SimpleRNN,Dense,Dropout\n",
        "from keras import optimizers\n",
        "from sklearn.metrics import mean_squared_error\n",
        "from math import sqrt\n",
        "from sklearn.metrics import r2_score\n",
        "from keras.layers.recurrent import LSTM\n",
        "from sklearn.metrics import accuracy_score\n",
        "import os.path\n",
        "from os import path\n",
        "import numpy\n",
        "import matplotlib.pyplot as plt\n",
        "from sklearn.preprocessing import MinMaxScaler\n",
        "from numpy import array\n",
        "from sklearn.metrics import mean_absolute_percentage_error\n",
        "import keras\n",
        "keras.backend.set_epsilon(1)"
      ],
      "execution_count": null,
      "outputs": []
    },
    {
      "cell_type": "markdown",
      "metadata": {
        "id": "YzFs9RC_xd_S"
      },
      "source": [
        "Collect the data"
      ]
    },
    {
      "cell_type": "code",
      "metadata": {
        "colab": {
          "base_uri": "https://localhost:8080/"
        },
        "id": "zbUKICmE0Q9n",
        "outputId": "787db2e9-83a5-48a6-936d-1a19de7b52a8"
      },
      "source": [
        "#https://finance.yahoo.com/sector/ms_financial_services\n",
        "ticker_list=['BRK-B','BRK-A','MSFT','AAPL','FB','JPM']\n",
        "today = date.today()\n",
        "l = len(ticker_list)\n",
        "df_dict = {} # creating a dictionay for the data\n",
        "files=[]\n",
        "sector=[]\n",
        "for i in range(0,l):\n",
        "  sector = yf.Ticker(ticker_list[i]).info['sector']\n",
        "  if path.exists('./'+sector) == False:\n",
        "    os.mkdir('./'+sector)\n",
        "  else:\n",
        "    print(\"folder already exist\");\n",
        "# we are getting the data with a start and end\n",
        "def getData(ticker):\n",
        "  print(ticker)\n",
        "  data = pdr.get_data_yahoo(ticker, start=\"2020-01-01\", end=\"2021-05-17\")\n",
        "  df_dict[ticker] = data # storing the data frames in the dictionary\n",
        "  dataname= ticker+'_'+str(today)\n",
        "  files.append(dataname)\n",
        "  SaveData(data, dataname,yf.Ticker(ticker).info['sector'])\n",
        "\n",
        "# we are having the data based on the sector of the company\n",
        "  \n",
        "def SaveData(df, filename,sector):\n",
        "  if (sector == 'Financial Services'):\n",
        "    df.to_csv('./Financial Services/'+filename+'.csv')\n",
        "  elif (sector == 'Technology'):\n",
        "    df.to_csv('./Technology/'+filename+'.csv')\n",
        "  elif (sector == 'Communication Services'):\n",
        "    df.to_csv('./Communication Services/'+filename+'.csv')\n",
        "  else:\n",
        "    print(\"sector is not being considered\");\n",
        "\n",
        "for ticker in ticker_list:\n",
        "  getData(ticker)\n"
      ],
      "execution_count": null,
      "outputs": [
        {
          "output_type": "stream",
          "text": [
            "folder already exist\n",
            "folder already exist\n",
            "folder already exist\n",
            "BRK-B\n",
            "[*********************100%***********************]  1 of 1 completed\n",
            "BRK-A\n",
            "[*********************100%***********************]  1 of 1 completed\n",
            "MSFT\n",
            "[*********************100%***********************]  1 of 1 completed\n",
            "AAPL\n",
            "[*********************100%***********************]  1 of 1 completed\n",
            "FB\n",
            "[*********************100%***********************]  1 of 1 completed\n",
            "JPM\n",
            "[*********************100%***********************]  1 of 1 completed\n"
          ],
          "name": "stdout"
        }
      ]
    },
    {
      "cell_type": "markdown",
      "metadata": {
        "id": "NJcWzvYyxhtp"
      },
      "source": [
        "Preprocess the data"
      ]
    },
    {
      "cell_type": "code",
      "metadata": {
        "colab": {
          "base_uri": "https://localhost:8080/"
        },
        "id": "uZ9FQdJtXmfj",
        "outputId": "b6e8a577-e40e-41af-82d6-58f39c9032cc"
      },
      "source": [
        "\n",
        "# finding the features with highest correlation with the close feature\n",
        "company = 'JPM'\n",
        "df_dict[company].corr()['Adj Close']"
      ],
      "execution_count": null,
      "outputs": [
        {
          "output_type": "execute_result",
          "data": {
            "text/plain": [
              "Open         0.994448\n",
              "High         0.996137\n",
              "Low          0.996081\n",
              "Close        0.997893\n",
              "Adj Close    1.000000\n",
              "Volume      -0.437272\n",
              "Name: Adj Close, dtype: float64"
            ]
          },
          "metadata": {
            "tags": []
          },
          "execution_count": 5
        }
      ]
    },
    {
      "cell_type": "code",
      "metadata": {
        "colab": {
          "base_uri": "https://localhost:8080/",
          "height": 235
        },
        "id": "cN-uk72I5f3Q",
        "outputId": "93b97b98-c42d-43b9-cf64-fe83e8656aa5"
      },
      "source": [
        "\n",
        "df_dict[company].head()"
      ],
      "execution_count": null,
      "outputs": [
        {
          "output_type": "execute_result",
          "data": {
            "text/html": [
              "<div>\n",
              "<style scoped>\n",
              "    .dataframe tbody tr th:only-of-type {\n",
              "        vertical-align: middle;\n",
              "    }\n",
              "\n",
              "    .dataframe tbody tr th {\n",
              "        vertical-align: top;\n",
              "    }\n",
              "\n",
              "    .dataframe thead th {\n",
              "        text-align: right;\n",
              "    }\n",
              "</style>\n",
              "<table border=\"1\" class=\"dataframe\">\n",
              "  <thead>\n",
              "    <tr style=\"text-align: right;\">\n",
              "      <th></th>\n",
              "      <th>Open</th>\n",
              "      <th>High</th>\n",
              "      <th>Low</th>\n",
              "      <th>Close</th>\n",
              "      <th>Adj Close</th>\n",
              "      <th>Volume</th>\n",
              "    </tr>\n",
              "    <tr>\n",
              "      <th>Date</th>\n",
              "      <th></th>\n",
              "      <th></th>\n",
              "      <th></th>\n",
              "      <th></th>\n",
              "      <th></th>\n",
              "      <th></th>\n",
              "    </tr>\n",
              "  </thead>\n",
              "  <tbody>\n",
              "    <tr>\n",
              "      <th>2020-01-02</th>\n",
              "      <td>139.789993</td>\n",
              "      <td>141.100006</td>\n",
              "      <td>139.259995</td>\n",
              "      <td>141.089996</td>\n",
              "      <td>134.380966</td>\n",
              "      <td>10803700</td>\n",
              "    </tr>\n",
              "    <tr>\n",
              "      <th>2020-01-03</th>\n",
              "      <td>137.500000</td>\n",
              "      <td>139.229996</td>\n",
              "      <td>137.080002</td>\n",
              "      <td>138.339996</td>\n",
              "      <td>132.607590</td>\n",
              "      <td>10386800</td>\n",
              "    </tr>\n",
              "    <tr>\n",
              "      <th>2020-01-06</th>\n",
              "      <td>136.559998</td>\n",
              "      <td>138.270004</td>\n",
              "      <td>136.500000</td>\n",
              "      <td>138.229996</td>\n",
              "      <td>132.502167</td>\n",
              "      <td>10259000</td>\n",
              "    </tr>\n",
              "    <tr>\n",
              "      <th>2020-01-07</th>\n",
              "      <td>137.279999</td>\n",
              "      <td>137.860001</td>\n",
              "      <td>135.820007</td>\n",
              "      <td>135.880005</td>\n",
              "      <td>130.249542</td>\n",
              "      <td>10531300</td>\n",
              "    </tr>\n",
              "    <tr>\n",
              "      <th>2020-01-08</th>\n",
              "      <td>135.699997</td>\n",
              "      <td>137.580002</td>\n",
              "      <td>135.600006</td>\n",
              "      <td>136.940002</td>\n",
              "      <td>131.265610</td>\n",
              "      <td>9695300</td>\n",
              "    </tr>\n",
              "  </tbody>\n",
              "</table>\n",
              "</div>"
            ],
            "text/plain": [
              "                  Open        High  ...   Adj Close    Volume\n",
              "Date                                ...                      \n",
              "2020-01-02  139.789993  141.100006  ...  134.380966  10803700\n",
              "2020-01-03  137.500000  139.229996  ...  132.607590  10386800\n",
              "2020-01-06  136.559998  138.270004  ...  132.502167  10259000\n",
              "2020-01-07  137.279999  137.860001  ...  130.249542  10531300\n",
              "2020-01-08  135.699997  137.580002  ...  131.265610   9695300\n",
              "\n",
              "[5 rows x 6 columns]"
            ]
          },
          "metadata": {
            "tags": []
          },
          "execution_count": 6
        }
      ]
    },
    {
      "cell_type": "code",
      "metadata": {
        "colab": {
          "base_uri": "https://localhost:8080/",
          "height": 419
        },
        "id": "u_gReNTu0kgk",
        "outputId": "1ddc87ae-639b-40ab-d9d3-c3dc0c42a189"
      },
      "source": [
        "# we are considering a subset of company featues but we can consider only positively correlated features\n",
        "df=df_dict[company].reset_index()[['Adj Close', 'Close']]\n",
        "df"
      ],
      "execution_count": null,
      "outputs": [
        {
          "output_type": "execute_result",
          "data": {
            "text/html": [
              "<div>\n",
              "<style scoped>\n",
              "    .dataframe tbody tr th:only-of-type {\n",
              "        vertical-align: middle;\n",
              "    }\n",
              "\n",
              "    .dataframe tbody tr th {\n",
              "        vertical-align: top;\n",
              "    }\n",
              "\n",
              "    .dataframe thead th {\n",
              "        text-align: right;\n",
              "    }\n",
              "</style>\n",
              "<table border=\"1\" class=\"dataframe\">\n",
              "  <thead>\n",
              "    <tr style=\"text-align: right;\">\n",
              "      <th></th>\n",
              "      <th>Adj Close</th>\n",
              "      <th>Close</th>\n",
              "    </tr>\n",
              "  </thead>\n",
              "  <tbody>\n",
              "    <tr>\n",
              "      <th>0</th>\n",
              "      <td>134.380966</td>\n",
              "      <td>141.089996</td>\n",
              "    </tr>\n",
              "    <tr>\n",
              "      <th>1</th>\n",
              "      <td>132.607590</td>\n",
              "      <td>138.339996</td>\n",
              "    </tr>\n",
              "    <tr>\n",
              "      <th>2</th>\n",
              "      <td>132.502167</td>\n",
              "      <td>138.229996</td>\n",
              "    </tr>\n",
              "    <tr>\n",
              "      <th>3</th>\n",
              "      <td>130.249542</td>\n",
              "      <td>135.880005</td>\n",
              "    </tr>\n",
              "    <tr>\n",
              "      <th>4</th>\n",
              "      <td>131.265610</td>\n",
              "      <td>136.940002</td>\n",
              "    </tr>\n",
              "    <tr>\n",
              "      <th>...</th>\n",
              "      <td>...</td>\n",
              "      <td>...</td>\n",
              "    </tr>\n",
              "    <tr>\n",
              "      <th>340</th>\n",
              "      <td>161.220001</td>\n",
              "      <td>161.220001</td>\n",
              "    </tr>\n",
              "    <tr>\n",
              "      <th>341</th>\n",
              "      <td>158.539993</td>\n",
              "      <td>158.539993</td>\n",
              "    </tr>\n",
              "    <tr>\n",
              "      <th>342</th>\n",
              "      <td>157.449997</td>\n",
              "      <td>157.449997</td>\n",
              "    </tr>\n",
              "    <tr>\n",
              "      <th>343</th>\n",
              "      <td>161.500000</td>\n",
              "      <td>161.500000</td>\n",
              "    </tr>\n",
              "    <tr>\n",
              "      <th>344</th>\n",
              "      <td>164.009995</td>\n",
              "      <td>164.009995</td>\n",
              "    </tr>\n",
              "  </tbody>\n",
              "</table>\n",
              "<p>345 rows × 2 columns</p>\n",
              "</div>"
            ],
            "text/plain": [
              "      Adj Close       Close\n",
              "0    134.380966  141.089996\n",
              "1    132.607590  138.339996\n",
              "2    132.502167  138.229996\n",
              "3    130.249542  135.880005\n",
              "4    131.265610  136.940002\n",
              "..          ...         ...\n",
              "340  161.220001  161.220001\n",
              "341  158.539993  158.539993\n",
              "342  157.449997  157.449997\n",
              "343  161.500000  161.500000\n",
              "344  164.009995  164.009995\n",
              "\n",
              "[345 rows x 2 columns]"
            ]
          },
          "metadata": {
            "tags": []
          },
          "execution_count": 7
        }
      ]
    },
    {
      "cell_type": "code",
      "metadata": {
        "colab": {
          "base_uri": "https://localhost:8080/",
          "height": 299
        },
        "id": "ij_oCMqa0j94",
        "outputId": "118ba934-86b9-4bbc-bed2-51235fd9cb72"
      },
      "source": [
        "import matplotlib.pyplot as plt\n",
        "plt.plot(df)"
      ],
      "execution_count": null,
      "outputs": [
        {
          "output_type": "execute_result",
          "data": {
            "text/plain": [
              "[<matplotlib.lines.Line2D at 0x7fe59c7f2410>,\n",
              " <matplotlib.lines.Line2D at 0x7fe59c8a2850>]"
            ]
          },
          "metadata": {
            "tags": []
          },
          "execution_count": 8
        },
        {
          "output_type": "display_data",
          "data": {
            "image/png": "[encoded data removed]",
            "text/plain": [
              "<Figure size 432x288 with 1 Axes>"
            ]
          },
          "metadata": {
            "tags": [],
            "needs_background": "light"
          }
        }
      ]
    },
    {
      "cell_type": "code",
      "metadata": {
        "id": "7T11CXNK1G5e"
      },
      "source": [
        "\n",
        "#normalize the data using minMaxScalar\n",
        "from sklearn.preprocessing import MinMaxScaler\n",
        "scaler=MinMaxScaler(feature_range=(0,1))\n",
        "df=scaler.fit_transform(np.array(df).reshape(-1,1))"
      ],
      "execution_count": null,
      "outputs": []
    },
    {
      "cell_type": "code",
      "metadata": {
        "id": "ZmzoAmXd1G9e"
      },
      "source": [
        "#split dataset into train and test \n",
        "split = 0.80\n",
        "training_size=int(len(df)*split)\n",
        "test_size=len(df)-training_size\n",
        "train_data,test_data=df[0:training_size,:],df[training_size:len(df),:1]"
      ],
      "execution_count": null,
      "outputs": []
    },
    {
      "cell_type": "code",
      "metadata": {
        "colab": {
          "base_uri": "https://localhost:8080/"
        },
        "id": "iHqSsp5N1HDI",
        "outputId": "40a13d88-d35e-4620-b3f0-d7917e732f17"
      },
      "source": [
        "training_size,test_size"
      ],
      "execution_count": null,
      "outputs": [
        {
          "output_type": "execute_result",
          "data": {
            "text/plain": [
              "(552, 138)"
            ]
          },
          "metadata": {
            "tags": []
          },
          "execution_count": 11
        }
      ]
    },
    {
      "cell_type": "code",
      "metadata": {
        "id": "mJluDBsYdhro"
      },
      "source": [
        "# converting data into the time_step data\n",
        "def timestep_data(dataset, time_step=1):\n",
        "\tdata_input, data_output = [], []\n",
        "\tfor i in range(len(dataset)-time_step-1):\n",
        "\t\tdata1 = dataset[i:(i+time_step), 0]   \n",
        "\t\tdata_input.append(data1)\n",
        "\t\tdata_output.append(dataset[i + time_step, 0])\n",
        "\treturn np.array(data_input), np.array(data_output)"
      ],
      "execution_count": null,
      "outputs": []
    },
    {
      "cell_type": "code",
      "metadata": {
        "id": "mRhneIna3UHa"
      },
      "source": [
        "# we take a previous memory i.e set to values without dependence on the data here it is 30\n",
        "time_step = 30\n",
        "x_train, y_train = timestep_data(train_data, time_step)\n",
        "x_test, y_test = timestep_data(test_data, time_step)"
      ],
      "execution_count": null,
      "outputs": []
    },
    {
      "cell_type": "code",
      "metadata": {
        "colab": {
          "base_uri": "https://localhost:8080/"
        },
        "id": "qR_cTmOXeBQ1",
        "outputId": "d5722ea3-c637-4d80-853c-a7a1a9c3cb2b"
      },
      "source": [
        "print(\"x_train shape \",x_train.shape,\"y_train shape\", y_train.shape,\"x_test shape\",x_test.shape,\"y_test shape\",y_test.shape)"
      ],
      "execution_count": null,
      "outputs": [
        {
          "output_type": "stream",
          "text": [
            "x_train shape  (521, 30) y_train shape (521,) x_test shape (107, 30) y_test shape (107,)\n"
          ],
          "name": "stdout"
        }
      ]
    },
    {
      "cell_type": "code",
      "metadata": {
        "id": "Cbij4x-T3grs"
      },
      "source": [
        "#reshape the data before sending it ot the model\n",
        "\n",
        "x_train =x_train.reshape(x_train.shape[0],x_train.shape[1] , 1)\n",
        "x_test = x_test.reshape(x_test.shape[0],x_test.shape[1] , 1)"
      ],
      "execution_count": null,
      "outputs": []
    },
    {
      "cell_type": "code",
      "metadata": {
        "id": "XsKExdxESYPG"
      },
      "source": [
        "#hyperparameters\n",
        "lr = 1e-3\n",
        "batch_size = 64\n",
        "num_epochs = 250\n",
        "hl = [50,45]"
      ],
      "execution_count": null,
      "outputs": []
    },
    {
      "cell_type": "markdown",
      "metadata": {
        "id": "9b4zK64DxyDR"
      },
      "source": [
        "Model"
      ]
    },
    {
      "cell_type": "code",
      "metadata": {
        "id": "e0oVir9-3gzD"
      },
      "source": [
        "# for rnn model \n",
        "model = Sequential()\n",
        "model.add(SimpleRNN(x_train.shape[2],input_shape = (x_train.shape[1],x_train.shape[2]),return_sequences = True,\n",
        "                        activation = 'relu'))\n",
        "for i in range(len(hl)-1):        \n",
        "  model.add(SimpleRNN(hl[i],activation = 'relu',return_sequences = True))\n",
        "\n",
        "model.add(SimpleRNN(hl[-1],activation = 'relu'))\n",
        "model.add(Dense(1))\n",
        "model.compile(optimizer = optimizers.Adam(lr = lr), loss = 'mean_squared_error' )\n",
        "\n",
        "\n",
        "\n"
      ],
      "execution_count": null,
      "outputs": []
    },
    {
      "cell_type": "code",
      "metadata": {
        "colab": {
          "base_uri": "https://localhost:8080/"
        },
        "id": "bKzB-chW3g6d",
        "outputId": "c5ef7589-76dc-4199-a5ca-dedc936d2ae4"
      },
      "source": [
        "history = model.fit(x_train,y_train,validation_data=(x_test,y_test),epochs=num_epochs,batch_size=batch_size,verbose=1)"
      ],
      "execution_count": null,
      "outputs": [
        {
          "output_type": "stream",
          "text": [
            "Epoch 1/250\n",
            "9/9 [==============================] - 5s 128ms/step - loss: 0.0685 - val_loss: 0.0034\n",
            "Epoch 2/250\n",
            "9/9 [==============================] - 0s 54ms/step - loss: 0.0101 - val_loss: 0.0136\n",
            "Epoch 3/250\n",
            "9/9 [==============================] - 0s 56ms/step - loss: 0.0045 - val_loss: 0.0135\n",
            "Epoch 4/250\n",
            "9/9 [==============================] - 1s 61ms/step - loss: 0.0033 - val_loss: 8.4782e-04\n",
            "Epoch 5/250\n",
            "9/9 [==============================] - 0s 55ms/step - loss: 0.0029 - val_loss: 0.0037\n",
            "Epoch 6/250\n",
            "9/9 [==============================] - 1s 55ms/step - loss: 0.0026 - val_loss: 7.6186e-04\n",
            "Epoch 7/250\n",
            "9/9 [==============================] - 1s 57ms/step - loss: 0.0021 - val_loss: 0.0016\n",
            "Epoch 8/250\n",
            "9/9 [==============================] - 1s 65ms/step - loss: 0.0020 - val_loss: 7.6584e-04\n",
            "Epoch 9/250\n",
            "9/9 [==============================] - 1s 58ms/step - loss: 0.0019 - val_loss: 6.7404e-04\n",
            "Epoch 10/250\n",
            "9/9 [==============================] - 0s 56ms/step - loss: 0.0018 - val_loss: 6.0748e-04\n",
            "Epoch 11/250\n",
            "9/9 [==============================] - 1s 61ms/step - loss: 0.0015 - val_loss: 6.4459e-04\n",
            "Epoch 12/250\n",
            "9/9 [==============================] - 1s 62ms/step - loss: 0.0018 - val_loss: 6.6311e-04\n",
            "Epoch 13/250\n",
            "9/9 [==============================] - 1s 60ms/step - loss: 0.0015 - val_loss: 9.1484e-04\n",
            "Epoch 14/250\n",
            "9/9 [==============================] - 0s 56ms/step - loss: 0.0015 - val_loss: 7.8997e-04\n",
            "Epoch 15/250\n",
            "9/9 [==============================] - 1s 60ms/step - loss: 0.0016 - val_loss: 0.0017\n",
            "Epoch 16/250\n",
            "9/9 [==============================] - 1s 56ms/step - loss: 0.0015 - val_loss: 6.6040e-04\n",
            "Epoch 17/250\n",
            "9/9 [==============================] - 1s 61ms/step - loss: 0.0014 - val_loss: 7.5003e-04\n",
            "Epoch 18/250\n",
            "9/9 [==============================] - 0s 53ms/step - loss: 0.0014 - val_loss: 5.6412e-04\n",
            "Epoch 19/250\n",
            "9/9 [==============================] - 1s 59ms/step - loss: 0.0012 - val_loss: 9.6163e-04\n",
            "Epoch 20/250\n",
            "9/9 [==============================] - 0s 56ms/step - loss: 0.0015 - val_loss: 5.7790e-04\n",
            "Epoch 21/250\n",
            "9/9 [==============================] - 1s 58ms/step - loss: 0.0015 - val_loss: 5.8495e-04\n",
            "Epoch 22/250\n",
            "9/9 [==============================] - 1s 61ms/step - loss: 0.0012 - val_loss: 9.3212e-04\n",
            "Epoch 23/250\n",
            "9/9 [==============================] - 1s 64ms/step - loss: 0.0013 - val_loss: 6.7061e-04\n",
            "Epoch 24/250\n",
            "9/9 [==============================] - 1s 58ms/step - loss: 0.0013 - val_loss: 5.4733e-04\n",
            "Epoch 25/250\n",
            "9/9 [==============================] - 0s 54ms/step - loss: 0.0012 - val_loss: 8.5346e-04\n",
            "Epoch 26/250\n",
            "9/9 [==============================] - 1s 61ms/step - loss: 0.0013 - val_loss: 5.2639e-04\n",
            "Epoch 27/250\n",
            "9/9 [==============================] - 1s 58ms/step - loss: 0.0012 - val_loss: 5.3501e-04\n",
            "Epoch 28/250\n",
            "9/9 [==============================] - 1s 59ms/step - loss: 0.0011 - val_loss: 5.3975e-04\n",
            "Epoch 29/250\n",
            "9/9 [==============================] - 1s 56ms/step - loss: 0.0013 - val_loss: 5.7141e-04\n",
            "Epoch 30/250\n",
            "9/9 [==============================] - 1s 63ms/step - loss: 0.0011 - val_loss: 5.2937e-04\n",
            "Epoch 31/250\n",
            "9/9 [==============================] - 1s 61ms/step - loss: 0.0013 - val_loss: 5.2050e-04\n",
            "Epoch 32/250\n",
            "9/9 [==============================] - 1s 57ms/step - loss: 0.0012 - val_loss: 5.2033e-04\n",
            "Epoch 33/250\n",
            "9/9 [==============================] - 1s 57ms/step - loss: 0.0012 - val_loss: 0.0015\n",
            "Epoch 34/250\n",
            "9/9 [==============================] - 1s 59ms/step - loss: 0.0013 - val_loss: 5.1468e-04\n",
            "Epoch 35/250\n",
            "9/9 [==============================] - 0s 56ms/step - loss: 9.9618e-04 - val_loss: 7.0815e-04\n",
            "Epoch 36/250\n",
            "9/9 [==============================] - 1s 59ms/step - loss: 0.0011 - val_loss: 5.0425e-04\n",
            "Epoch 37/250\n",
            "9/9 [==============================] - 0s 53ms/step - loss: 0.0012 - val_loss: 5.0279e-04\n",
            "Epoch 38/250\n",
            "9/9 [==============================] - 1s 63ms/step - loss: 0.0010 - val_loss: 5.0067e-04\n",
            "Epoch 39/250\n",
            "9/9 [==============================] - 0s 53ms/step - loss: 0.0012 - val_loss: 7.7032e-04\n",
            "Epoch 40/250\n",
            "9/9 [==============================] - 1s 59ms/step - loss: 0.0011 - val_loss: 5.1361e-04\n",
            "Epoch 41/250\n",
            "9/9 [==============================] - 1s 57ms/step - loss: 0.0011 - val_loss: 0.0010\n",
            "Epoch 42/250\n",
            "9/9 [==============================] - 1s 58ms/step - loss: 9.8061e-04 - val_loss: 6.7985e-04\n",
            "Epoch 43/250\n",
            "9/9 [==============================] - 1s 59ms/step - loss: 0.0011 - val_loss: 0.0014\n",
            "Epoch 44/250\n",
            "9/9 [==============================] - 1s 60ms/step - loss: 9.4592e-04 - val_loss: 5.3472e-04\n",
            "Epoch 45/250\n",
            "9/9 [==============================] - 1s 62ms/step - loss: 0.0011 - val_loss: 5.2022e-04\n",
            "Epoch 46/250\n",
            "9/9 [==============================] - 1s 58ms/step - loss: 9.2428e-04 - val_loss: 6.2432e-04\n",
            "Epoch 47/250\n",
            "9/9 [==============================] - 1s 60ms/step - loss: 0.0011 - val_loss: 0.0010\n",
            "Epoch 48/250\n",
            "9/9 [==============================] - 0s 54ms/step - loss: 0.0010 - val_loss: 7.3494e-04\n",
            "Epoch 49/250\n",
            "9/9 [==============================] - 1s 59ms/step - loss: 0.0010 - val_loss: 7.2615e-04\n",
            "Epoch 50/250\n",
            "9/9 [==============================] - 1s 61ms/step - loss: 9.4973e-04 - val_loss: 8.9789e-04\n",
            "Epoch 51/250\n",
            "9/9 [==============================] - 1s 58ms/step - loss: 9.8289e-04 - val_loss: 5.6611e-04\n",
            "Epoch 52/250\n",
            "9/9 [==============================] - 1s 57ms/step - loss: 0.0010 - val_loss: 5.3459e-04\n",
            "Epoch 53/250\n",
            "9/9 [==============================] - 1s 58ms/step - loss: 0.0010 - val_loss: 4.8389e-04\n",
            "Epoch 54/250\n",
            "9/9 [==============================] - 1s 56ms/step - loss: 9.9704e-04 - val_loss: 8.2163e-04\n",
            "Epoch 55/250\n",
            "9/9 [==============================] - 1s 58ms/step - loss: 8.9642e-04 - val_loss: 9.6701e-04\n",
            "Epoch 56/250\n",
            "9/9 [==============================] - 1s 61ms/step - loss: 0.0011 - val_loss: 7.0273e-04\n",
            "Epoch 57/250\n",
            "9/9 [==============================] - 1s 57ms/step - loss: 0.0011 - val_loss: 4.3661e-04\n",
            "Epoch 58/250\n",
            "9/9 [==============================] - 1s 56ms/step - loss: 9.3629e-04 - val_loss: 4.6787e-04\n",
            "Epoch 59/250\n",
            "9/9 [==============================] - 1s 58ms/step - loss: 0.0011 - val_loss: 4.6452e-04\n",
            "Epoch 60/250\n",
            "9/9 [==============================] - 1s 64ms/step - loss: 9.7019e-04 - val_loss: 5.0929e-04\n",
            "Epoch 61/250\n",
            "9/9 [==============================] - 1s 63ms/step - loss: 7.9604e-04 - val_loss: 5.7309e-04\n",
            "Epoch 62/250\n",
            "9/9 [==============================] - 0s 56ms/step - loss: 9.6854e-04 - val_loss: 4.7752e-04\n",
            "Epoch 63/250\n",
            "9/9 [==============================] - 1s 57ms/step - loss: 9.6870e-04 - val_loss: 4.2728e-04\n",
            "Epoch 64/250\n",
            "9/9 [==============================] - 1s 59ms/step - loss: 8.9705e-04 - val_loss: 9.4185e-04\n",
            "Epoch 65/250\n",
            "9/9 [==============================] - 1s 60ms/step - loss: 9.1163e-04 - val_loss: 5.4856e-04\n",
            "Epoch 66/250\n",
            "9/9 [==============================] - 1s 58ms/step - loss: 8.0016e-04 - val_loss: 9.5951e-04\n",
            "Epoch 67/250\n",
            "9/9 [==============================] - 1s 58ms/step - loss: 9.1238e-04 - val_loss: 7.1647e-04\n",
            "Epoch 68/250\n",
            "9/9 [==============================] - 1s 61ms/step - loss: 9.0851e-04 - val_loss: 8.1444e-04\n",
            "Epoch 69/250\n",
            "9/9 [==============================] - 1s 58ms/step - loss: 9.6863e-04 - val_loss: 4.6063e-04\n",
            "Epoch 70/250\n",
            "9/9 [==============================] - 1s 61ms/step - loss: 9.1734e-04 - val_loss: 3.9830e-04\n",
            "Epoch 71/250\n",
            "9/9 [==============================] - 1s 60ms/step - loss: 9.6097e-04 - val_loss: 4.1255e-04\n",
            "Epoch 72/250\n",
            "9/9 [==============================] - 1s 59ms/step - loss: 8.7406e-04 - val_loss: 4.1282e-04\n",
            "Epoch 73/250\n",
            "9/9 [==============================] - 1s 59ms/step - loss: 8.4837e-04 - val_loss: 4.1603e-04\n",
            "Epoch 74/250\n",
            "9/9 [==============================] - 1s 56ms/step - loss: 9.0839e-04 - val_loss: 3.7863e-04\n",
            "Epoch 75/250\n",
            "9/9 [==============================] - 1s 59ms/step - loss: 8.6162e-04 - val_loss: 5.3759e-04\n",
            "Epoch 76/250\n",
            "9/9 [==============================] - 1s 59ms/step - loss: 0.0010 - val_loss: 0.0010\n",
            "Epoch 77/250\n",
            "9/9 [==============================] - 1s 62ms/step - loss: 0.0011 - val_loss: 4.7322e-04\n",
            "Epoch 78/250\n",
            "9/9 [==============================] - 1s 59ms/step - loss: 8.7798e-04 - val_loss: 4.2554e-04\n",
            "Epoch 79/250\n",
            "9/9 [==============================] - 1s 65ms/step - loss: 9.9519e-04 - val_loss: 3.9541e-04\n",
            "Epoch 80/250\n",
            "9/9 [==============================] - 0s 54ms/step - loss: 8.5815e-04 - val_loss: 3.5256e-04\n",
            "Epoch 81/250\n",
            "9/9 [==============================] - 1s 58ms/step - loss: 8.6203e-04 - val_loss: 4.2155e-04\n",
            "Epoch 82/250\n",
            "9/9 [==============================] - 1s 59ms/step - loss: 8.3116e-04 - val_loss: 3.4947e-04\n",
            "Epoch 83/250\n",
            "9/9 [==============================] - 1s 61ms/step - loss: 8.7603e-04 - val_loss: 3.3168e-04\n",
            "Epoch 84/250\n",
            "9/9 [==============================] - 1s 59ms/step - loss: 7.7086e-04 - val_loss: 3.2544e-04\n",
            "Epoch 85/250\n",
            "9/9 [==============================] - 1s 60ms/step - loss: 8.4859e-04 - val_loss: 4.4954e-04\n",
            "Epoch 86/250\n",
            "9/9 [==============================] - 0s 55ms/step - loss: 7.5772e-04 - val_loss: 8.4601e-04\n",
            "Epoch 87/250\n",
            "9/9 [==============================] - 1s 62ms/step - loss: 8.7350e-04 - val_loss: 4.6089e-04\n",
            "Epoch 88/250\n",
            "9/9 [==============================] - 1s 61ms/step - loss: 8.8597e-04 - val_loss: 3.5540e-04\n",
            "Epoch 89/250\n",
            "9/9 [==============================] - 1s 57ms/step - loss: 7.6345e-04 - val_loss: 3.9010e-04\n",
            "Epoch 90/250\n",
            "9/9 [==============================] - 1s 61ms/step - loss: 8.7781e-04 - val_loss: 4.1460e-04\n",
            "Epoch 91/250\n",
            "9/9 [==============================] - 1s 57ms/step - loss: 9.2803e-04 - val_loss: 4.1997e-04\n",
            "Epoch 92/250\n",
            "9/9 [==============================] - 1s 56ms/step - loss: 8.9688e-04 - val_loss: 5.9589e-04\n",
            "Epoch 93/250\n",
            "9/9 [==============================] - 0s 52ms/step - loss: 8.3955e-04 - val_loss: 3.4857e-04\n",
            "Epoch 94/250\n",
            "9/9 [==============================] - 1s 55ms/step - loss: 8.8348e-04 - val_loss: 3.4154e-04\n",
            "Epoch 95/250\n",
            "9/9 [==============================] - 1s 60ms/step - loss: 7.7281e-04 - val_loss: 4.1749e-04\n",
            "Epoch 96/250\n",
            "9/9 [==============================] - 1s 57ms/step - loss: 7.5111e-04 - val_loss: 3.4013e-04\n",
            "Epoch 97/250\n",
            "9/9 [==============================] - 0s 54ms/step - loss: 8.3829e-04 - val_loss: 3.5726e-04\n",
            "Epoch 98/250\n",
            "9/9 [==============================] - 1s 58ms/step - loss: 7.1746e-04 - val_loss: 3.8649e-04\n",
            "Epoch 99/250\n",
            "9/9 [==============================] - 1s 56ms/step - loss: 7.7534e-04 - val_loss: 3.3779e-04\n",
            "Epoch 100/250\n",
            "9/9 [==============================] - 1s 61ms/step - loss: 9.1062e-04 - val_loss: 3.4495e-04\n",
            "Epoch 101/250\n",
            "9/9 [==============================] - 1s 60ms/step - loss: 7.6478e-04 - val_loss: 0.0017\n",
            "Epoch 102/250\n",
            "9/9 [==============================] - 1s 61ms/step - loss: 6.7881e-04 - val_loss: 5.1375e-04\n",
            "Epoch 103/250\n",
            "9/9 [==============================] - 1s 60ms/step - loss: 7.1157e-04 - val_loss: 3.4646e-04\n",
            "Epoch 104/250\n",
            "9/9 [==============================] - 1s 59ms/step - loss: 6.8623e-04 - val_loss: 4.3068e-04\n",
            "Epoch 105/250\n",
            "9/9 [==============================] - 1s 55ms/step - loss: 7.8894e-04 - val_loss: 3.4149e-04\n",
            "Epoch 106/250\n",
            "9/9 [==============================] - 1s 60ms/step - loss: 8.0344e-04 - val_loss: 4.0009e-04\n",
            "Epoch 107/250\n",
            "9/9 [==============================] - 1s 58ms/step - loss: 7.7741e-04 - val_loss: 0.0012\n",
            "Epoch 108/250\n",
            "9/9 [==============================] - 1s 59ms/step - loss: 6.5971e-04 - val_loss: 4.9490e-04\n",
            "Epoch 109/250\n",
            "9/9 [==============================] - 1s 60ms/step - loss: 6.8272e-04 - val_loss: 3.5593e-04\n",
            "Epoch 110/250\n",
            "9/9 [==============================] - 1s 60ms/step - loss: 6.3055e-04 - val_loss: 3.3888e-04\n",
            "Epoch 111/250\n",
            "9/9 [==============================] - 1s 62ms/step - loss: 8.1669e-04 - val_loss: 4.2314e-04\n",
            "Epoch 112/250\n",
            "9/9 [==============================] - 1s 62ms/step - loss: 8.3003e-04 - val_loss: 4.2207e-04\n",
            "Epoch 113/250\n",
            "9/9 [==============================] - 1s 61ms/step - loss: 9.0566e-04 - val_loss: 6.8966e-04\n",
            "Epoch 114/250\n",
            "9/9 [==============================] - 1s 63ms/step - loss: 6.5255e-04 - val_loss: 4.6499e-04\n",
            "Epoch 115/250\n",
            "9/9 [==============================] - 1s 58ms/step - loss: 6.5106e-04 - val_loss: 0.0019\n",
            "Epoch 116/250\n",
            "9/9 [==============================] - 0s 53ms/step - loss: 7.5855e-04 - val_loss: 0.0012\n",
            "Epoch 117/250\n",
            "9/9 [==============================] - 1s 62ms/step - loss: 7.6907e-04 - val_loss: 3.4032e-04\n",
            "Epoch 118/250\n",
            "9/9 [==============================] - 1s 61ms/step - loss: 5.8376e-04 - val_loss: 3.2540e-04\n",
            "Epoch 119/250\n",
            "9/9 [==============================] - 1s 58ms/step - loss: 7.0092e-04 - val_loss: 4.0793e-04\n",
            "Epoch 120/250\n",
            "9/9 [==============================] - 1s 59ms/step - loss: 7.6463e-04 - val_loss: 5.0082e-04\n",
            "Epoch 121/250\n",
            "9/9 [==============================] - 1s 60ms/step - loss: 6.1090e-04 - val_loss: 3.9499e-04\n",
            "Epoch 122/250\n",
            "9/9 [==============================] - 1s 63ms/step - loss: 6.1319e-04 - val_loss: 3.5018e-04\n",
            "Epoch 123/250\n",
            "9/9 [==============================] - 1s 60ms/step - loss: 6.9340e-04 - val_loss: 6.3859e-04\n",
            "Epoch 124/250\n",
            "9/9 [==============================] - 1s 58ms/step - loss: 6.2641e-04 - val_loss: 6.2090e-04\n",
            "Epoch 125/250\n",
            "9/9 [==============================] - 1s 58ms/step - loss: 6.6977e-04 - val_loss: 4.7722e-04\n",
            "Epoch 126/250\n",
            "9/9 [==============================] - 1s 64ms/step - loss: 6.2132e-04 - val_loss: 7.4657e-04\n",
            "Epoch 127/250\n",
            "9/9 [==============================] - 1s 58ms/step - loss: 6.7670e-04 - val_loss: 0.0011\n",
            "Epoch 128/250\n",
            "9/9 [==============================] - 1s 62ms/step - loss: 6.5948e-04 - val_loss: 5.3850e-04\n",
            "Epoch 129/250\n",
            "9/9 [==============================] - 1s 61ms/step - loss: 7.1366e-04 - val_loss: 4.1936e-04\n",
            "Epoch 130/250\n",
            "9/9 [==============================] - 1s 61ms/step - loss: 6.1111e-04 - val_loss: 3.4570e-04\n",
            "Epoch 131/250\n",
            "9/9 [==============================] - 0s 54ms/step - loss: 6.2114e-04 - val_loss: 3.9427e-04\n",
            "Epoch 132/250\n",
            "9/9 [==============================] - 1s 59ms/step - loss: 5.9063e-04 - val_loss: 6.2997e-04\n",
            "Epoch 133/250\n",
            "9/9 [==============================] - 1s 64ms/step - loss: 6.2621e-04 - val_loss: 5.6945e-04\n",
            "Epoch 134/250\n",
            "9/9 [==============================] - 1s 64ms/step - loss: 5.3922e-04 - val_loss: 3.9444e-04\n",
            "Epoch 135/250\n",
            "9/9 [==============================] - 1s 62ms/step - loss: 6.4904e-04 - val_loss: 4.4435e-04\n",
            "Epoch 136/250\n",
            "9/9 [==============================] - 1s 63ms/step - loss: 5.5117e-04 - val_loss: 5.5159e-04\n",
            "Epoch 137/250\n",
            "9/9 [==============================] - 1s 61ms/step - loss: 6.5299e-04 - val_loss: 3.5085e-04\n",
            "Epoch 138/250\n",
            "9/9 [==============================] - 1s 61ms/step - loss: 7.4041e-04 - val_loss: 4.2746e-04\n",
            "Epoch 139/250\n",
            "9/9 [==============================] - 0s 56ms/step - loss: 6.0690e-04 - val_loss: 8.7914e-04\n",
            "Epoch 140/250\n",
            "9/9 [==============================] - 1s 63ms/step - loss: 7.6768e-04 - val_loss: 3.4858e-04\n",
            "Epoch 141/250\n",
            "9/9 [==============================] - 1s 59ms/step - loss: 7.5049e-04 - val_loss: 4.9967e-04\n",
            "Epoch 142/250\n",
            "9/9 [==============================] - 1s 59ms/step - loss: 4.7795e-04 - val_loss: 8.7899e-04\n",
            "Epoch 143/250\n",
            "9/9 [==============================] - 0s 54ms/step - loss: 5.9229e-04 - val_loss: 0.0012\n",
            "Epoch 144/250\n",
            "9/9 [==============================] - 1s 61ms/step - loss: 5.5630e-04 - val_loss: 3.4455e-04\n",
            "Epoch 145/250\n",
            "9/9 [==============================] - 1s 59ms/step - loss: 6.3524e-04 - val_loss: 4.4214e-04\n",
            "Epoch 146/250\n",
            "9/9 [==============================] - 1s 67ms/step - loss: 4.8757e-04 - val_loss: 7.0889e-04\n",
            "Epoch 147/250\n",
            "9/9 [==============================] - 1s 66ms/step - loss: 4.9201e-04 - val_loss: 3.9042e-04\n",
            "Epoch 148/250\n",
            "9/9 [==============================] - 1s 62ms/step - loss: 5.2542e-04 - val_loss: 4.3076e-04\n",
            "Epoch 149/250\n",
            "9/9 [==============================] - 1s 58ms/step - loss: 4.9043e-04 - val_loss: 6.6840e-04\n",
            "Epoch 150/250\n",
            "9/9 [==============================] - 1s 63ms/step - loss: 6.7762e-04 - val_loss: 7.1607e-04\n",
            "Epoch 151/250\n",
            "9/9 [==============================] - 1s 63ms/step - loss: 5.5211e-04 - val_loss: 5.7319e-04\n",
            "Epoch 152/250\n",
            "9/9 [==============================] - 1s 58ms/step - loss: 5.2437e-04 - val_loss: 6.2968e-04\n",
            "Epoch 153/250\n",
            "9/9 [==============================] - 1s 63ms/step - loss: 6.6630e-04 - val_loss: 0.0018\n",
            "Epoch 154/250\n",
            "9/9 [==============================] - 1s 58ms/step - loss: 9.3042e-04 - val_loss: 0.0011\n",
            "Epoch 155/250\n",
            "9/9 [==============================] - 1s 57ms/step - loss: 8.6621e-04 - val_loss: 7.7936e-04\n",
            "Epoch 156/250\n",
            "9/9 [==============================] - 1s 61ms/step - loss: 6.8917e-04 - val_loss: 5.1247e-04\n",
            "Epoch 157/250\n",
            "9/9 [==============================] - 0s 55ms/step - loss: 6.2253e-04 - val_loss: 3.6199e-04\n",
            "Epoch 158/250\n",
            "9/9 [==============================] - 1s 62ms/step - loss: 5.4717e-04 - val_loss: 0.0014\n",
            "Epoch 159/250\n",
            "9/9 [==============================] - 1s 64ms/step - loss: 5.7192e-04 - val_loss: 7.1505e-04\n",
            "Epoch 160/250\n",
            "9/9 [==============================] - 1s 62ms/step - loss: 5.4207e-04 - val_loss: 7.3914e-04\n",
            "Epoch 161/250\n",
            "9/9 [==============================] - 1s 58ms/step - loss: 6.4074e-04 - val_loss: 6.6908e-04\n",
            "Epoch 162/250\n",
            "9/9 [==============================] - 1s 59ms/step - loss: 5.5281e-04 - val_loss: 4.1671e-04\n",
            "Epoch 163/250\n",
            "9/9 [==============================] - 1s 59ms/step - loss: 5.8121e-04 - val_loss: 6.2461e-04\n",
            "Epoch 164/250\n",
            "9/9 [==============================] - 1s 61ms/step - loss: 6.1341e-04 - val_loss: 3.5280e-04\n",
            "Epoch 165/250\n",
            "9/9 [==============================] - 1s 58ms/step - loss: 5.5018e-04 - val_loss: 4.2842e-04\n",
            "Epoch 166/250\n",
            "9/9 [==============================] - 1s 62ms/step - loss: 4.9800e-04 - val_loss: 3.4469e-04\n",
            "Epoch 167/250\n",
            "9/9 [==============================] - 1s 62ms/step - loss: 4.5532e-04 - val_loss: 3.9043e-04\n",
            "Epoch 168/250\n",
            "9/9 [==============================] - 1s 66ms/step - loss: 4.6503e-04 - val_loss: 3.5704e-04\n",
            "Epoch 169/250\n",
            "9/9 [==============================] - 1s 62ms/step - loss: 6.4396e-04 - val_loss: 3.3372e-04\n",
            "Epoch 170/250\n",
            "9/9 [==============================] - 1s 59ms/step - loss: 6.0209e-04 - val_loss: 3.4638e-04\n",
            "Epoch 171/250\n",
            "9/9 [==============================] - 1s 59ms/step - loss: 5.4104e-04 - val_loss: 3.9148e-04\n",
            "Epoch 172/250\n",
            "9/9 [==============================] - 1s 59ms/step - loss: 6.2586e-04 - val_loss: 0.0011\n",
            "Epoch 173/250\n",
            "9/9 [==============================] - 1s 65ms/step - loss: 6.0686e-04 - val_loss: 5.3237e-04\n",
            "Epoch 174/250\n",
            "9/9 [==============================] - 1s 59ms/step - loss: 5.0022e-04 - val_loss: 5.6802e-04\n",
            "Epoch 175/250\n",
            "9/9 [==============================] - 0s 55ms/step - loss: 4.9695e-04 - val_loss: 3.6101e-04\n",
            "Epoch 176/250\n",
            "9/9 [==============================] - 1s 61ms/step - loss: 5.0984e-04 - val_loss: 5.9414e-04\n",
            "Epoch 177/250\n",
            "9/9 [==============================] - 1s 64ms/step - loss: 5.0774e-04 - val_loss: 4.2721e-04\n",
            "Epoch 178/250\n",
            "9/9 [==============================] - 1s 62ms/step - loss: 4.2886e-04 - val_loss: 4.2565e-04\n",
            "Epoch 179/250\n",
            "9/9 [==============================] - 1s 63ms/step - loss: 4.8056e-04 - val_loss: 7.5058e-04\n",
            "Epoch 180/250\n",
            "9/9 [==============================] - 1s 57ms/step - loss: 5.1259e-04 - val_loss: 7.3954e-04\n",
            "Epoch 181/250\n",
            "9/9 [==============================] - 1s 66ms/step - loss: 4.5340e-04 - val_loss: 5.4086e-04\n",
            "Epoch 182/250\n",
            "9/9 [==============================] - 1s 57ms/step - loss: 4.5674e-04 - val_loss: 6.3696e-04\n",
            "Epoch 183/250\n",
            "9/9 [==============================] - 1s 59ms/step - loss: 5.3163e-04 - val_loss: 5.7396e-04\n",
            "Epoch 184/250\n",
            "9/9 [==============================] - 1s 58ms/step - loss: 4.9461e-04 - val_loss: 3.5490e-04\n",
            "Epoch 185/250\n",
            "9/9 [==============================] - 1s 56ms/step - loss: 4.4355e-04 - val_loss: 5.1892e-04\n",
            "Epoch 186/250\n",
            "9/9 [==============================] - 1s 58ms/step - loss: 4.9694e-04 - val_loss: 4.3505e-04\n",
            "Epoch 187/250\n",
            "9/9 [==============================] - 1s 59ms/step - loss: 5.2640e-04 - val_loss: 6.1646e-04\n",
            "Epoch 188/250\n",
            "9/9 [==============================] - 1s 57ms/step - loss: 5.1093e-04 - val_loss: 7.4032e-04\n",
            "Epoch 189/250\n",
            "9/9 [==============================] - 1s 59ms/step - loss: 5.0142e-04 - val_loss: 3.4283e-04\n",
            "Epoch 190/250\n",
            "9/9 [==============================] - 1s 61ms/step - loss: 5.1283e-04 - val_loss: 4.3967e-04\n",
            "Epoch 191/250\n",
            "9/9 [==============================] - 1s 59ms/step - loss: 4.5587e-04 - val_loss: 3.3313e-04\n",
            "Epoch 192/250\n",
            "9/9 [==============================] - 1s 60ms/step - loss: 4.5263e-04 - val_loss: 8.2913e-04\n",
            "Epoch 193/250\n",
            "9/9 [==============================] - 1s 59ms/step - loss: 5.0165e-04 - val_loss: 5.7957e-04\n",
            "Epoch 194/250\n",
            "9/9 [==============================] - 1s 57ms/step - loss: 5.0144e-04 - val_loss: 6.2666e-04\n",
            "Epoch 195/250\n",
            "9/9 [==============================] - 1s 59ms/step - loss: 5.5883e-04 - val_loss: 0.0011\n",
            "Epoch 196/250\n",
            "9/9 [==============================] - 1s 64ms/step - loss: 4.4267e-04 - val_loss: 3.8158e-04\n",
            "Epoch 197/250\n",
            "9/9 [==============================] - 1s 57ms/step - loss: 4.0412e-04 - val_loss: 6.4261e-04\n",
            "Epoch 198/250\n",
            "9/9 [==============================] - 1s 61ms/step - loss: 4.0543e-04 - val_loss: 5.0413e-04\n",
            "Epoch 199/250\n",
            "9/9 [==============================] - 1s 63ms/step - loss: 4.6453e-04 - val_loss: 0.0015\n",
            "Epoch 200/250\n",
            "9/9 [==============================] - 1s 63ms/step - loss: 5.3785e-04 - val_loss: 5.2519e-04\n",
            "Epoch 201/250\n",
            "9/9 [==============================] - 1s 59ms/step - loss: 5.6747e-04 - val_loss: 4.3509e-04\n",
            "Epoch 202/250\n",
            "9/9 [==============================] - 1s 64ms/step - loss: 4.4070e-04 - val_loss: 3.3815e-04\n",
            "Epoch 203/250\n",
            "9/9 [==============================] - 1s 66ms/step - loss: 4.6590e-04 - val_loss: 5.6123e-04\n",
            "Epoch 204/250\n",
            "9/9 [==============================] - 1s 57ms/step - loss: 3.9381e-04 - val_loss: 7.7126e-04\n",
            "Epoch 205/250\n",
            "9/9 [==============================] - 1s 63ms/step - loss: 3.7064e-04 - val_loss: 3.7621e-04\n",
            "Epoch 206/250\n",
            "9/9 [==============================] - 1s 59ms/step - loss: 4.1526e-04 - val_loss: 4.5853e-04\n",
            "Epoch 207/250\n",
            "9/9 [==============================] - 1s 60ms/step - loss: 4.1277e-04 - val_loss: 3.6403e-04\n",
            "Epoch 208/250\n",
            "9/9 [==============================] - 1s 60ms/step - loss: 6.4029e-04 - val_loss: 3.6346e-04\n",
            "Epoch 209/250\n",
            "9/9 [==============================] - 1s 64ms/step - loss: 4.5650e-04 - val_loss: 3.2802e-04\n",
            "Epoch 210/250\n",
            "9/9 [==============================] - 0s 55ms/step - loss: 4.4035e-04 - val_loss: 3.7232e-04\n",
            "Epoch 211/250\n",
            "9/9 [==============================] - 1s 61ms/step - loss: 4.7808e-04 - val_loss: 3.8829e-04\n",
            "Epoch 212/250\n",
            "9/9 [==============================] - 1s 60ms/step - loss: 4.3951e-04 - val_loss: 4.5208e-04\n",
            "Epoch 213/250\n",
            "9/9 [==============================] - 1s 61ms/step - loss: 4.2243e-04 - val_loss: 4.2453e-04\n",
            "Epoch 214/250\n",
            "9/9 [==============================] - 1s 63ms/step - loss: 6.4486e-04 - val_loss: 4.5600e-04\n",
            "Epoch 215/250\n",
            "9/9 [==============================] - 1s 56ms/step - loss: 5.3143e-04 - val_loss: 3.9302e-04\n",
            "Epoch 216/250\n",
            "9/9 [==============================] - 1s 59ms/step - loss: 4.5284e-04 - val_loss: 7.0908e-04\n",
            "Epoch 217/250\n",
            "9/9 [==============================] - 1s 57ms/step - loss: 4.5854e-04 - val_loss: 7.6082e-04\n",
            "Epoch 218/250\n",
            "9/9 [==============================] - 1s 67ms/step - loss: 3.9172e-04 - val_loss: 6.6311e-04\n",
            "Epoch 219/250\n",
            "9/9 [==============================] - 1s 62ms/step - loss: 4.0843e-04 - val_loss: 5.3350e-04\n",
            "Epoch 220/250\n",
            "9/9 [==============================] - 1s 59ms/step - loss: 4.2124e-04 - val_loss: 0.0013\n",
            "Epoch 221/250\n",
            "9/9 [==============================] - 1s 62ms/step - loss: 4.4172e-04 - val_loss: 9.6745e-04\n",
            "Epoch 222/250\n",
            "9/9 [==============================] - 1s 60ms/step - loss: 4.0809e-04 - val_loss: 9.4805e-04\n",
            "Epoch 223/250\n",
            "9/9 [==============================] - 1s 58ms/step - loss: 4.2772e-04 - val_loss: 6.8206e-04\n",
            "Epoch 224/250\n",
            "9/9 [==============================] - 1s 60ms/step - loss: 4.2864e-04 - val_loss: 5.7206e-04\n",
            "Epoch 225/250\n",
            "9/9 [==============================] - 1s 63ms/step - loss: 3.7017e-04 - val_loss: 6.0535e-04\n",
            "Epoch 226/250\n",
            "9/9 [==============================] - 1s 58ms/step - loss: 3.7694e-04 - val_loss: 6.4038e-04\n",
            "Epoch 227/250\n",
            "9/9 [==============================] - 0s 56ms/step - loss: 3.6484e-04 - val_loss: 6.7474e-04\n",
            "Epoch 228/250\n",
            "9/9 [==============================] - 1s 61ms/step - loss: 4.5486e-04 - val_loss: 6.9949e-04\n",
            "Epoch 229/250\n",
            "9/9 [==============================] - 1s 61ms/step - loss: 4.3381e-04 - val_loss: 9.7224e-04\n",
            "Epoch 230/250\n",
            "9/9 [==============================] - 1s 63ms/step - loss: 4.6830e-04 - val_loss: 5.0806e-04\n",
            "Epoch 231/250\n",
            "9/9 [==============================] - 1s 64ms/step - loss: 3.7535e-04 - val_loss: 5.7962e-04\n",
            "Epoch 232/250\n",
            "9/9 [==============================] - 1s 59ms/step - loss: 3.7428e-04 - val_loss: 8.5783e-04\n",
            "Epoch 233/250\n",
            "9/9 [==============================] - 1s 58ms/step - loss: 3.8610e-04 - val_loss: 0.0012\n",
            "Epoch 234/250\n",
            "9/9 [==============================] - 1s 59ms/step - loss: 4.5826e-04 - val_loss: 5.5528e-04\n",
            "Epoch 235/250\n",
            "9/9 [==============================] - 1s 60ms/step - loss: 3.6099e-04 - val_loss: 3.7902e-04\n",
            "Epoch 236/250\n",
            "9/9 [==============================] - 1s 64ms/step - loss: 4.0108e-04 - val_loss: 3.7956e-04\n",
            "Epoch 237/250\n",
            "9/9 [==============================] - 1s 59ms/step - loss: 3.4672e-04 - val_loss: 3.5841e-04\n",
            "Epoch 238/250\n",
            "9/9 [==============================] - 1s 60ms/step - loss: 3.6890e-04 - val_loss: 3.7256e-04\n",
            "Epoch 239/250\n",
            "9/9 [==============================] - 1s 55ms/step - loss: 3.9588e-04 - val_loss: 4.8129e-04\n",
            "Epoch 240/250\n",
            "9/9 [==============================] - 1s 59ms/step - loss: 3.2918e-04 - val_loss: 4.9106e-04\n",
            "Epoch 241/250\n",
            "9/9 [==============================] - 1s 72ms/step - loss: 3.8139e-04 - val_loss: 5.8930e-04\n",
            "Epoch 242/250\n",
            "9/9 [==============================] - 1s 65ms/step - loss: 3.7853e-04 - val_loss: 5.5839e-04\n",
            "Epoch 243/250\n",
            "9/9 [==============================] - 1s 62ms/step - loss: 5.8199e-04 - val_loss: 4.1256e-04\n",
            "Epoch 244/250\n",
            "9/9 [==============================] - 1s 59ms/step - loss: 4.2841e-04 - val_loss: 6.1835e-04\n",
            "Epoch 245/250\n",
            "9/9 [==============================] - 1s 65ms/step - loss: 4.1275e-04 - val_loss: 5.2957e-04\n",
            "Epoch 246/250\n",
            "9/9 [==============================] - 1s 65ms/step - loss: 4.4373e-04 - val_loss: 3.6735e-04\n",
            "Epoch 247/250\n",
            "9/9 [==============================] - 1s 61ms/step - loss: 4.2101e-04 - val_loss: 3.7840e-04\n",
            "Epoch 248/250\n",
            "9/9 [==============================] - 1s 67ms/step - loss: 4.0944e-04 - val_loss: 4.4750e-04\n",
            "Epoch 249/250\n",
            "9/9 [==============================] - 1s 66ms/step - loss: 3.4932e-04 - val_loss: 4.6328e-04\n",
            "Epoch 250/250\n",
            "9/9 [==============================] - 1s 62ms/step - loss: 3.6534e-04 - val_loss: 5.1182e-04\n"
          ],
          "name": "stdout"
        }
      ]
    },
    {
      "cell_type": "code",
      "metadata": {
        "colab": {
          "base_uri": "https://localhost:8080/",
          "height": 282
        },
        "id": "nE44Dxt4K4Na",
        "outputId": "fb3da02b-bc36-4882-f36d-bcf138e0d3c7"
      },
      "source": [
        "plt.plot( history.history['loss'],c = 'r')\n",
        "plt.plot(history.history['val_loss'],c = 'b')\n",
        "plt.xlabel('epoch')\n",
        "plt.ylabel('Loss')\n",
        "plt.legend(['train','val'],loc = 'upper right')\n",
        "plt.show()"
      ],
      "execution_count": null,
      "outputs": [
        {
          "output_type": "display_data",
          "data": {
            "image/png": "[encoded data removed]",
            "text/plain": [
              "<Figure size 432x288 with 1 Axes>"
            ]
          },
          "metadata": {
            "tags": [],
            "needs_background": "light"
          }
        }
      ]
    },
    {
      "cell_type": "code",
      "metadata": {
        "id": "Km5WIySo34-j"
      },
      "source": [
        "# predict the train and test data\n",
        "predict_train=model.predict(x_train)\n",
        "predict_test=model.predict(x_test)"
      ],
      "execution_count": null,
      "outputs": []
    },
    {
      "cell_type": "code",
      "metadata": {
        "colab": {
          "base_uri": "https://localhost:8080/"
        },
        "id": "VhxtwTfyftNY",
        "outputId": "57d772d5-3e63-43a2-ef62-61b88b0f34c8"
      },
      "source": [
        "# metrics for model\n",
        "rsme = math.sqrt(mean_squared_error(y_test,predict_test))*100\n",
        "mape = mean_absolute_percentage_error(y_test,predict_test)*100\n",
        "print(\"rsme\",rsme)\n",
        "print(\"mape\",mape)"
      ],
      "execution_count": null,
      "outputs": [
        {
          "output_type": "stream",
          "text": [
            "rsme 2.2623452348982402\n",
            "mape 2.029841815830108\n"
          ],
          "name": "stdout"
        }
      ]
    },
    {
      "cell_type": "code",
      "metadata": {
        "id": "whhuspss39lU"
      },
      "source": [
        "#Transform to its original form\n",
        "train_predict=scaler.inverse_transform(predict_train)\n",
        "test_predict=scaler.inverse_transform(predict_test)"
      ],
      "execution_count": null,
      "outputs": []
    },
    {
      "cell_type": "code",
      "metadata": {
        "id": "6x6iOVvbhmbl"
      },
      "source": [
        "# train predictions \n",
        "\n",
        "train_predicted_data = np.empty_like(df)\n",
        "train_predicted_data[:, :] = np.nan\n",
        "train_predicted_data[time_step:len(train_predict)+time_step, :] = train_predict"
      ],
      "execution_count": null,
      "outputs": []
    },
    {
      "cell_type": "code",
      "metadata": {
        "id": "80SCE3IwhpWj"
      },
      "source": [
        "# shift and the test predictions \n",
        "test_predicted_data = np.empty_like(df)\n",
        "test_predicted_data[:, :] = numpy.nan\n",
        "test_predicted_data[len(train_predict)+(time_step*2)+1:len(df)-1, :] = test_predict"
      ],
      "execution_count": null,
      "outputs": []
    },
    {
      "cell_type": "code",
      "metadata": {
        "colab": {
          "base_uri": "https://localhost:8080/",
          "height": 279
        },
        "id": "jDIlUncthphE",
        "outputId": "de4af74b-9ff8-4d0c-b564-2f02c09420d4"
      },
      "source": [
        "#plot train and test predicted data together\n",
        "plt.plot(scaler.inverse_transform(df), label='Dataset')\n",
        "plt.plot(train_predicted_data, label = 'training data')\n",
        "plt.plot(test_predicted_data, label = 'predicted data')\n",
        "plt.xlabel('Days')\n",
        "plt.ylabel('Stock Price')\n",
        "plt.legend()\n",
        "plt.show()"
      ],
      "execution_count": null,
      "outputs": [
        {
          "output_type": "display_data",
          "data": {
            "image/png": "[encoded data removed]",
            "text/plain": [
              "<Figure size 432x288 with 1 Axes>"
            ]
          },
          "metadata": {
            "tags": [],
            "needs_background": "light"
          }
        }
      ]
    },
    {
      "cell_type": "markdown",
      "metadata": {
        "id": "Fp8Cp-w3yB4x"
      },
      "source": [
        "predict stock prices for future dates"
      ]
    },
    {
      "cell_type": "code",
      "metadata": {
        "id": "WREZzbnDHaN-"
      },
      "source": [
        "# to predict the new data we are consider \"no_of_steps\" no of steps backwards i.e considering pervious time step no of vlues i.e 30\n",
        "no_of_steps=time_step"
      ],
      "execution_count": null,
      "outputs": []
    },
    {
      "cell_type": "code",
      "metadata": {
        "id": "pVOG6dK94jtJ"
      },
      "source": [
        "#convert to list to append future data\n",
        "initial_input_data=test_data[(len(test_data)- no_of_steps):].reshape(1,-1)\n",
        "input_data=list(initial_input_data)\n",
        "input_data=input_data[0].tolist()"
      ],
      "execution_count": null,
      "outputs": []
    },
    {
      "cell_type": "code",
      "metadata": {
        "colab": {
          "base_uri": "https://localhost:8080/"
        },
        "id": "vJgEH10D4n5k",
        "outputId": "3c66886b-12b7-4c8a-d4bf-669fe68353ed"
      },
      "source": [
        "#previous 30 days data\n",
        "input_data"
      ],
      "execution_count": null,
      "outputs": [
        {
          "output_type": "execute_result",
          "data": {
            "text/plain": [
              "[0.8476003371102485,\n",
              " 0.8476003371102485,\n",
              " 0.8554186392160466,\n",
              " 0.8554186392160466,\n",
              " 0.8665228066805506,\n",
              " 0.8665228066805506,\n",
              " 0.9000621470298966,\n",
              " 0.9000621470298966,\n",
              " 0.8844255428183008,\n",
              " 0.8844255428183008,\n",
              " 0.8793267027607579,\n",
              " 0.8793267027607579,\n",
              " 0.9033480123886026,\n",
              " 0.9033480123886026,\n",
              " 0.9264630075618125,\n",
              " 0.9264630075618125,\n",
              " 0.9623817259204464,\n",
              " 0.9623817259204464,\n",
              " 0.968613718388458,\n",
              " 0.968613718388458,\n",
              " 0.9683870533274075,\n",
              " 0.9683870533274075,\n",
              " 0.938020332253634,\n",
              " 0.938020332253634,\n",
              " 0.9256697662955278,\n",
              " 0.9256697662955278,\n",
              " 0.97155967260298,\n",
              " 0.97155967260298,\n",
              " 0.9999999999999998,\n",
              " 0.9999999999999998]"
            ]
          },
          "metadata": {
            "tags": []
          },
          "execution_count": 28
        }
      ]
    },
    {
      "cell_type": "code",
      "metadata": {
        "colab": {
          "base_uri": "https://localhost:8080/"
        },
        "id": "CRg5op1PSjr6",
        "outputId": "e1ee33c2-c87b-4932-afd8-e3434839e8e7"
      },
      "source": [
        "# predicting values for the next 30 days \n",
        "future_output=[]\n",
        "\n",
        "i=0\n",
        "while(i<30):\n",
        "    \n",
        "    if(len(input_data)>30):\n",
        "       \n",
        "        # it is list of input for predicting the future day\n",
        "        initial_input_data=np.array(input_data[1:])\n",
        "        print(\"day {} : input data {}\".format(i,initial_input_data))\n",
        "        initial_input_data=initial_input_data.reshape(1,-1)\n",
        "        initial_input_data = initial_input_data.reshape((1, no_of_steps, 1))\n",
        "     \n",
        "        \n",
        "        # it is output of the future day\n",
        "        yhat = model.predict(initial_input_data, verbose=0)\n",
        "        print(\"day {} : predicted output data {}\".format(i,yhat))\n",
        "        input_data.extend(yhat[0].tolist())\n",
        "        input_data=input_data[1:]\n",
        "       \n",
        "        # append the data with the present data\n",
        "        future_output.extend(yhat.tolist())\n",
        "        i=i+1\n",
        "    else:\n",
        "        # we are predicting 1st future day \n",
        "        initial_input_data= initial_input_data.reshape((1, no_of_steps,1))\n",
        "        yhat = model.predict(initial_input_data, verbose=0)\n",
        "        print(yhat[0])\n",
        "        input_data.extend(yhat[0].tolist())\n",
        "        print(len(input_data))\n",
        "        future_output.extend(yhat.tolist())\n",
        "        i=i+1\n",
        "    \n",
        "\n",
        "print(future_output)"
      ],
      "execution_count": null,
      "outputs": [
        {
          "output_type": "stream",
          "text": [
            "[1.0063304]\n",
            "31\n",
            "day 1 : input data [0.84760034 0.85541864 0.85541864 0.86652281 0.86652281 0.90006215\n",
            " 0.90006215 0.88442554 0.88442554 0.8793267  0.8793267  0.90334801\n",
            " 0.90334801 0.92646301 0.92646301 0.96238173 0.96238173 0.96861372\n",
            " 0.96861372 0.96838705 0.96838705 0.93802033 0.93802033 0.92566977\n",
            " 0.92566977 0.97155967 0.97155967 1.         1.         1.00633037]\n",
            "day 1 : predicted output data [[0.988446]]\n",
            "day 2 : input data [0.85541864 0.85541864 0.86652281 0.86652281 0.90006215 0.90006215\n",
            " 0.88442554 0.88442554 0.8793267  0.8793267  0.90334801 0.90334801\n",
            " 0.92646301 0.92646301 0.96238173 0.96238173 0.96861372 0.96861372\n",
            " 0.96838705 0.96838705 0.93802033 0.93802033 0.92566977 0.92566977\n",
            " 0.97155967 0.97155967 1.         1.         1.00633037 0.988446  ]\n",
            "day 2 : predicted output data [[0.9979354]]\n",
            "day 3 : input data [0.85541864 0.86652281 0.86652281 0.90006215 0.90006215 0.88442554\n",
            " 0.88442554 0.8793267  0.8793267  0.90334801 0.90334801 0.92646301\n",
            " 0.92646301 0.96238173 0.96238173 0.96861372 0.96861372 0.96838705\n",
            " 0.96838705 0.93802033 0.93802033 0.92566977 0.92566977 0.97155967\n",
            " 0.97155967 1.         1.         1.00633037 0.988446   0.99793541]\n",
            "day 3 : predicted output data [[0.9689019]]\n",
            "day 4 : input data [0.86652281 0.86652281 0.90006215 0.90006215 0.88442554 0.88442554\n",
            " 0.8793267  0.8793267  0.90334801 0.90334801 0.92646301 0.92646301\n",
            " 0.96238173 0.96238173 0.96861372 0.96861372 0.96838705 0.96838705\n",
            " 0.93802033 0.93802033 0.92566977 0.92566977 0.97155967 0.97155967\n",
            " 1.         1.         1.00633037 0.988446   0.99793541 0.96890187]\n",
            "day 4 : predicted output data [[0.9697381]]\n",
            "day 5 : input data [0.86652281 0.90006215 0.90006215 0.88442554 0.88442554 0.8793267\n",
            " 0.8793267  0.90334801 0.90334801 0.92646301 0.92646301 0.96238173\n",
            " 0.96238173 0.96861372 0.96861372 0.96838705 0.96838705 0.93802033\n",
            " 0.93802033 0.92566977 0.92566977 0.97155967 0.97155967 1.\n",
            " 1.         1.00633037 0.988446   0.99793541 0.96890187 0.96973813]\n",
            "day 5 : predicted output data [[0.9450019]]\n",
            "day 6 : input data [0.90006215 0.90006215 0.88442554 0.88442554 0.8793267  0.8793267\n",
            " 0.90334801 0.90334801 0.92646301 0.92646301 0.96238173 0.96238173\n",
            " 0.96861372 0.96861372 0.96838705 0.96838705 0.93802033 0.93802033\n",
            " 0.92566977 0.92566977 0.97155967 0.97155967 1.         1.\n",
            " 1.00633037 0.988446   0.99793541 0.96890187 0.96973813 0.9450019 ]\n",
            "day 6 : predicted output data [[0.94511855]]\n",
            "day 7 : input data [0.90006215 0.88442554 0.88442554 0.8793267  0.8793267  0.90334801\n",
            " 0.90334801 0.92646301 0.92646301 0.96238173 0.96238173 0.96861372\n",
            " 0.96861372 0.96838705 0.96838705 0.93802033 0.93802033 0.92566977\n",
            " 0.92566977 0.97155967 0.97155967 1.         1.         1.00633037\n",
            " 0.988446   0.99793541 0.96890187 0.96973813 0.9450019  0.94511855]\n",
            "day 7 : predicted output data [[0.9220319]]\n",
            "day 8 : input data [0.88442554 0.88442554 0.8793267  0.8793267  0.90334801 0.90334801\n",
            " 0.92646301 0.92646301 0.96238173 0.96238173 0.96861372 0.96861372\n",
            " 0.96838705 0.96838705 0.93802033 0.93802033 0.92566977 0.92566977\n",
            " 0.97155967 0.97155967 1.         1.         1.00633037 0.988446\n",
            " 0.99793541 0.96890187 0.96973813 0.9450019  0.94511855 0.92203188]\n",
            "day 8 : predicted output data [[0.9223191]]\n",
            "day 9 : input data [0.88442554 0.8793267  0.8793267  0.90334801 0.90334801 0.92646301\n",
            " 0.92646301 0.96238173 0.96238173 0.96861372 0.96861372 0.96838705\n",
            " 0.96838705 0.93802033 0.93802033 0.92566977 0.92566977 0.97155967\n",
            " 0.97155967 1.         1.         1.00633037 0.988446   0.99793541\n",
            " 0.96890187 0.96973813 0.9450019  0.94511855 0.92203188 0.92231911]\n",
            "day 9 : predicted output data [[0.89902085]]\n",
            "day 10 : input data [0.8793267  0.8793267  0.90334801 0.90334801 0.92646301 0.92646301\n",
            " 0.96238173 0.96238173 0.96861372 0.96861372 0.96838705 0.96838705\n",
            " 0.93802033 0.93802033 0.92566977 0.92566977 0.97155967 0.97155967\n",
            " 1.         1.         1.00633037 0.988446   0.99793541 0.96890187\n",
            " 0.96973813 0.9450019  0.94511855 0.92203188 0.92231911 0.89902085]\n",
            "day 10 : predicted output data [[0.89773107]]\n",
            "day 11 : input data [0.8793267  0.90334801 0.90334801 0.92646301 0.92646301 0.96238173\n",
            " 0.96238173 0.96861372 0.96861372 0.96838705 0.96838705 0.93802033\n",
            " 0.93802033 0.92566977 0.92566977 0.97155967 0.97155967 1.\n",
            " 1.         1.00633037 0.988446   0.99793541 0.96890187 0.96973813\n",
            " 0.9450019  0.94511855 0.92203188 0.92231911 0.89902085 0.89773107]\n",
            "day 11 : predicted output data [[0.87567145]]\n",
            "day 12 : input data [0.90334801 0.90334801 0.92646301 0.92646301 0.96238173 0.96238173\n",
            " 0.96861372 0.96861372 0.96838705 0.96838705 0.93802033 0.93802033\n",
            " 0.92566977 0.92566977 0.97155967 0.97155967 1.         1.\n",
            " 1.00633037 0.988446   0.99793541 0.96890187 0.96973813 0.9450019\n",
            " 0.94511855 0.92203188 0.92231911 0.89902085 0.89773107 0.87567145]\n",
            "day 12 : predicted output data [[0.870392]]\n",
            "day 13 : input data [0.90334801 0.92646301 0.92646301 0.96238173 0.96238173 0.96861372\n",
            " 0.96861372 0.96838705 0.96838705 0.93802033 0.93802033 0.92566977\n",
            " 0.92566977 0.97155967 0.97155967 1.         1.         1.00633037\n",
            " 0.988446   0.99793541 0.96890187 0.96973813 0.9450019  0.94511855\n",
            " 0.92203188 0.92231911 0.89902085 0.89773107 0.87567145 0.87039202]\n",
            "day 13 : predicted output data [[0.84961915]]\n",
            "day 14 : input data [0.92646301 0.92646301 0.96238173 0.96238173 0.96861372 0.96861372\n",
            " 0.96838705 0.96838705 0.93802033 0.93802033 0.92566977 0.92566977\n",
            " 0.97155967 0.97155967 1.         1.         1.00633037 0.988446\n",
            " 0.99793541 0.96890187 0.96973813 0.9450019  0.94511855 0.92203188\n",
            " 0.92231911 0.89902085 0.89773107 0.87567145 0.87039202 0.84961915]\n",
            "day 14 : predicted output data [[0.840585]]\n",
            "day 15 : input data [0.92646301 0.96238173 0.96238173 0.96861372 0.96861372 0.96838705\n",
            " 0.96838705 0.93802033 0.93802033 0.92566977 0.92566977 0.97155967\n",
            " 0.97155967 1.         1.         1.00633037 0.988446   0.99793541\n",
            " 0.96890187 0.96973813 0.9450019  0.94511855 0.92203188 0.92231911\n",
            " 0.89902085 0.89773107 0.87567145 0.87039202 0.84961915 0.84058499]\n",
            "day 15 : predicted output data [[0.82155544]]\n",
            "day 16 : input data [0.96238173 0.96238173 0.96861372 0.96861372 0.96838705 0.96838705\n",
            " 0.93802033 0.93802033 0.92566977 0.92566977 0.97155967 0.97155967\n",
            " 1.         1.         1.00633037 0.988446   0.99793541 0.96890187\n",
            " 0.96973813 0.9450019  0.94511855 0.92203188 0.92231911 0.89902085\n",
            " 0.89773107 0.87567145 0.87039202 0.84961915 0.84058499 0.82155544]\n",
            "day 16 : predicted output data [[0.810077]]\n",
            "day 17 : input data [0.96238173 0.96861372 0.96861372 0.96838705 0.96838705 0.93802033\n",
            " 0.93802033 0.92566977 0.92566977 0.97155967 0.97155967 1.\n",
            " 1.         1.00633037 0.988446   0.99793541 0.96890187 0.96973813\n",
            " 0.9450019  0.94511855 0.92203188 0.92231911 0.89902085 0.89773107\n",
            " 0.87567145 0.87039202 0.84961915 0.84058499 0.82155544 0.81007701]\n",
            "day 17 : predicted output data [[0.7929277]]\n",
            "day 18 : input data [0.96861372 0.96861372 0.96838705 0.96838705 0.93802033 0.93802033\n",
            " 0.92566977 0.92566977 0.97155967 0.97155967 1.         1.\n",
            " 1.00633037 0.988446   0.99793541 0.96890187 0.96973813 0.9450019\n",
            " 0.94511855 0.92203188 0.92231911 0.89902085 0.89773107 0.87567145\n",
            " 0.87039202 0.84961915 0.84058499 0.82155544 0.81007701 0.79292768]\n",
            "day 18 : predicted output data [[0.7782975]]\n",
            "day 19 : input data [0.96861372 0.96838705 0.96838705 0.93802033 0.93802033 0.92566977\n",
            " 0.92566977 0.97155967 0.97155967 1.         1.         1.00633037\n",
            " 0.988446   0.99793541 0.96890187 0.96973813 0.9450019  0.94511855\n",
            " 0.92203188 0.92231911 0.89902085 0.89773107 0.87567145 0.87039202\n",
            " 0.84961915 0.84058499 0.82155544 0.81007701 0.79292768 0.77829748]\n",
            "day 19 : predicted output data [[0.76303387]]\n",
            "day 20 : input data [0.96838705 0.96838705 0.93802033 0.93802033 0.92566977 0.92566977\n",
            " 0.97155967 0.97155967 1.         1.         1.00633037 0.988446\n",
            " 0.99793541 0.96890187 0.96973813 0.9450019  0.94511855 0.92203188\n",
            " 0.92231911 0.89902085 0.89773107 0.87567145 0.87039202 0.84961915\n",
            " 0.84058499 0.82155544 0.81007701 0.79292768 0.77829748 0.76303387]\n",
            "day 20 : predicted output data [[0.74688005]]\n",
            "day 21 : input data [0.96838705 0.93802033 0.93802033 0.92566977 0.92566977 0.97155967\n",
            " 0.97155967 1.         1.         1.00633037 0.988446   0.99793541\n",
            " 0.96890187 0.96973813 0.9450019  0.94511855 0.92203188 0.92231911\n",
            " 0.89902085 0.89773107 0.87567145 0.87039202 0.84961915 0.84058499\n",
            " 0.82155544 0.81007701 0.79292768 0.77829748 0.76303387 0.74688005]\n",
            "day 21 : predicted output data [[0.73310584]]\n",
            "day 22 : input data [0.93802033 0.93802033 0.92566977 0.92566977 0.97155967 0.97155967\n",
            " 1.         1.         1.00633037 0.988446   0.99793541 0.96890187\n",
            " 0.96973813 0.9450019  0.94511855 0.92203188 0.92231911 0.89902085\n",
            " 0.89773107 0.87567145 0.87039202 0.84961915 0.84058499 0.82155544\n",
            " 0.81007701 0.79292768 0.77829748 0.76303387 0.74688005 0.73310584]\n",
            "day 22 : predicted output data [[0.7155954]]\n",
            "day 23 : input data [0.93802033 0.92566977 0.92566977 0.97155967 0.97155967 1.\n",
            " 1.         1.00633037 0.988446   0.99793541 0.96890187 0.96973813\n",
            " 0.9450019  0.94511855 0.92203188 0.92231911 0.89902085 0.89773107\n",
            " 0.87567145 0.87039202 0.84961915 0.84058499 0.82155544 0.81007701\n",
            " 0.79292768 0.77829748 0.76303387 0.74688005 0.73310584 0.71559542]\n",
            "day 23 : predicted output data [[0.70371884]]\n",
            "day 24 : input data [0.92566977 0.92566977 0.97155967 0.97155967 1.         1.\n",
            " 1.00633037 0.988446   0.99793541 0.96890187 0.96973813 0.9450019\n",
            " 0.94511855 0.92203188 0.92231911 0.89902085 0.89773107 0.87567145\n",
            " 0.87039202 0.84961915 0.84058499 0.82155544 0.81007701 0.79292768\n",
            " 0.77829748 0.76303387 0.74688005 0.73310584 0.71559542 0.70371884]\n",
            "day 24 : predicted output data [[0.6849789]]\n",
            "day 25 : input data [0.92566977 0.97155967 0.97155967 1.         1.         1.00633037\n",
            " 0.988446   0.99793541 0.96890187 0.96973813 0.9450019  0.94511855\n",
            " 0.92203188 0.92231911 0.89902085 0.89773107 0.87567145 0.87039202\n",
            " 0.84961915 0.84058499 0.82155544 0.81007701 0.79292768 0.77829748\n",
            " 0.76303387 0.74688005 0.73310584 0.71559542 0.70371884 0.6849789 ]\n",
            "day 25 : predicted output data [[0.6740258]]\n",
            "day 26 : input data [0.97155967 0.97155967 1.         1.         1.00633037 0.988446\n",
            " 0.99793541 0.96890187 0.96973813 0.9450019  0.94511855 0.92203188\n",
            " 0.92231911 0.89902085 0.89773107 0.87567145 0.87039202 0.84961915\n",
            " 0.84058499 0.82155544 0.81007701 0.79292768 0.77829748 0.76303387\n",
            " 0.74688005 0.73310584 0.71559542 0.70371884 0.6849789  0.67402577]\n",
            "day 26 : predicted output data [[0.6544859]]\n",
            "day 27 : input data [0.97155967 1.         1.         1.00633037 0.988446   0.99793541\n",
            " 0.96890187 0.96973813 0.9450019  0.94511855 0.92203188 0.92231911\n",
            " 0.89902085 0.89773107 0.87567145 0.87039202 0.84961915 0.84058499\n",
            " 0.82155544 0.81007701 0.79292768 0.77829748 0.76303387 0.74688005\n",
            " 0.73310584 0.71559542 0.70371884 0.6849789  0.67402577 0.65448588]\n",
            "day 27 : predicted output data [[0.6433754]]\n",
            "day 28 : input data [1.         1.         1.00633037 0.988446   0.99793541 0.96890187\n",
            " 0.96973813 0.9450019  0.94511855 0.92203188 0.92231911 0.89902085\n",
            " 0.89773107 0.87567145 0.87039202 0.84961915 0.84058499 0.82155544\n",
            " 0.81007701 0.79292768 0.77829748 0.76303387 0.74688005 0.73310584\n",
            " 0.71559542 0.70371884 0.6849789  0.67402577 0.65448588 0.6433754 ]\n",
            "day 28 : predicted output data [[0.6236056]]\n",
            "day 29 : input data [1.         1.00633037 0.988446   0.99793541 0.96890187 0.96973813\n",
            " 0.9450019  0.94511855 0.92203188 0.92231911 0.89902085 0.89773107\n",
            " 0.87567145 0.87039202 0.84961915 0.84058499 0.82155544 0.81007701\n",
            " 0.79292768 0.77829748 0.76303387 0.74688005 0.73310584 0.71559542\n",
            " 0.70371884 0.6849789  0.67402577 0.65448588 0.6433754  0.62360561]\n",
            "day 29 : predicted output data [[0.6129677]]\n",
            "[[1.0063303709030151], [0.9884459972381592], [0.99793541431427], [0.9689018726348877], [0.9697381258010864], [0.9450019001960754], [0.9451185464859009], [0.9220318794250488], [0.9223191142082214], [0.8990208506584167], [0.8977310657501221], [0.8756714463233948], [0.8703920245170593], [0.8496191501617432], [0.8405849933624268], [0.8215554356575012], [0.8100770115852356], [0.7929276823997498], [0.778297483921051], [0.7630338668823242], [0.746880054473877], [0.7331058382987976], [0.7155954241752625], [0.7037188410758972], [0.6849789023399353], [0.6740257740020752], [0.6544858813285828], [0.6433753967285156], [0.6236056089401245], [0.6129677295684814]]\n"
          ],
          "name": "stdout"
        }
      ]
    },
    {
      "cell_type": "code",
      "metadata": {
        "colab": {
          "base_uri": "https://localhost:8080/",
          "height": 296
        },
        "id": "tsiNBjUd5JKC",
        "outputId": "44d0667e-6e36-4dc6-9062-de928956e3c4"
      },
      "source": [
        "# appending the future 30 days and plotting the graph\n",
        "df1=df.tolist()\n",
        "df1.extend(future_output)\n",
        "plt.plot(df1[(len(df)-no_of_steps):])\n",
        "plt.xlabel('Days')\n",
        "plt.ylabel('normalized Stock Price')"
      ],
      "execution_count": null,
      "outputs": [
        {
          "output_type": "execute_result",
          "data": {
            "text/plain": [
              "Text(0, 0.5, 'normalized Stock Price')"
            ]
          },
          "metadata": {
            "tags": []
          },
          "execution_count": 30
        },
        {
          "output_type": "display_data",
          "data": {
            "image/png": "[encoded data removed]",
            "text/plain": [
              "<Figure size 432x288 with 1 Axes>"
            ]
          },
          "metadata": {
            "tags": [],
            "needs_background": "light"
          }
        }
      ]
    },
    {
      "cell_type": "code",
      "metadata": {
        "id": "jnBejbc85JYL"
      },
      "source": [
        "df2=scaler.inverse_transform(df1).tolist()"
      ],
      "execution_count": null,
      "outputs": []
    },
    {
      "cell_type": "code",
      "metadata": {
        "colab": {
          "base_uri": "https://localhost:8080/",
          "height": 296
        },
        "id": "-WRuIL3S5SOf",
        "outputId": "120366b1-2516-44c1-e926-936afd361428"
      },
      "source": [
        "# tranformed it back to original image with future 30 days\n",
        "plt.plot(df2)\n",
        "plt.xlabel('Days')\n",
        "plt.ylabel('Stock Price')"
      ],
      "execution_count": null,
      "outputs": [
        {
          "output_type": "execute_result",
          "data": {
            "text/plain": [
              "Text(0, 0.5, 'Stock Price')"
            ]
          },
          "metadata": {
            "tags": []
          },
          "execution_count": 32
        },
        {
          "output_type": "display_data",
          "data": {
            "image/png": "[encoded data removed]",
            "text/plain": [
              "<Figure size 432x288 with 1 Axes>"
            ]
          },
          "metadata": {
            "tags": [],
            "needs_background": "light"
          }
        }
      ]
    }
  ]
}
