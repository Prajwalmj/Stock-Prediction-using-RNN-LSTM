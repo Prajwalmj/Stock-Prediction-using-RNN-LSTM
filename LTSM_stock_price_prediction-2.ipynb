{
  "nbformat": 4,
  "nbformat_minor": 0,
  "metadata": {
    "accelerator": "GPU",
    "colab": {
      "name": "LTSM stock price prediction.ipynb",
      "provenance": [],
      "collapsed_sections": []
    },
    "kernelspec": {
      "display_name": "Python 3",
      "name": "python3"
    },
    "language_info": {
      "name": "python"
    }
  },
  "cells": [
    {
      "cell_type": "markdown",
      "metadata": {
        "id": "-4wBab28zZeB"
      },
      "source": [
        "Import required libraries"
      ]
    },
    {
      "cell_type": "code",
      "metadata": {
        "colab": {
          "base_uri": "https://localhost:8080/"
        },
        "id": "GMV40IwPvM00",
        "outputId": "47e8084b-9c66-418d-839e-713c116217e6"
      },
      "source": [
        "#install the yahoo finance  \n",
        "!pip install yfinance --upgrade --no-cache-dir"
      ],
      "execution_count": 33,
      "outputs": [
        {
          "output_type": "stream",
          "text": [
            "Requirement already up-to-date: yfinance in /usr/local/lib/python3.7/dist-packages (0.1.59)\n",
            "Requirement already satisfied, skipping upgrade: pandas>=0.24 in /usr/local/lib/python3.7/dist-packages (from yfinance) (1.1.5)\n",
            "Requirement already satisfied, skipping upgrade: multitasking>=0.0.7 in /usr/local/lib/python3.7/dist-packages (from yfinance) (0.0.9)\n",
            "Requirement already satisfied, skipping upgrade: numpy>=1.15 in /usr/local/lib/python3.7/dist-packages (from yfinance) (1.19.5)\n",
            "Requirement already satisfied, skipping upgrade: lxml>=4.5.1 in /usr/local/lib/python3.7/dist-packages (from yfinance) (4.6.3)\n",
            "Requirement already satisfied, skipping upgrade: requests>=2.20 in /usr/local/lib/python3.7/dist-packages (from yfinance) (2.23.0)\n",
            "Requirement already satisfied, skipping upgrade: pytz>=2017.2 in /usr/local/lib/python3.7/dist-packages (from pandas>=0.24->yfinance) (2018.9)\n",
            "Requirement already satisfied, skipping upgrade: python-dateutil>=2.7.3 in /usr/local/lib/python3.7/dist-packages (from pandas>=0.24->yfinance) (2.8.1)\n",
            "Requirement already satisfied, skipping upgrade: urllib3!=1.25.0,!=1.25.1,<1.26,>=1.21.1 in /usr/local/lib/python3.7/dist-packages (from requests>=2.20->yfinance) (1.24.3)\n",
            "Requirement already satisfied, skipping upgrade: idna<3,>=2.5 in /usr/local/lib/python3.7/dist-packages (from requests>=2.20->yfinance) (2.10)\n",
            "Requirement already satisfied, skipping upgrade: chardet<4,>=3.0.2 in /usr/local/lib/python3.7/dist-packages (from requests>=2.20->yfinance) (3.0.4)\n",
            "Requirement already satisfied, skipping upgrade: certifi>=2017.4.17 in /usr/local/lib/python3.7/dist-packages (from requests>=2.20->yfinance) (2020.12.5)\n",
            "Requirement already satisfied, skipping upgrade: six>=1.5 in /usr/local/lib/python3.7/dist-packages (from python-dateutil>=2.7.3->pandas>=0.24->yfinance) (1.15.0)\n"
          ],
          "name": "stdout"
        }
      ]
    },
    {
      "cell_type": "code",
      "metadata": {
        "colab": {
          "base_uri": "https://localhost:8080/"
        },
        "id": "MWE5jY0YvRk2",
        "outputId": "f70578fa-fb05-42a7-d94f-02f38a698390"
      },
      "source": [
        "!pip install -U \"scikit-learn==0.24\""
      ],
      "execution_count": 34,
      "outputs": [
        {
          "output_type": "stream",
          "text": [
            "Requirement already up-to-date: scikit-learn==0.24 in /usr/local/lib/python3.7/dist-packages (0.24.0)\n",
            "Requirement already satisfied, skipping upgrade: scipy>=0.19.1 in /usr/local/lib/python3.7/dist-packages (from scikit-learn==0.24) (1.4.1)\n",
            "Requirement already satisfied, skipping upgrade: joblib>=0.11 in /usr/local/lib/python3.7/dist-packages (from scikit-learn==0.24) (1.0.1)\n",
            "Requirement already satisfied, skipping upgrade: threadpoolctl>=2.0.0 in /usr/local/lib/python3.7/dist-packages (from scikit-learn==0.24) (2.1.0)\n",
            "Requirement already satisfied, skipping upgrade: numpy>=1.13.3 in /usr/local/lib/python3.7/dist-packages (from scikit-learn==0.24) (1.19.5)\n"
          ],
          "name": "stdout"
        }
      ]
    },
    {
      "cell_type": "code",
      "metadata": {
        "id": "gq212vklvTrS"
      },
      "source": [
        "from pandas_datareader import data as pdr\n",
        "from datetime import date\n",
        "import yfinance as yf\n",
        "yf.pdr_override()\n",
        "import numpy as np\n",
        "np.random.seed(7)\n",
        "import pandas as pd\n",
        "import math\n",
        "import numpy as np\n",
        "from keras.models import Sequential\n",
        "from keras.layers import Activation, SimpleRNN,Dense,Dropout\n",
        "from keras import optimizers\n",
        "from sklearn.metrics import mean_squared_error\n",
        "from math import sqrt\n",
        "from sklearn.metrics import r2_score\n",
        "from keras.layers.recurrent import LSTM\n",
        "from sklearn.metrics import accuracy_score\n",
        "import os.path\n",
        "from os import path\n",
        "import numpy\n",
        "import matplotlib.pyplot as plt\n",
        "from sklearn.preprocessing import MinMaxScaler\n",
        "from numpy import array\n",
        "from sklearn.metrics import mean_absolute_percentage_error\n",
        "import keras\n",
        "keras.backend.set_epsilon(1)"
      ],
      "execution_count": 35,
      "outputs": []
    },
    {
      "cell_type": "markdown",
      "metadata": {
        "id": "QXpWYfjDzXin"
      },
      "source": [
        "Collect data"
      ]
    },
    {
      "cell_type": "code",
      "metadata": {
        "colab": {
          "base_uri": "https://localhost:8080/"
        },
        "id": "zbUKICmE0Q9n",
        "outputId": "a9e15663-5184-4869-e28d-dc98daf20519"
      },
      "source": [
        "#https://finance.yahoo.com/sector/ms_financial_services\n",
        "ticker_list=['BRK-B','BRK-A','MSFT','AAPL','FB','JPM']\n",
        "today = date.today()\n",
        "l = len(ticker_list)\n",
        "df_dict = {} # creating a dictionay for the data\n",
        "files=[]\n",
        "sector=[]\n",
        "for i in range(0,l):\n",
        "  sector = yf.Ticker(ticker_list[i]).info['sector']\n",
        "  if path.exists('./'+sector) == False:\n",
        "    os.mkdir('./'+sector)\n",
        "  else:\n",
        "    print(\"folder already exist\");\n",
        "# we are getting the data with a start and end\n",
        "def getData(ticker):\n",
        "  print(ticker)\n",
        "  data = pdr.get_data_yahoo(ticker, start=\"2020-01-01\", end=\"2021-05-17\")\n",
        "  df_dict[ticker] = data # storing the data frames in the dictionary\n",
        "  dataname= ticker+'_'+str(today)\n",
        "  files.append(dataname)\n",
        "  SaveData(data, dataname,yf.Ticker(ticker).info['sector'])\n",
        "\n",
        "# we are having the data based on the sector of the company\n",
        "  \n",
        "def SaveData(df, filename,sector):\n",
        "  if (sector == 'Financial Services'):\n",
        "    df.to_csv('./Financial Services/'+filename+'.csv')\n",
        "  elif (sector == 'Technology'):\n",
        "    df.to_csv('./Technology/'+filename+'.csv')\n",
        "  elif (sector == 'Communication Services'):\n",
        "    df.to_csv('./Communication Services/'+filename+'.csv')\n",
        "  else:\n",
        "    print(\"sector is not being considered\");\n",
        "\n",
        "for ticker in ticker_list:\n",
        "  getData(ticker)\n"
      ],
      "execution_count": 36,
      "outputs": [
        {
          "output_type": "stream",
          "text": [
            "folder already exist\n",
            "folder already exist\n",
            "folder already exist\n",
            "folder already exist\n",
            "folder already exist\n",
            "folder already exist\n",
            "BRK-B\n",
            "[*********************100%***********************]  1 of 1 completed\n",
            "BRK-A\n",
            "[*********************100%***********************]  1 of 1 completed\n",
            "MSFT\n",
            "[*********************100%***********************]  1 of 1 completed\n",
            "AAPL\n",
            "[*********************100%***********************]  1 of 1 completed\n",
            "FB\n",
            "[*********************100%***********************]  1 of 1 completed\n",
            "JPM\n",
            "[*********************100%***********************]  1 of 1 completed\n"
          ],
          "name": "stdout"
        }
      ]
    },
    {
      "cell_type": "code",
      "metadata": {
        "colab": {
          "base_uri": "https://localhost:8080/"
        },
        "id": "uZ9FQdJtXmfj",
        "outputId": "9d9baf88-31fb-46f7-9f39-6cf3110e2c5b"
      },
      "source": [
        "\n",
        "# finding the features with highest correlation with the close feature\n",
        "company = 'FB'\n",
        "df_dict[company].corr()['Adj Close']"
      ],
      "execution_count": 37,
      "outputs": [
        {
          "output_type": "execute_result",
          "data": {
            "text/plain": [
              "Open         0.994230\n",
              "High         0.997049\n",
              "Low          0.997447\n",
              "Close        1.000000\n",
              "Adj Close    1.000000\n",
              "Volume      -0.156787\n",
              "Name: Adj Close, dtype: float64"
            ]
          },
          "metadata": {
            "tags": []
          },
          "execution_count": 37
        }
      ]
    },
    {
      "cell_type": "code",
      "metadata": {
        "colab": {
          "base_uri": "https://localhost:8080/",
          "height": 235
        },
        "id": "cN-uk72I5f3Q",
        "outputId": "23fcd4de-c519-43fe-b39f-a1c73aa8fa7d"
      },
      "source": [
        "# we are considering a subset of company featues but we can consider only positively correlated features\n",
        "df_dict[company].head()"
      ],
      "execution_count": 38,
      "outputs": [
        {
          "output_type": "execute_result",
          "data": {
            "text/html": [
              "<div>\n",
              "<style scoped>\n",
              "    .dataframe tbody tr th:only-of-type {\n",
              "        vertical-align: middle;\n",
              "    }\n",
              "\n",
              "    .dataframe tbody tr th {\n",
              "        vertical-align: top;\n",
              "    }\n",
              "\n",
              "    .dataframe thead th {\n",
              "        text-align: right;\n",
              "    }\n",
              "</style>\n",
              "<table border=\"1\" class=\"dataframe\">\n",
              "  <thead>\n",
              "    <tr style=\"text-align: right;\">\n",
              "      <th></th>\n",
              "      <th>Open</th>\n",
              "      <th>High</th>\n",
              "      <th>Low</th>\n",
              "      <th>Close</th>\n",
              "      <th>Adj Close</th>\n",
              "      <th>Volume</th>\n",
              "    </tr>\n",
              "    <tr>\n",
              "      <th>Date</th>\n",
              "      <th></th>\n",
              "      <th></th>\n",
              "      <th></th>\n",
              "      <th></th>\n",
              "      <th></th>\n",
              "      <th></th>\n",
              "    </tr>\n",
              "  </thead>\n",
              "  <tbody>\n",
              "    <tr>\n",
              "      <th>2020-01-02</th>\n",
              "      <td>206.750000</td>\n",
              "      <td>209.789993</td>\n",
              "      <td>206.270004</td>\n",
              "      <td>209.779999</td>\n",
              "      <td>209.779999</td>\n",
              "      <td>12077100</td>\n",
              "    </tr>\n",
              "    <tr>\n",
              "      <th>2020-01-03</th>\n",
              "      <td>207.210007</td>\n",
              "      <td>210.399994</td>\n",
              "      <td>206.949997</td>\n",
              "      <td>208.669998</td>\n",
              "      <td>208.669998</td>\n",
              "      <td>11188400</td>\n",
              "    </tr>\n",
              "    <tr>\n",
              "      <th>2020-01-06</th>\n",
              "      <td>206.699997</td>\n",
              "      <td>212.779999</td>\n",
              "      <td>206.520004</td>\n",
              "      <td>212.600006</td>\n",
              "      <td>212.600006</td>\n",
              "      <td>17058900</td>\n",
              "    </tr>\n",
              "    <tr>\n",
              "      <th>2020-01-07</th>\n",
              "      <td>212.820007</td>\n",
              "      <td>214.580002</td>\n",
              "      <td>211.750000</td>\n",
              "      <td>213.059998</td>\n",
              "      <td>213.059998</td>\n",
              "      <td>14912400</td>\n",
              "    </tr>\n",
              "    <tr>\n",
              "      <th>2020-01-08</th>\n",
              "      <td>213.000000</td>\n",
              "      <td>216.240005</td>\n",
              "      <td>212.610001</td>\n",
              "      <td>215.220001</td>\n",
              "      <td>215.220001</td>\n",
              "      <td>13475000</td>\n",
              "    </tr>\n",
              "  </tbody>\n",
              "</table>\n",
              "</div>"
            ],
            "text/plain": [
              "                  Open        High  ...   Adj Close    Volume\n",
              "Date                                ...                      \n",
              "2020-01-02  206.750000  209.789993  ...  209.779999  12077100\n",
              "2020-01-03  207.210007  210.399994  ...  208.669998  11188400\n",
              "2020-01-06  206.699997  212.779999  ...  212.600006  17058900\n",
              "2020-01-07  212.820007  214.580002  ...  213.059998  14912400\n",
              "2020-01-08  213.000000  216.240005  ...  215.220001  13475000\n",
              "\n",
              "[5 rows x 6 columns]"
            ]
          },
          "metadata": {
            "tags": []
          },
          "execution_count": 38
        }
      ]
    },
    {
      "cell_type": "code",
      "metadata": {
        "colab": {
          "base_uri": "https://localhost:8080/",
          "height": 419
        },
        "id": "u_gReNTu0kgk",
        "outputId": "efb01af1-1f9f-47b3-a351-bffc491e614d"
      },
      "source": [
        "\n",
        "df=df_dict[company].reset_index()[['Adj Close', 'Close', 'High']]\n",
        "df"
      ],
      "execution_count": 39,
      "outputs": [
        {
          "output_type": "execute_result",
          "data": {
            "text/html": [
              "<div>\n",
              "<style scoped>\n",
              "    .dataframe tbody tr th:only-of-type {\n",
              "        vertical-align: middle;\n",
              "    }\n",
              "\n",
              "    .dataframe tbody tr th {\n",
              "        vertical-align: top;\n",
              "    }\n",
              "\n",
              "    .dataframe thead th {\n",
              "        text-align: right;\n",
              "    }\n",
              "</style>\n",
              "<table border=\"1\" class=\"dataframe\">\n",
              "  <thead>\n",
              "    <tr style=\"text-align: right;\">\n",
              "      <th></th>\n",
              "      <th>Adj Close</th>\n",
              "      <th>Close</th>\n",
              "      <th>High</th>\n",
              "    </tr>\n",
              "  </thead>\n",
              "  <tbody>\n",
              "    <tr>\n",
              "      <th>0</th>\n",
              "      <td>209.779999</td>\n",
              "      <td>209.779999</td>\n",
              "      <td>209.789993</td>\n",
              "    </tr>\n",
              "    <tr>\n",
              "      <th>1</th>\n",
              "      <td>208.669998</td>\n",
              "      <td>208.669998</td>\n",
              "      <td>210.399994</td>\n",
              "    </tr>\n",
              "    <tr>\n",
              "      <th>2</th>\n",
              "      <td>212.600006</td>\n",
              "      <td>212.600006</td>\n",
              "      <td>212.779999</td>\n",
              "    </tr>\n",
              "    <tr>\n",
              "      <th>3</th>\n",
              "      <td>213.059998</td>\n",
              "      <td>213.059998</td>\n",
              "      <td>214.580002</td>\n",
              "    </tr>\n",
              "    <tr>\n",
              "      <th>4</th>\n",
              "      <td>215.220001</td>\n",
              "      <td>215.220001</td>\n",
              "      <td>216.240005</td>\n",
              "    </tr>\n",
              "    <tr>\n",
              "      <th>...</th>\n",
              "      <td>...</td>\n",
              "      <td>...</td>\n",
              "      <td>...</td>\n",
              "    </tr>\n",
              "    <tr>\n",
              "      <th>340</th>\n",
              "      <td>305.970001</td>\n",
              "      <td>305.970001</td>\n",
              "      <td>314.579987</td>\n",
              "    </tr>\n",
              "    <tr>\n",
              "      <th>341</th>\n",
              "      <td>306.529999</td>\n",
              "      <td>306.529999</td>\n",
              "      <td>306.839996</td>\n",
              "    </tr>\n",
              "    <tr>\n",
              "      <th>342</th>\n",
              "      <td>302.549988</td>\n",
              "      <td>302.549988</td>\n",
              "      <td>304.959991</td>\n",
              "    </tr>\n",
              "    <tr>\n",
              "      <th>343</th>\n",
              "      <td>305.260010</td>\n",
              "      <td>305.260010</td>\n",
              "      <td>308.859985</td>\n",
              "    </tr>\n",
              "    <tr>\n",
              "      <th>344</th>\n",
              "      <td>315.940002</td>\n",
              "      <td>315.940002</td>\n",
              "      <td>316.850006</td>\n",
              "    </tr>\n",
              "  </tbody>\n",
              "</table>\n",
              "<p>345 rows × 3 columns</p>\n",
              "</div>"
            ],
            "text/plain": [
              "      Adj Close       Close        High\n",
              "0    209.779999  209.779999  209.789993\n",
              "1    208.669998  208.669998  210.399994\n",
              "2    212.600006  212.600006  212.779999\n",
              "3    213.059998  213.059998  214.580002\n",
              "4    215.220001  215.220001  216.240005\n",
              "..          ...         ...         ...\n",
              "340  305.970001  305.970001  314.579987\n",
              "341  306.529999  306.529999  306.839996\n",
              "342  302.549988  302.549988  304.959991\n",
              "343  305.260010  305.260010  308.859985\n",
              "344  315.940002  315.940002  316.850006\n",
              "\n",
              "[345 rows x 3 columns]"
            ]
          },
          "metadata": {
            "tags": []
          },
          "execution_count": 39
        }
      ]
    },
    {
      "cell_type": "code",
      "metadata": {
        "colab": {
          "base_uri": "https://localhost:8080/",
          "height": 316
        },
        "id": "ij_oCMqa0j94",
        "outputId": "3281e8e9-cc70-496f-b728-7b067ee8bb7d"
      },
      "source": [
        "import matplotlib.pyplot as plt\n",
        "plt.plot(df)"
      ],
      "execution_count": 40,
      "outputs": [
        {
          "output_type": "execute_result",
          "data": {
            "text/plain": [
              "[<matplotlib.lines.Line2D at 0x7feab61774d0>,\n",
              " <matplotlib.lines.Line2D at 0x7feab6177250>,\n",
              " <matplotlib.lines.Line2D at 0x7feab61776d0>]"
            ]
          },
          "metadata": {
            "tags": []
          },
          "execution_count": 40
        },
        {
          "output_type": "display_data",
          "data": {
            "image/png": "[encoded data removed]",
            "text/plain": [
              "<Figure size 432x288 with 1 Axes>"
            ]
          },
          "metadata": {
            "tags": [],
            "needs_background": "light"
          }
        }
      ]
    },
    {
      "cell_type": "code",
      "metadata": {
        "id": "7T11CXNK1G5e"
      },
      "source": [
        "from sklearn.preprocessing import MinMaxScaler\n",
        "scaler=MinMaxScaler(feature_range=(0,1))\n",
        "df=scaler.fit_transform(np.array(df).reshape(-1,1))"
      ],
      "execution_count": 41,
      "outputs": []
    },
    {
      "cell_type": "code",
      "metadata": {
        "id": "ZmzoAmXd1G9e"
      },
      "source": [
        "#split dataset into train and test \n",
        "split = 0.80\n",
        "training_size=int(len(df)*split)\n",
        "test_size=len(df)-training_size\n",
        "train_data,test_data=df[0:training_size,:],df[training_size:len(df),:1]"
      ],
      "execution_count": 42,
      "outputs": []
    },
    {
      "cell_type": "code",
      "metadata": {
        "colab": {
          "base_uri": "https://localhost:8080/"
        },
        "id": "iHqSsp5N1HDI",
        "outputId": "d47be2f5-2664-4131-9055-76978700c248"
      },
      "source": [
        "training_size,test_size"
      ],
      "execution_count": 43,
      "outputs": [
        {
          "output_type": "execute_result",
          "data": {
            "text/plain": [
              "(828, 207)"
            ]
          },
          "metadata": {
            "tags": []
          },
          "execution_count": 43
        }
      ]
    },
    {
      "cell_type": "code",
      "metadata": {
        "id": "mJluDBsYdhro"
      },
      "source": [
        "# converting data into the time_step data\n",
        "def timestep_data(dataset, time_step=1):\n",
        "\tdata_input, data_output = [], []\n",
        "\tfor i in range(len(dataset)-time_step-1):\n",
        "\t\tdata1 = dataset[i:(i+time_step), 0]   \n",
        "\t\tdata_input.append(data1)\n",
        "\t\tdata_output.append(dataset[i + time_step, 0])\n",
        "\treturn np.array(data_input), np.array(data_output)"
      ],
      "execution_count": 44,
      "outputs": []
    },
    {
      "cell_type": "code",
      "metadata": {
        "id": "mRhneIna3UHa"
      },
      "source": [
        "# in ltsm we take a previous memory i.e set to values without dependence on the data here it is 30\n",
        "time_step = 30\n",
        "x_train, y_train = timestep_data(train_data, time_step)\n",
        "x_test, y_test = timestep_data(test_data, time_step)"
      ],
      "execution_count": 45,
      "outputs": []
    },
    {
      "cell_type": "code",
      "metadata": {
        "colab": {
          "base_uri": "https://localhost:8080/"
        },
        "id": "qR_cTmOXeBQ1",
        "outputId": "86ba0395-9a12-4efc-90ce-899af2c7d5aa"
      },
      "source": [
        "print(\"x_train shape \",x_train.shape,\"y_train shape\", y_train.shape,\"x_test shape\",x_test.shape,\"y_test shape\",y_test.shape)"
      ],
      "execution_count": 46,
      "outputs": [
        {
          "output_type": "stream",
          "text": [
            "x_train shape  (797, 30) y_train shape (797,) x_test shape (176, 30) y_test shape (176,)\n"
          ],
          "name": "stdout"
        }
      ]
    },
    {
      "cell_type": "code",
      "metadata": {
        "id": "Cbij4x-T3grs"
      },
      "source": [
        "#reshape the data before sending it ot the model\n",
        "\n",
        "x_train =x_train.reshape(x_train.shape[0],x_train.shape[1] , 1)\n",
        "x_test = x_test.reshape(x_test.shape[0],x_test.shape[1] , 1)"
      ],
      "execution_count": 47,
      "outputs": []
    },
    {
      "cell_type": "code",
      "metadata": {
        "id": "XsKExdxESYPG"
      },
      "source": [
        "#hyperparameters\n",
        "lr = 1e-3\n",
        "batch_size = 64\n",
        "num_epochs = 250\n"
      ],
      "execution_count": 48,
      "outputs": []
    },
    {
      "cell_type": "markdown",
      "metadata": {
        "id": "0M4FInixzOQ7"
      },
      "source": [
        "Model"
      ]
    },
    {
      "cell_type": "code",
      "metadata": {
        "id": "e0oVir9-3gzD"
      },
      "source": [
        "# for most ltsm model the the drop out 0.2 gives the most optimal results \n",
        "# return sequence automatically becomes false so must include return_sequences = True that will return one output for each input time step\n",
        "model = Sequential()\n",
        "model.add(LSTM(units = 50, return_sequences = True, input_shape = (x_train.shape[1],x_train.shape[2]) ))\n",
        "model.add(Dropout(0.2))\n",
        "model.add(LSTM(units = 50, return_sequences = True))\n",
        "model.add(Dropout(0.2))\n",
        "model.add(LSTM(units = 50, return_sequences = True))\n",
        "model.add(Dropout(0.2))\n",
        "model.add(LSTM(units = 50))\n",
        "model.add(Dropout(0.2))\n",
        "model.add(Dense(units = 1))\n",
        "model.compile(optimizer = 'adam', loss = 'mean_squared_error')\n",
        "\n"
      ],
      "execution_count": 49,
      "outputs": []
    },
    {
      "cell_type": "code",
      "metadata": {
        "colab": {
          "base_uri": "https://localhost:8080/"
        },
        "id": "bKzB-chW3g6d",
        "outputId": "0fcb708c-5fc9-425c-f72b-c7fd59f8f245"
      },
      "source": [
        "history = model.fit(x_train,y_train,validation_data=(x_test,y_test),epochs=num_epochs,batch_size=batch_size,verbose=1)"
      ],
      "execution_count": 50,
      "outputs": [
        {
          "output_type": "stream",
          "text": [
            "Epoch 1/250\n",
            "13/13 [==============================] - 9s 172ms/step - loss: 0.1324 - val_loss: 0.0851\n",
            "Epoch 2/250\n",
            "13/13 [==============================] - 1s 43ms/step - loss: 0.0225 - val_loss: 0.0125\n",
            "Epoch 3/250\n",
            "13/13 [==============================] - 1s 45ms/step - loss: 0.0121 - val_loss: 0.0041\n",
            "Epoch 4/250\n",
            "13/13 [==============================] - 1s 44ms/step - loss: 0.0091 - val_loss: 0.0037\n",
            "Epoch 5/250\n",
            "13/13 [==============================] - 1s 42ms/step - loss: 0.0070 - val_loss: 0.0034\n",
            "Epoch 6/250\n",
            "13/13 [==============================] - 1s 42ms/step - loss: 0.0073 - val_loss: 0.0032\n",
            "Epoch 7/250\n",
            "13/13 [==============================] - 1s 43ms/step - loss: 0.0059 - val_loss: 0.0041\n",
            "Epoch 8/250\n",
            "13/13 [==============================] - 1s 43ms/step - loss: 0.0069 - val_loss: 0.0047\n",
            "Epoch 9/250\n",
            "13/13 [==============================] - 1s 44ms/step - loss: 0.0066 - val_loss: 0.0031\n",
            "Epoch 10/250\n",
            "13/13 [==============================] - 1s 43ms/step - loss: 0.0061 - val_loss: 0.0070\n",
            "Epoch 11/250\n",
            "13/13 [==============================] - 1s 44ms/step - loss: 0.0065 - val_loss: 0.0033\n",
            "Epoch 12/250\n",
            "13/13 [==============================] - 1s 43ms/step - loss: 0.0080 - val_loss: 0.0036\n",
            "Epoch 13/250\n",
            "13/13 [==============================] - 1s 43ms/step - loss: 0.0062 - val_loss: 0.0075\n",
            "Epoch 14/250\n",
            "13/13 [==============================] - 1s 42ms/step - loss: 0.0052 - val_loss: 0.0036\n",
            "Epoch 15/250\n",
            "13/13 [==============================] - 1s 43ms/step - loss: 0.0055 - val_loss: 0.0035\n",
            "Epoch 16/250\n",
            "13/13 [==============================] - 1s 44ms/step - loss: 0.0057 - val_loss: 0.0063\n",
            "Epoch 17/250\n",
            "13/13 [==============================] - 1s 44ms/step - loss: 0.0057 - val_loss: 0.0031\n",
            "Epoch 18/250\n",
            "13/13 [==============================] - 1s 42ms/step - loss: 0.0052 - val_loss: 0.0043\n",
            "Epoch 19/250\n",
            "13/13 [==============================] - 1s 43ms/step - loss: 0.0056 - val_loss: 0.0037\n",
            "Epoch 20/250\n",
            "13/13 [==============================] - 1s 43ms/step - loss: 0.0048 - val_loss: 0.0062\n",
            "Epoch 21/250\n",
            "13/13 [==============================] - 1s 43ms/step - loss: 0.0053 - val_loss: 0.0032\n",
            "Epoch 22/250\n",
            "13/13 [==============================] - 1s 43ms/step - loss: 0.0048 - val_loss: 0.0027\n",
            "Epoch 23/250\n",
            "13/13 [==============================] - 1s 44ms/step - loss: 0.0053 - val_loss: 0.0081\n",
            "Epoch 24/250\n",
            "13/13 [==============================] - 1s 42ms/step - loss: 0.0051 - val_loss: 0.0037\n",
            "Epoch 25/250\n",
            "13/13 [==============================] - 1s 43ms/step - loss: 0.0049 - val_loss: 0.0057\n",
            "Epoch 26/250\n",
            "13/13 [==============================] - 1s 44ms/step - loss: 0.0048 - val_loss: 0.0023\n",
            "Epoch 27/250\n",
            "13/13 [==============================] - 1s 44ms/step - loss: 0.0049 - val_loss: 0.0114\n",
            "Epoch 28/250\n",
            "13/13 [==============================] - 1s 44ms/step - loss: 0.0058 - val_loss: 0.0028\n",
            "Epoch 29/250\n",
            "13/13 [==============================] - 1s 43ms/step - loss: 0.0060 - val_loss: 0.0096\n",
            "Epoch 30/250\n",
            "13/13 [==============================] - 1s 43ms/step - loss: 0.0056 - val_loss: 0.0037\n",
            "Epoch 31/250\n",
            "13/13 [==============================] - 1s 44ms/step - loss: 0.0050 - val_loss: 0.0027\n",
            "Epoch 32/250\n",
            "13/13 [==============================] - 1s 43ms/step - loss: 0.0055 - val_loss: 0.0055\n",
            "Epoch 33/250\n",
            "13/13 [==============================] - 1s 44ms/step - loss: 0.0046 - val_loss: 0.0034\n",
            "Epoch 34/250\n",
            "13/13 [==============================] - 1s 43ms/step - loss: 0.0048 - val_loss: 0.0072\n",
            "Epoch 35/250\n",
            "13/13 [==============================] - 1s 43ms/step - loss: 0.0045 - val_loss: 0.0025\n",
            "Epoch 36/250\n",
            "13/13 [==============================] - 1s 43ms/step - loss: 0.0045 - val_loss: 0.0049\n",
            "Epoch 37/250\n",
            "13/13 [==============================] - 1s 43ms/step - loss: 0.0041 - val_loss: 0.0023\n",
            "Epoch 38/250\n",
            "13/13 [==============================] - 1s 43ms/step - loss: 0.0047 - val_loss: 0.0048\n",
            "Epoch 39/250\n",
            "13/13 [==============================] - 1s 43ms/step - loss: 0.0047 - val_loss: 0.0026\n",
            "Epoch 40/250\n",
            "13/13 [==============================] - 1s 43ms/step - loss: 0.0045 - val_loss: 0.0053\n",
            "Epoch 41/250\n",
            "13/13 [==============================] - 1s 41ms/step - loss: 0.0042 - val_loss: 0.0026\n",
            "Epoch 42/250\n",
            "13/13 [==============================] - 1s 44ms/step - loss: 0.0044 - val_loss: 0.0040\n",
            "Epoch 43/250\n",
            "13/13 [==============================] - 1s 42ms/step - loss: 0.0044 - val_loss: 0.0018\n",
            "Epoch 44/250\n",
            "13/13 [==============================] - 1s 42ms/step - loss: 0.0040 - val_loss: 0.0051\n",
            "Epoch 45/250\n",
            "13/13 [==============================] - 1s 43ms/step - loss: 0.0041 - val_loss: 0.0036\n",
            "Epoch 46/250\n",
            "13/13 [==============================] - 1s 44ms/step - loss: 0.0041 - val_loss: 0.0018\n",
            "Epoch 47/250\n",
            "13/13 [==============================] - 1s 43ms/step - loss: 0.0042 - val_loss: 0.0025\n",
            "Epoch 48/250\n",
            "13/13 [==============================] - 1s 43ms/step - loss: 0.0038 - val_loss: 0.0033\n",
            "Epoch 49/250\n",
            "13/13 [==============================] - 1s 44ms/step - loss: 0.0035 - val_loss: 0.0020\n",
            "Epoch 50/250\n",
            "13/13 [==============================] - 1s 43ms/step - loss: 0.0037 - val_loss: 0.0058\n",
            "Epoch 51/250\n",
            "13/13 [==============================] - 1s 44ms/step - loss: 0.0039 - val_loss: 0.0028\n",
            "Epoch 52/250\n",
            "13/13 [==============================] - 1s 45ms/step - loss: 0.0037 - val_loss: 0.0022\n",
            "Epoch 53/250\n",
            "13/13 [==============================] - 1s 44ms/step - loss: 0.0037 - val_loss: 0.0055\n",
            "Epoch 54/250\n",
            "13/13 [==============================] - 1s 44ms/step - loss: 0.0040 - val_loss: 0.0044\n",
            "Epoch 55/250\n",
            "13/13 [==============================] - 1s 43ms/step - loss: 0.0038 - val_loss: 0.0026\n",
            "Epoch 56/250\n",
            "13/13 [==============================] - 1s 43ms/step - loss: 0.0036 - val_loss: 0.0016\n",
            "Epoch 57/250\n",
            "13/13 [==============================] - 1s 44ms/step - loss: 0.0037 - val_loss: 0.0031\n",
            "Epoch 58/250\n",
            "13/13 [==============================] - 1s 44ms/step - loss: 0.0036 - val_loss: 0.0022\n",
            "Epoch 59/250\n",
            "13/13 [==============================] - 1s 43ms/step - loss: 0.0035 - val_loss: 0.0015\n",
            "Epoch 60/250\n",
            "13/13 [==============================] - 1s 45ms/step - loss: 0.0036 - val_loss: 0.0016\n",
            "Epoch 61/250\n",
            "13/13 [==============================] - 1s 44ms/step - loss: 0.0032 - val_loss: 0.0042\n",
            "Epoch 62/250\n",
            "13/13 [==============================] - 1s 46ms/step - loss: 0.0031 - val_loss: 0.0016\n",
            "Epoch 63/250\n",
            "13/13 [==============================] - 1s 42ms/step - loss: 0.0035 - val_loss: 0.0028\n",
            "Epoch 64/250\n",
            "13/13 [==============================] - 1s 43ms/step - loss: 0.0035 - val_loss: 0.0016\n",
            "Epoch 65/250\n",
            "13/13 [==============================] - 1s 44ms/step - loss: 0.0034 - val_loss: 0.0038\n",
            "Epoch 66/250\n",
            "13/13 [==============================] - 1s 44ms/step - loss: 0.0029 - val_loss: 0.0021\n",
            "Epoch 67/250\n",
            "13/13 [==============================] - 1s 43ms/step - loss: 0.0034 - val_loss: 0.0016\n",
            "Epoch 68/250\n",
            "13/13 [==============================] - 1s 44ms/step - loss: 0.0036 - val_loss: 0.0041\n",
            "Epoch 69/250\n",
            "13/13 [==============================] - 1s 42ms/step - loss: 0.0034 - val_loss: 0.0042\n",
            "Epoch 70/250\n",
            "13/13 [==============================] - 1s 44ms/step - loss: 0.0032 - val_loss: 0.0024\n",
            "Epoch 71/250\n",
            "13/13 [==============================] - 1s 42ms/step - loss: 0.0034 - val_loss: 0.0027\n",
            "Epoch 72/250\n",
            "13/13 [==============================] - 1s 45ms/step - loss: 0.0033 - val_loss: 0.0027\n",
            "Epoch 73/250\n",
            "13/13 [==============================] - 1s 42ms/step - loss: 0.0032 - val_loss: 0.0032\n",
            "Epoch 74/250\n",
            "13/13 [==============================] - 1s 45ms/step - loss: 0.0032 - val_loss: 0.0021\n",
            "Epoch 75/250\n",
            "13/13 [==============================] - 1s 44ms/step - loss: 0.0027 - val_loss: 0.0052\n",
            "Epoch 76/250\n",
            "13/13 [==============================] - 1s 44ms/step - loss: 0.0034 - val_loss: 0.0030\n",
            "Epoch 77/250\n",
            "13/13 [==============================] - 1s 44ms/step - loss: 0.0027 - val_loss: 0.0020\n",
            "Epoch 78/250\n",
            "13/13 [==============================] - 1s 45ms/step - loss: 0.0028 - val_loss: 0.0025\n",
            "Epoch 79/250\n",
            "13/13 [==============================] - 1s 44ms/step - loss: 0.0029 - val_loss: 0.0036\n",
            "Epoch 80/250\n",
            "13/13 [==============================] - 1s 45ms/step - loss: 0.0029 - val_loss: 0.0015\n",
            "Epoch 81/250\n",
            "13/13 [==============================] - 1s 45ms/step - loss: 0.0034 - val_loss: 0.0037\n",
            "Epoch 82/250\n",
            "13/13 [==============================] - 1s 44ms/step - loss: 0.0026 - val_loss: 0.0024\n",
            "Epoch 83/250\n",
            "13/13 [==============================] - 1s 44ms/step - loss: 0.0026 - val_loss: 0.0022\n",
            "Epoch 84/250\n",
            "13/13 [==============================] - 1s 44ms/step - loss: 0.0025 - val_loss: 0.0035\n",
            "Epoch 85/250\n",
            "13/13 [==============================] - 1s 44ms/step - loss: 0.0029 - val_loss: 0.0014\n",
            "Epoch 86/250\n",
            "13/13 [==============================] - 1s 46ms/step - loss: 0.0029 - val_loss: 0.0039\n",
            "Epoch 87/250\n",
            "13/13 [==============================] - 1s 44ms/step - loss: 0.0031 - val_loss: 0.0029\n",
            "Epoch 88/250\n",
            "13/13 [==============================] - 1s 44ms/step - loss: 0.0028 - val_loss: 0.0016\n",
            "Epoch 89/250\n",
            "13/13 [==============================] - 1s 45ms/step - loss: 0.0026 - val_loss: 0.0042\n",
            "Epoch 90/250\n",
            "13/13 [==============================] - 1s 44ms/step - loss: 0.0030 - val_loss: 0.0024\n",
            "Epoch 91/250\n",
            "13/13 [==============================] - 1s 44ms/step - loss: 0.0027 - val_loss: 0.0033\n",
            "Epoch 92/250\n",
            "13/13 [==============================] - 1s 44ms/step - loss: 0.0024 - val_loss: 0.0021\n",
            "Epoch 93/250\n",
            "13/13 [==============================] - 1s 45ms/step - loss: 0.0024 - val_loss: 0.0022\n",
            "Epoch 94/250\n",
            "13/13 [==============================] - 1s 44ms/step - loss: 0.0032 - val_loss: 0.0029\n",
            "Epoch 95/250\n",
            "13/13 [==============================] - 1s 43ms/step - loss: 0.0029 - val_loss: 0.0014\n",
            "Epoch 96/250\n",
            "13/13 [==============================] - 1s 44ms/step - loss: 0.0025 - val_loss: 0.0039\n",
            "Epoch 97/250\n",
            "13/13 [==============================] - 1s 45ms/step - loss: 0.0030 - val_loss: 0.0018\n",
            "Epoch 98/250\n",
            "13/13 [==============================] - 1s 43ms/step - loss: 0.0025 - val_loss: 0.0016\n",
            "Epoch 99/250\n",
            "13/13 [==============================] - 1s 43ms/step - loss: 0.0027 - val_loss: 0.0064\n",
            "Epoch 100/250\n",
            "13/13 [==============================] - 1s 45ms/step - loss: 0.0026 - val_loss: 0.0021\n",
            "Epoch 101/250\n",
            "13/13 [==============================] - 1s 43ms/step - loss: 0.0023 - val_loss: 0.0019\n",
            "Epoch 102/250\n",
            "13/13 [==============================] - 1s 47ms/step - loss: 0.0025 - val_loss: 0.0032\n",
            "Epoch 103/250\n",
            "13/13 [==============================] - 1s 43ms/step - loss: 0.0024 - val_loss: 0.0013\n",
            "Epoch 104/250\n",
            "13/13 [==============================] - 1s 44ms/step - loss: 0.0029 - val_loss: 0.0028\n",
            "Epoch 105/250\n",
            "13/13 [==============================] - 1s 44ms/step - loss: 0.0025 - val_loss: 0.0032\n",
            "Epoch 106/250\n",
            "13/13 [==============================] - 1s 44ms/step - loss: 0.0022 - val_loss: 0.0026\n",
            "Epoch 107/250\n",
            "13/13 [==============================] - 1s 44ms/step - loss: 0.0022 - val_loss: 0.0018\n",
            "Epoch 108/250\n",
            "13/13 [==============================] - 1s 44ms/step - loss: 0.0025 - val_loss: 0.0032\n",
            "Epoch 109/250\n",
            "13/13 [==============================] - 1s 44ms/step - loss: 0.0024 - val_loss: 0.0012\n",
            "Epoch 110/250\n",
            "13/13 [==============================] - 1s 43ms/step - loss: 0.0029 - val_loss: 0.0043\n",
            "Epoch 111/250\n",
            "13/13 [==============================] - 1s 43ms/step - loss: 0.0027 - val_loss: 0.0013\n",
            "Epoch 112/250\n",
            "13/13 [==============================] - 1s 44ms/step - loss: 0.0028 - val_loss: 0.0033\n",
            "Epoch 113/250\n",
            "13/13 [==============================] - 1s 45ms/step - loss: 0.0023 - val_loss: 0.0032\n",
            "Epoch 114/250\n",
            "13/13 [==============================] - 1s 43ms/step - loss: 0.0023 - val_loss: 0.0026\n",
            "Epoch 115/250\n",
            "13/13 [==============================] - 1s 43ms/step - loss: 0.0019 - val_loss: 0.0017\n",
            "Epoch 116/250\n",
            "13/13 [==============================] - 1s 44ms/step - loss: 0.0023 - val_loss: 0.0036\n",
            "Epoch 117/250\n",
            "13/13 [==============================] - 1s 44ms/step - loss: 0.0020 - val_loss: 0.0017\n",
            "Epoch 118/250\n",
            "13/13 [==============================] - 1s 44ms/step - loss: 0.0023 - val_loss: 0.0029\n",
            "Epoch 119/250\n",
            "13/13 [==============================] - 1s 44ms/step - loss: 0.0023 - val_loss: 0.0014\n",
            "Epoch 120/250\n",
            "13/13 [==============================] - 1s 43ms/step - loss: 0.0023 - val_loss: 0.0024\n",
            "Epoch 121/250\n",
            "13/13 [==============================] - 1s 43ms/step - loss: 0.0022 - val_loss: 0.0016\n",
            "Epoch 122/250\n",
            "13/13 [==============================] - 1s 43ms/step - loss: 0.0022 - val_loss: 0.0014\n",
            "Epoch 123/250\n",
            "13/13 [==============================] - 1s 43ms/step - loss: 0.0022 - val_loss: 0.0039\n",
            "Epoch 124/250\n",
            "13/13 [==============================] - 1s 43ms/step - loss: 0.0022 - val_loss: 0.0026\n",
            "Epoch 125/250\n",
            "13/13 [==============================] - 1s 43ms/step - loss: 0.0026 - val_loss: 0.0019\n",
            "Epoch 126/250\n",
            "13/13 [==============================] - 1s 45ms/step - loss: 0.0021 - val_loss: 0.0027\n",
            "Epoch 127/250\n",
            "13/13 [==============================] - 1s 43ms/step - loss: 0.0019 - val_loss: 0.0013\n",
            "Epoch 128/250\n",
            "13/13 [==============================] - 1s 45ms/step - loss: 0.0022 - val_loss: 0.0045\n",
            "Epoch 129/250\n",
            "13/13 [==============================] - 1s 42ms/step - loss: 0.0024 - val_loss: 0.0012\n",
            "Epoch 130/250\n",
            "13/13 [==============================] - 1s 44ms/step - loss: 0.0023 - val_loss: 0.0036\n",
            "Epoch 131/250\n",
            "13/13 [==============================] - 1s 45ms/step - loss: 0.0024 - val_loss: 0.0012\n",
            "Epoch 132/250\n",
            "13/13 [==============================] - 1s 44ms/step - loss: 0.0022 - val_loss: 0.0035\n",
            "Epoch 133/250\n",
            "13/13 [==============================] - 1s 45ms/step - loss: 0.0023 - val_loss: 0.0014\n",
            "Epoch 134/250\n",
            "13/13 [==============================] - 1s 44ms/step - loss: 0.0023 - val_loss: 0.0014\n",
            "Epoch 135/250\n",
            "13/13 [==============================] - 1s 45ms/step - loss: 0.0020 - val_loss: 0.0022\n",
            "Epoch 136/250\n",
            "13/13 [==============================] - 1s 43ms/step - loss: 0.0021 - val_loss: 0.0030\n",
            "Epoch 137/250\n",
            "13/13 [==============================] - 1s 43ms/step - loss: 0.0021 - val_loss: 0.0026\n",
            "Epoch 138/250\n",
            "13/13 [==============================] - 1s 43ms/step - loss: 0.0024 - val_loss: 0.0012\n",
            "Epoch 139/250\n",
            "13/13 [==============================] - 1s 45ms/step - loss: 0.0023 - val_loss: 0.0049\n",
            "Epoch 140/250\n",
            "13/13 [==============================] - 1s 44ms/step - loss: 0.0020 - val_loss: 0.0020\n",
            "Epoch 141/250\n",
            "13/13 [==============================] - 1s 43ms/step - loss: 0.0022 - val_loss: 0.0018\n",
            "Epoch 142/250\n",
            "13/13 [==============================] - 1s 43ms/step - loss: 0.0022 - val_loss: 0.0036\n",
            "Epoch 143/250\n",
            "13/13 [==============================] - 1s 46ms/step - loss: 0.0019 - val_loss: 0.0016\n",
            "Epoch 144/250\n",
            "13/13 [==============================] - 1s 43ms/step - loss: 0.0018 - val_loss: 0.0029\n",
            "Epoch 145/250\n",
            "13/13 [==============================] - 1s 46ms/step - loss: 0.0018 - val_loss: 0.0023\n",
            "Epoch 146/250\n",
            "13/13 [==============================] - 1s 43ms/step - loss: 0.0020 - val_loss: 0.0019\n",
            "Epoch 147/250\n",
            "13/13 [==============================] - 1s 45ms/step - loss: 0.0019 - val_loss: 0.0026\n",
            "Epoch 148/250\n",
            "13/13 [==============================] - 1s 44ms/step - loss: 0.0016 - val_loss: 0.0020\n",
            "Epoch 149/250\n",
            "13/13 [==============================] - 1s 44ms/step - loss: 0.0020 - val_loss: 0.0011\n",
            "Epoch 150/250\n",
            "13/13 [==============================] - 1s 43ms/step - loss: 0.0023 - val_loss: 0.0027\n",
            "Epoch 151/250\n",
            "13/13 [==============================] - 1s 43ms/step - loss: 0.0025 - val_loss: 0.0022\n",
            "Epoch 152/250\n",
            "13/13 [==============================] - 1s 44ms/step - loss: 0.0021 - val_loss: 0.0031\n",
            "Epoch 153/250\n",
            "13/13 [==============================] - 1s 43ms/step - loss: 0.0021 - val_loss: 0.0015\n",
            "Epoch 154/250\n",
            "13/13 [==============================] - 1s 44ms/step - loss: 0.0021 - val_loss: 0.0035\n",
            "Epoch 155/250\n",
            "13/13 [==============================] - 1s 44ms/step - loss: 0.0022 - val_loss: 9.7418e-04\n",
            "Epoch 156/250\n",
            "13/13 [==============================] - 1s 45ms/step - loss: 0.0022 - val_loss: 0.0027\n",
            "Epoch 157/250\n",
            "13/13 [==============================] - 1s 43ms/step - loss: 0.0020 - val_loss: 0.0012\n",
            "Epoch 158/250\n",
            "13/13 [==============================] - 1s 43ms/step - loss: 0.0021 - val_loss: 0.0037\n",
            "Epoch 159/250\n",
            "13/13 [==============================] - 1s 44ms/step - loss: 0.0021 - val_loss: 9.3098e-04\n",
            "Epoch 160/250\n",
            "13/13 [==============================] - 1s 44ms/step - loss: 0.0018 - val_loss: 0.0022\n",
            "Epoch 161/250\n",
            "13/13 [==============================] - 1s 43ms/step - loss: 0.0018 - val_loss: 9.3912e-04\n",
            "Epoch 162/250\n",
            "13/13 [==============================] - 1s 43ms/step - loss: 0.0018 - val_loss: 0.0017\n",
            "Epoch 163/250\n",
            "13/13 [==============================] - 1s 44ms/step - loss: 0.0018 - val_loss: 0.0014\n",
            "Epoch 164/250\n",
            "13/13 [==============================] - 1s 44ms/step - loss: 0.0020 - val_loss: 0.0013\n",
            "Epoch 165/250\n",
            "13/13 [==============================] - 1s 43ms/step - loss: 0.0021 - val_loss: 0.0018\n",
            "Epoch 166/250\n",
            "13/13 [==============================] - 1s 44ms/step - loss: 0.0020 - val_loss: 0.0035\n",
            "Epoch 167/250\n",
            "13/13 [==============================] - 1s 43ms/step - loss: 0.0018 - val_loss: 0.0013\n",
            "Epoch 168/250\n",
            "13/13 [==============================] - 1s 44ms/step - loss: 0.0020 - val_loss: 0.0027\n",
            "Epoch 169/250\n",
            "13/13 [==============================] - 1s 44ms/step - loss: 0.0016 - val_loss: 0.0023\n",
            "Epoch 170/250\n",
            "13/13 [==============================] - 1s 46ms/step - loss: 0.0019 - val_loss: 0.0012\n",
            "Epoch 171/250\n",
            "13/13 [==============================] - 1s 43ms/step - loss: 0.0020 - val_loss: 0.0020\n",
            "Epoch 172/250\n",
            "13/13 [==============================] - 1s 44ms/step - loss: 0.0016 - val_loss: 0.0020\n",
            "Epoch 173/250\n",
            "13/13 [==============================] - 1s 45ms/step - loss: 0.0019 - val_loss: 0.0016\n",
            "Epoch 174/250\n",
            "13/13 [==============================] - 1s 44ms/step - loss: 0.0019 - val_loss: 0.0018\n",
            "Epoch 175/250\n",
            "13/13 [==============================] - 1s 42ms/step - loss: 0.0017 - val_loss: 0.0019\n",
            "Epoch 176/250\n",
            "13/13 [==============================] - 1s 44ms/step - loss: 0.0017 - val_loss: 0.0017\n",
            "Epoch 177/250\n",
            "13/13 [==============================] - 1s 43ms/step - loss: 0.0019 - val_loss: 0.0017\n",
            "Epoch 178/250\n",
            "13/13 [==============================] - 1s 42ms/step - loss: 0.0019 - val_loss: 8.5639e-04\n",
            "Epoch 179/250\n",
            "13/13 [==============================] - 1s 43ms/step - loss: 0.0019 - val_loss: 0.0030\n",
            "Epoch 180/250\n",
            "13/13 [==============================] - 1s 43ms/step - loss: 0.0019 - val_loss: 0.0014\n",
            "Epoch 181/250\n",
            "13/13 [==============================] - 1s 44ms/step - loss: 0.0018 - val_loss: 0.0022\n",
            "Epoch 182/250\n",
            "13/13 [==============================] - 1s 44ms/step - loss: 0.0017 - val_loss: 0.0017\n",
            "Epoch 183/250\n",
            "13/13 [==============================] - 1s 42ms/step - loss: 0.0018 - val_loss: 0.0012\n",
            "Epoch 184/250\n",
            "13/13 [==============================] - 1s 44ms/step - loss: 0.0017 - val_loss: 0.0015\n",
            "Epoch 185/250\n",
            "13/13 [==============================] - 1s 43ms/step - loss: 0.0020 - val_loss: 0.0024\n",
            "Epoch 186/250\n",
            "13/13 [==============================] - 1s 44ms/step - loss: 0.0018 - val_loss: 0.0012\n",
            "Epoch 187/250\n",
            "13/13 [==============================] - 1s 43ms/step - loss: 0.0018 - val_loss: 0.0024\n",
            "Epoch 188/250\n",
            "13/13 [==============================] - 1s 44ms/step - loss: 0.0018 - val_loss: 0.0015\n",
            "Epoch 189/250\n",
            "13/13 [==============================] - 1s 44ms/step - loss: 0.0018 - val_loss: 0.0028\n",
            "Epoch 190/250\n",
            "13/13 [==============================] - 1s 45ms/step - loss: 0.0017 - val_loss: 0.0015\n",
            "Epoch 191/250\n",
            "13/13 [==============================] - 1s 43ms/step - loss: 0.0018 - val_loss: 0.0013\n",
            "Epoch 192/250\n",
            "13/13 [==============================] - 1s 44ms/step - loss: 0.0019 - val_loss: 0.0017\n",
            "Epoch 193/250\n",
            "13/13 [==============================] - 1s 46ms/step - loss: 0.0015 - val_loss: 0.0023\n",
            "Epoch 194/250\n",
            "13/13 [==============================] - 1s 44ms/step - loss: 0.0015 - val_loss: 0.0017\n",
            "Epoch 195/250\n",
            "13/13 [==============================] - 1s 45ms/step - loss: 0.0016 - val_loss: 9.0186e-04\n",
            "Epoch 196/250\n",
            "13/13 [==============================] - 1s 44ms/step - loss: 0.0019 - val_loss: 0.0043\n",
            "Epoch 197/250\n",
            "13/13 [==============================] - 1s 45ms/step - loss: 0.0018 - val_loss: 9.1333e-04\n",
            "Epoch 198/250\n",
            "13/13 [==============================] - 1s 42ms/step - loss: 0.0018 - val_loss: 0.0024\n",
            "Epoch 199/250\n",
            "13/13 [==============================] - 1s 43ms/step - loss: 0.0017 - val_loss: 0.0014\n",
            "Epoch 200/250\n",
            "13/13 [==============================] - 1s 44ms/step - loss: 0.0017 - val_loss: 0.0023\n",
            "Epoch 201/250\n",
            "13/13 [==============================] - 1s 44ms/step - loss: 0.0016 - val_loss: 0.0018\n",
            "Epoch 202/250\n",
            "13/13 [==============================] - 1s 45ms/step - loss: 0.0016 - val_loss: 9.4430e-04\n",
            "Epoch 203/250\n",
            "13/13 [==============================] - 1s 44ms/step - loss: 0.0017 - val_loss: 0.0014\n",
            "Epoch 204/250\n",
            "13/13 [==============================] - 1s 45ms/step - loss: 0.0016 - val_loss: 0.0024\n",
            "Epoch 205/250\n",
            "13/13 [==============================] - 1s 43ms/step - loss: 0.0018 - val_loss: 0.0015\n",
            "Epoch 206/250\n",
            "13/13 [==============================] - 1s 43ms/step - loss: 0.0017 - val_loss: 0.0017\n",
            "Epoch 207/250\n",
            "13/13 [==============================] - 1s 44ms/step - loss: 0.0015 - val_loss: 0.0012\n",
            "Epoch 208/250\n",
            "13/13 [==============================] - 1s 44ms/step - loss: 0.0018 - val_loss: 0.0019\n",
            "Epoch 209/250\n",
            "13/13 [==============================] - 1s 44ms/step - loss: 0.0016 - val_loss: 0.0015\n",
            "Epoch 210/250\n",
            "13/13 [==============================] - 1s 43ms/step - loss: 0.0016 - val_loss: 0.0011\n",
            "Epoch 211/250\n",
            "13/13 [==============================] - 1s 45ms/step - loss: 0.0015 - val_loss: 9.8237e-04\n",
            "Epoch 212/250\n",
            "13/13 [==============================] - 1s 44ms/step - loss: 0.0016 - val_loss: 0.0019\n",
            "Epoch 213/250\n",
            "13/13 [==============================] - 1s 45ms/step - loss: 0.0015 - val_loss: 0.0018\n",
            "Epoch 214/250\n",
            "13/13 [==============================] - 1s 43ms/step - loss: 0.0017 - val_loss: 0.0013\n",
            "Epoch 215/250\n",
            "13/13 [==============================] - 1s 44ms/step - loss: 0.0016 - val_loss: 0.0017\n",
            "Epoch 216/250\n",
            "13/13 [==============================] - 1s 45ms/step - loss: 0.0013 - val_loss: 0.0012\n",
            "Epoch 217/250\n",
            "13/13 [==============================] - 1s 45ms/step - loss: 0.0017 - val_loss: 0.0016\n",
            "Epoch 218/250\n",
            "13/13 [==============================] - 1s 46ms/step - loss: 0.0015 - val_loss: 0.0019\n",
            "Epoch 219/250\n",
            "13/13 [==============================] - 1s 45ms/step - loss: 0.0013 - val_loss: 0.0016\n",
            "Epoch 220/250\n",
            "13/13 [==============================] - 1s 45ms/step - loss: 0.0016 - val_loss: 0.0012\n",
            "Epoch 221/250\n",
            "13/13 [==============================] - 1s 45ms/step - loss: 0.0015 - val_loss: 0.0023\n",
            "Epoch 222/250\n",
            "13/13 [==============================] - 1s 44ms/step - loss: 0.0016 - val_loss: 9.4935e-04\n",
            "Epoch 223/250\n",
            "13/13 [==============================] - 1s 45ms/step - loss: 0.0018 - val_loss: 0.0013\n",
            "Epoch 224/250\n",
            "13/13 [==============================] - 1s 44ms/step - loss: 0.0015 - val_loss: 0.0019\n",
            "Epoch 225/250\n",
            "13/13 [==============================] - 1s 45ms/step - loss: 0.0016 - val_loss: 0.0015\n",
            "Epoch 226/250\n",
            "13/13 [==============================] - 1s 41ms/step - loss: 0.0016 - val_loss: 0.0022\n",
            "Epoch 227/250\n",
            "13/13 [==============================] - 1s 45ms/step - loss: 0.0015 - val_loss: 0.0018\n",
            "Epoch 228/250\n",
            "13/13 [==============================] - 1s 45ms/step - loss: 0.0016 - val_loss: 0.0017\n",
            "Epoch 229/250\n",
            "13/13 [==============================] - 1s 43ms/step - loss: 0.0015 - val_loss: 9.8796e-04\n",
            "Epoch 230/250\n",
            "13/13 [==============================] - 1s 45ms/step - loss: 0.0015 - val_loss: 0.0021\n",
            "Epoch 231/250\n",
            "13/13 [==============================] - 1s 44ms/step - loss: 0.0015 - val_loss: 0.0016\n",
            "Epoch 232/250\n",
            "13/13 [==============================] - 1s 42ms/step - loss: 0.0015 - val_loss: 0.0016\n",
            "Epoch 233/250\n",
            "13/13 [==============================] - 1s 45ms/step - loss: 0.0015 - val_loss: 0.0012\n",
            "Epoch 234/250\n",
            "13/13 [==============================] - 1s 43ms/step - loss: 0.0016 - val_loss: 0.0020\n",
            "Epoch 235/250\n",
            "13/13 [==============================] - 1s 43ms/step - loss: 0.0014 - val_loss: 0.0025\n",
            "Epoch 236/250\n",
            "13/13 [==============================] - 1s 44ms/step - loss: 0.0015 - val_loss: 0.0018\n",
            "Epoch 237/250\n",
            "13/13 [==============================] - 1s 43ms/step - loss: 0.0016 - val_loss: 0.0011\n",
            "Epoch 238/250\n",
            "13/13 [==============================] - 1s 45ms/step - loss: 0.0014 - val_loss: 0.0020\n",
            "Epoch 239/250\n",
            "13/13 [==============================] - 1s 44ms/step - loss: 0.0014 - val_loss: 8.2220e-04\n",
            "Epoch 240/250\n",
            "13/13 [==============================] - 1s 45ms/step - loss: 0.0015 - val_loss: 0.0016\n",
            "Epoch 241/250\n",
            "13/13 [==============================] - 1s 44ms/step - loss: 0.0015 - val_loss: 8.8724e-04\n",
            "Epoch 242/250\n",
            "13/13 [==============================] - 1s 43ms/step - loss: 0.0017 - val_loss: 0.0022\n",
            "Epoch 243/250\n",
            "13/13 [==============================] - 1s 45ms/step - loss: 0.0015 - val_loss: 0.0022\n",
            "Epoch 244/250\n",
            "13/13 [==============================] - 1s 44ms/step - loss: 0.0015 - val_loss: 0.0020\n",
            "Epoch 245/250\n",
            "13/13 [==============================] - 1s 43ms/step - loss: 0.0014 - val_loss: 0.0013\n",
            "Epoch 246/250\n",
            "13/13 [==============================] - 1s 43ms/step - loss: 0.0014 - val_loss: 0.0011\n",
            "Epoch 247/250\n",
            "13/13 [==============================] - 1s 46ms/step - loss: 0.0012 - val_loss: 0.0018\n",
            "Epoch 248/250\n",
            "13/13 [==============================] - 1s 42ms/step - loss: 0.0014 - val_loss: 0.0011\n",
            "Epoch 249/250\n",
            "13/13 [==============================] - 1s 45ms/step - loss: 0.0015 - val_loss: 0.0012\n",
            "Epoch 250/250\n",
            "13/13 [==============================] - 1s 44ms/step - loss: 0.0015 - val_loss: 0.0014\n"
          ],
          "name": "stdout"
        }
      ]
    },
    {
      "cell_type": "code",
      "metadata": {
        "colab": {
          "base_uri": "https://localhost:8080/",
          "height": 265
        },
        "id": "nE44Dxt4K4Na",
        "outputId": "06454c2f-35ec-49b6-f9cd-d770b6c70df2"
      },
      "source": [
        "plt.plot( history.history['loss'],c = 'r')\n",
        "plt.plot(history.history['val_loss'],c = 'b')\n",
        "plt.ylabel('Loss')\n",
        "plt.legend(['train','val'],loc = 'upper right')\n",
        "plt.show()"
      ],
      "execution_count": 51,
      "outputs": [
        {
          "output_type": "display_data",
          "data": {
            "image/png": "[encoded data removed]",
            "text/plain": [
              "<Figure size 432x288 with 1 Axes>"
            ]
          },
          "metadata": {
            "tags": [],
            "needs_background": "light"
          }
        }
      ]
    },
    {
      "cell_type": "code",
      "metadata": {
        "id": "Km5WIySo34-j"
      },
      "source": [
        "# predict the train and test data\n",
        "predict_train=model.predict(x_train)\n",
        "predict_test=model.predict(x_test)"
      ],
      "execution_count": 65,
      "outputs": []
    },
    {
      "cell_type": "code",
      "metadata": {
        "colab": {
          "base_uri": "https://localhost:8080/"
        },
        "id": "VhxtwTfyftNY",
        "outputId": "b636027a-3458-4fc7-d422-7ca0d1a1ee49"
      },
      "source": [
        "# metrics for model\n",
        "rsme = math.sqrt(mean_squared_error(y_test,predict_test))*100\n",
        "mape = mean_absolute_percentage_error(y_test,predict_test)*100\n",
        "print(\"rsme\",rsme)\n",
        "print(\"mape\",mape)"
      ],
      "execution_count": 66,
      "outputs": [
        {
          "output_type": "stream",
          "text": [
            "rsme 3.7045456332909414\n",
            "mape 3.841128227555171\n"
          ],
          "name": "stdout"
        }
      ]
    },
    {
      "cell_type": "code",
      "metadata": {
        "id": "whhuspss39lU"
      },
      "source": [
        "#Transform to its original form\n",
        "train_predict=scaler.inverse_transform(predict_train)\n",
        "test_predict=scaler.inverse_transform(predict_test)"
      ],
      "execution_count": 67,
      "outputs": []
    },
    {
      "cell_type": "code",
      "metadata": {
        "id": "6x6iOVvbhmbl"
      },
      "source": [
        "# train predictions \n",
        "\n",
        "train_predicted_data = np.empty_like(df)\n",
        "train_predicted_data[:, :] = np.nan\n",
        "train_predicted_data[time_step:len(train_predict)+time_step, :] = train_predict"
      ],
      "execution_count": 68,
      "outputs": []
    },
    {
      "cell_type": "code",
      "metadata": {
        "id": "80SCE3IwhpWj"
      },
      "source": [
        "# shift and  test predictions \n",
        "test_predicted_data = np.empty_like(df)\n",
        "test_predicted_data[:, :] = numpy.nan\n",
        "test_predicted_data[len(train_predict)+(time_step*2)+1:len(df)-1, :] = test_predict"
      ],
      "execution_count": 69,
      "outputs": []
    },
    {
      "cell_type": "code",
      "metadata": {
        "colab": {
          "base_uri": "https://localhost:8080/",
          "height": 279
        },
        "id": "jDIlUncthphE",
        "outputId": "2b06372a-f022-43ff-8598-1f6ac6962318"
      },
      "source": [
        "# combine both test and train data predictions\n",
        "plt.plot(scaler.inverse_transform(df), label='Dataset')\n",
        "plt.plot(train_predicted_data, label = 'training data')\n",
        "plt.plot(test_predicted_data, label = 'predicted data')\n",
        "plt.xlabel('Days')\n",
        "plt.ylabel('Stock Price')\n",
        "plt.legend()\n",
        "plt.show()"
      ],
      "execution_count": 70,
      "outputs": [
        {
          "output_type": "display_data",
          "data": {
            "image/png": "[encoded data removed]",
            "text/plain": [
              "<Figure size 432x288 with 1 Axes>"
            ]
          },
          "metadata": {
            "tags": [],
            "needs_background": "light"
          }
        }
      ]
    },
    {
      "cell_type": "markdown",
      "metadata": {
        "id": "9qh5sOWRzATG"
      },
      "source": [
        "Predict future days"
      ]
    },
    {
      "cell_type": "code",
      "metadata": {
        "id": "WREZzbnDHaN-"
      },
      "source": [
        "# to predict the new data we are consider \"no_of_steps\" no of steps backwards i.e considering pervious time step no of vlues i.e 30\n",
        "no_of_steps=time_step"
      ],
      "execution_count": 71,
      "outputs": []
    },
    {
      "cell_type": "code",
      "metadata": {
        "id": "pVOG6dK94jtJ"
      },
      "source": [
        "#convert to list to append future data\n",
        "initial_input_data=test_data[(len(test_data)- no_of_steps):].reshape(1,-1)\n",
        "input_data=list(initial_input_data)\n",
        "input_data=input_data[0].tolist()"
      ],
      "execution_count": 72,
      "outputs": []
    },
    {
      "cell_type": "code",
      "metadata": {
        "colab": {
          "base_uri": "https://localhost:8080/"
        },
        "id": "vJgEH10D4n5k",
        "outputId": "739af35c-8323-4755-ba5c-ea4b596e90aa"
      },
      "source": [
        "#previous 30 days data\n",
        "input_data"
      ],
      "execution_count": 73,
      "outputs": [
        {
          "output_type": "execute_result",
          "data": {
            "text/plain": [
              "[0.9503228695655246,\n",
              " 0.9503228695655246,\n",
              " 0.9824541996120588,\n",
              " 0.9276102691812955,\n",
              " 0.9276102691812955,\n",
              " 0.9482239237934369,\n",
              " 0.9096339705643346,\n",
              " 0.9096339705643346,\n",
              " 0.9421420892172678,\n",
              " 0.9365446267423496,\n",
              " 0.9365446267423496,\n",
              " 0.9377287021841667,\n",
              " 0.931485410240914,\n",
              " 0.931485410240914,\n",
              " 0.952260522220139,\n",
              " 0.8609257485819717,\n",
              " 0.8609257485819717,\n",
              " 0.9072658196807004,\n",
              " 0.8639397289339403,\n",
              " 0.8639397289339403,\n",
              " 0.8656081764770085,\n",
              " 0.8425187874863806,\n",
              " 0.8425187874863806,\n",
              " 0.8554897434741373,\n",
              " 0.8571044813945843,\n",
              " 0.8571044813945843,\n",
              " 0.8764800224430669,\n",
              " 0.9145856035709179,\n",
              " 0.9145856035709179,\n",
              " 0.9194833627052701]"
            ]
          },
          "metadata": {
            "tags": []
          },
          "execution_count": 73
        }
      ]
    },
    {
      "cell_type": "code",
      "metadata": {
        "colab": {
          "base_uri": "https://localhost:8080/"
        },
        "id": "CRg5op1PSjr6",
        "outputId": "1936201d-d12b-47f7-8448-c5ae5b9028d6"
      },
      "source": [
        "# predicting values for the next 30 days \n",
        "future_output=[]\n",
        "\n",
        "i=0\n",
        "while(i<30):\n",
        "    \n",
        "    if(len(input_data)>30):\n",
        "       \n",
        "        # it is list of input for predicting the future day\n",
        "        initial_input_data=np.array(input_data[1:])\n",
        "        print(\"day {} : input data {}\".format(i,initial_input_data))\n",
        "        initial_input_data=initial_input_data.reshape(1,-1)\n",
        "        initial_input_data = initial_input_data.reshape((1, no_of_steps, 1))\n",
        "     \n",
        "        \n",
        "        # it is output of the future day\n",
        "        yhat = model.predict(initial_input_data, verbose=0)\n",
        "        print(\"day {} : predicted output data {}\".format(i,yhat))\n",
        "        input_data.extend(yhat[0].tolist())\n",
        "        input_data=input_data[1:]\n",
        "       \n",
        "        # append the data with the present data\n",
        "        future_output.extend(yhat.tolist())\n",
        "        i=i+1\n",
        "    else:\n",
        "        # we are predicting 1st future day \n",
        "        initial_input_data= initial_input_data.reshape((1, no_of_steps,1))\n",
        "        yhat = model.predict(initial_input_data, verbose=0)\n",
        "        print(yhat[0])\n",
        "        input_data.extend(yhat[0].tolist())\n",
        "        print(len(input_data))\n",
        "        future_output.extend(yhat.tolist())\n",
        "        i=i+1\n",
        "    \n",
        "\n",
        "print(future_output)"
      ],
      "execution_count": 74,
      "outputs": [
        {
          "output_type": "stream",
          "text": [
            "[0.886006]\n",
            "31\n",
            "day 1 : input data [0.95032287 0.9824542  0.92761027 0.92761027 0.94822392 0.90963397\n",
            " 0.90963397 0.94214209 0.93654463 0.93654463 0.9377287  0.93148541\n",
            " 0.93148541 0.95226052 0.86092575 0.86092575 0.90726582 0.86393973\n",
            " 0.86393973 0.86560818 0.84251879 0.84251879 0.85548974 0.85710448\n",
            " 0.85710448 0.87648002 0.9145856  0.9145856  0.91948336 0.886006  ]\n",
            "day 1 : predicted output data [[0.8740609]]\n",
            "day 2 : input data [0.9824542  0.92761027 0.92761027 0.94822392 0.90963397 0.90963397\n",
            " 0.94214209 0.93654463 0.93654463 0.9377287  0.93148541 0.93148541\n",
            " 0.95226052 0.86092575 0.86092575 0.90726582 0.86393973 0.86393973\n",
            " 0.86560818 0.84251879 0.84251879 0.85548974 0.85710448 0.85710448\n",
            " 0.87648002 0.9145856  0.9145856  0.91948336 0.886006   0.87406093]\n",
            "day 2 : predicted output data [[0.85301423]]\n",
            "day 3 : input data [0.92761027 0.92761027 0.94822392 0.90963397 0.90963397 0.94214209\n",
            " 0.93654463 0.93654463 0.9377287  0.93148541 0.93148541 0.95226052\n",
            " 0.86092575 0.86092575 0.90726582 0.86393973 0.86393973 0.86560818\n",
            " 0.84251879 0.84251879 0.85548974 0.85710448 0.85710448 0.87648002\n",
            " 0.9145856  0.9145856  0.91948336 0.886006   0.87406093 0.85301423]\n",
            "day 3 : predicted output data [[0.83056813]]\n",
            "day 4 : input data [0.92761027 0.94822392 0.90963397 0.90963397 0.94214209 0.93654463\n",
            " 0.93654463 0.9377287  0.93148541 0.93148541 0.95226052 0.86092575\n",
            " 0.86092575 0.90726582 0.86393973 0.86393973 0.86560818 0.84251879\n",
            " 0.84251879 0.85548974 0.85710448 0.85710448 0.87648002 0.9145856\n",
            " 0.9145856  0.91948336 0.886006   0.87406093 0.85301423 0.83056813]\n",
            "day 4 : predicted output data [[0.81030685]]\n",
            "day 5 : input data [0.94822392 0.90963397 0.90963397 0.94214209 0.93654463 0.93654463\n",
            " 0.9377287  0.93148541 0.93148541 0.95226052 0.86092575 0.86092575\n",
            " 0.90726582 0.86393973 0.86393973 0.86560818 0.84251879 0.84251879\n",
            " 0.85548974 0.85710448 0.85710448 0.87648002 0.9145856  0.9145856\n",
            " 0.91948336 0.886006   0.87406093 0.85301423 0.83056813 0.81030685]\n",
            "day 5 : predicted output data [[0.7935535]]\n",
            "day 6 : input data [0.90963397 0.90963397 0.94214209 0.93654463 0.93654463 0.9377287\n",
            " 0.93148541 0.93148541 0.95226052 0.86092575 0.86092575 0.90726582\n",
            " 0.86393973 0.86393973 0.86560818 0.84251879 0.84251879 0.85548974\n",
            " 0.85710448 0.85710448 0.87648002 0.9145856  0.9145856  0.91948336\n",
            " 0.886006   0.87406093 0.85301423 0.83056813 0.81030685 0.79355347]\n",
            "day 6 : predicted output data [[0.7805775]]\n",
            "day 7 : input data [0.90963397 0.94214209 0.93654463 0.93654463 0.9377287  0.93148541\n",
            " 0.93148541 0.95226052 0.86092575 0.86092575 0.90726582 0.86393973\n",
            " 0.86393973 0.86560818 0.84251879 0.84251879 0.85548974 0.85710448\n",
            " 0.85710448 0.87648002 0.9145856  0.9145856  0.91948336 0.886006\n",
            " 0.87406093 0.85301423 0.83056813 0.81030685 0.79355347 0.78057748]\n",
            "day 7 : predicted output data [[0.7710819]]\n",
            "day 8 : input data [0.94214209 0.93654463 0.93654463 0.9377287  0.93148541 0.93148541\n",
            " 0.95226052 0.86092575 0.86092575 0.90726582 0.86393973 0.86393973\n",
            " 0.86560818 0.84251879 0.84251879 0.85548974 0.85710448 0.85710448\n",
            " 0.87648002 0.9145856  0.9145856  0.91948336 0.886006   0.87406093\n",
            " 0.85301423 0.83056813 0.81030685 0.79355347 0.78057748 0.77108192]\n",
            "day 8 : predicted output data [[0.7643689]]\n",
            "day 9 : input data [0.93654463 0.93654463 0.9377287  0.93148541 0.93148541 0.95226052\n",
            " 0.86092575 0.86092575 0.90726582 0.86393973 0.86393973 0.86560818\n",
            " 0.84251879 0.84251879 0.85548974 0.85710448 0.85710448 0.87648002\n",
            " 0.9145856  0.9145856  0.91948336 0.886006   0.87406093 0.85301423\n",
            " 0.83056813 0.81030685 0.79355347 0.78057748 0.77108192 0.76436889]\n",
            "day 9 : predicted output data [[0.7596178]]\n",
            "day 10 : input data [0.93654463 0.9377287  0.93148541 0.93148541 0.95226052 0.86092575\n",
            " 0.86092575 0.90726582 0.86393973 0.86393973 0.86560818 0.84251879\n",
            " 0.84251879 0.85548974 0.85710448 0.85710448 0.87648002 0.9145856\n",
            " 0.9145856  0.91948336 0.886006   0.87406093 0.85301423 0.83056813\n",
            " 0.81030685 0.79355347 0.78057748 0.77108192 0.76436889 0.75961781]\n",
            "day 10 : predicted output data [[0.7560887]]\n",
            "day 11 : input data [0.9377287  0.93148541 0.93148541 0.95226052 0.86092575 0.86092575\n",
            " 0.90726582 0.86393973 0.86393973 0.86560818 0.84251879 0.84251879\n",
            " 0.85548974 0.85710448 0.85710448 0.87648002 0.9145856  0.9145856\n",
            " 0.91948336 0.886006   0.87406093 0.85301423 0.83056813 0.81030685\n",
            " 0.79355347 0.78057748 0.77108192 0.76436889 0.75961781 0.75608867]\n",
            "day 11 : predicted output data [[0.75316596]]\n",
            "day 12 : input data [0.93148541 0.93148541 0.95226052 0.86092575 0.86092575 0.90726582\n",
            " 0.86393973 0.86393973 0.86560818 0.84251879 0.84251879 0.85548974\n",
            " 0.85710448 0.85710448 0.87648002 0.9145856  0.9145856  0.91948336\n",
            " 0.886006   0.87406093 0.85301423 0.83056813 0.81030685 0.79355347\n",
            " 0.78057748 0.77108192 0.76436889 0.75961781 0.75608867 0.75316596]\n",
            "day 12 : predicted output data [[0.75044346]]\n",
            "day 13 : input data [0.93148541 0.95226052 0.86092575 0.86092575 0.90726582 0.86393973\n",
            " 0.86393973 0.86560818 0.84251879 0.84251879 0.85548974 0.85710448\n",
            " 0.85710448 0.87648002 0.9145856  0.9145856  0.91948336 0.886006\n",
            " 0.87406093 0.85301423 0.83056813 0.81030685 0.79355347 0.78057748\n",
            " 0.77108192 0.76436889 0.75961781 0.75608867 0.75316596 0.75044346]\n",
            "day 13 : predicted output data [[0.7477149]]\n",
            "day 14 : input data [0.95226052 0.86092575 0.86092575 0.90726582 0.86393973 0.86393973\n",
            " 0.86560818 0.84251879 0.84251879 0.85548974 0.85710448 0.85710448\n",
            " 0.87648002 0.9145856  0.9145856  0.91948336 0.886006   0.87406093\n",
            " 0.85301423 0.83056813 0.81030685 0.79355347 0.78057748 0.77108192\n",
            " 0.76436889 0.75961781 0.75608867 0.75316596 0.75044346 0.74771488]\n",
            "day 14 : predicted output data [[0.74492043]]\n",
            "day 15 : input data [0.86092575 0.86092575 0.90726582 0.86393973 0.86393973 0.86560818\n",
            " 0.84251879 0.84251879 0.85548974 0.85710448 0.85710448 0.87648002\n",
            " 0.9145856  0.9145856  0.91948336 0.886006   0.87406093 0.85301423\n",
            " 0.83056813 0.81030685 0.79355347 0.78057748 0.77108192 0.76436889\n",
            " 0.75961781 0.75608867 0.75316596 0.75044346 0.74771488 0.74492043]\n",
            "day 15 : predicted output data [[0.7420925]]\n",
            "day 16 : input data [0.86092575 0.90726582 0.86393973 0.86393973 0.86560818 0.84251879\n",
            " 0.84251879 0.85548974 0.85710448 0.85710448 0.87648002 0.9145856\n",
            " 0.9145856  0.91948336 0.886006   0.87406093 0.85301423 0.83056813\n",
            " 0.81030685 0.79355347 0.78057748 0.77108192 0.76436889 0.75961781\n",
            " 0.75608867 0.75316596 0.75044346 0.74771488 0.74492043 0.74209249]\n",
            "day 16 : predicted output data [[0.73938656]]\n",
            "day 17 : input data [0.90726582 0.86393973 0.86393973 0.86560818 0.84251879 0.84251879\n",
            " 0.85548974 0.85710448 0.85710448 0.87648002 0.9145856  0.9145856\n",
            " 0.91948336 0.886006   0.87406093 0.85301423 0.83056813 0.81030685\n",
            " 0.79355347 0.78057748 0.77108192 0.76436889 0.75961781 0.75608867\n",
            " 0.75316596 0.75044346 0.74771488 0.74492043 0.74209249 0.73938656]\n",
            "day 17 : predicted output data [[0.7368232]]\n",
            "day 18 : input data [0.86393973 0.86393973 0.86560818 0.84251879 0.84251879 0.85548974\n",
            " 0.85710448 0.85710448 0.87648002 0.9145856  0.9145856  0.91948336\n",
            " 0.886006   0.87406093 0.85301423 0.83056813 0.81030685 0.79355347\n",
            " 0.78057748 0.77108192 0.76436889 0.75961781 0.75608867 0.75316596\n",
            " 0.75044346 0.74771488 0.74492043 0.74209249 0.73938656 0.7368232 ]\n",
            "day 18 : predicted output data [[0.7344465]]\n",
            "day 19 : input data [0.86393973 0.86560818 0.84251879 0.84251879 0.85548974 0.85710448\n",
            " 0.85710448 0.87648002 0.9145856  0.9145856  0.91948336 0.886006\n",
            " 0.87406093 0.85301423 0.83056813 0.81030685 0.79355347 0.78057748\n",
            " 0.77108192 0.76436889 0.75961781 0.75608867 0.75316596 0.75044346\n",
            " 0.74771488 0.74492043 0.74209249 0.73938656 0.7368232  0.73444653]\n",
            "day 19 : predicted output data [[0.7323477]]\n",
            "day 20 : input data [0.86560818 0.84251879 0.84251879 0.85548974 0.85710448 0.85710448\n",
            " 0.87648002 0.9145856  0.9145856  0.91948336 0.886006   0.87406093\n",
            " 0.85301423 0.83056813 0.81030685 0.79355347 0.78057748 0.77108192\n",
            " 0.76436889 0.75961781 0.75608867 0.75316596 0.75044346 0.74771488\n",
            " 0.74492043 0.74209249 0.73938656 0.7368232  0.73444653 0.73234773]\n",
            "day 20 : predicted output data [[0.7304816]]\n",
            "day 21 : input data [0.84251879 0.84251879 0.85548974 0.85710448 0.85710448 0.87648002\n",
            " 0.9145856  0.9145856  0.91948336 0.886006   0.87406093 0.85301423\n",
            " 0.83056813 0.81030685 0.79355347 0.78057748 0.77108192 0.76436889\n",
            " 0.75961781 0.75608867 0.75316596 0.75044346 0.74771488 0.74492043\n",
            " 0.74209249 0.73938656 0.7368232  0.73444653 0.73234773 0.73048162]\n",
            "day 21 : predicted output data [[0.72881716]]\n",
            "day 22 : input data [0.84251879 0.85548974 0.85710448 0.85710448 0.87648002 0.9145856\n",
            " 0.9145856  0.91948336 0.886006   0.87406093 0.85301423 0.83056813\n",
            " 0.81030685 0.79355347 0.78057748 0.77108192 0.76436889 0.75961781\n",
            " 0.75608867 0.75316596 0.75044346 0.74771488 0.74492043 0.74209249\n",
            " 0.73938656 0.7368232  0.73444653 0.73234773 0.73048162 0.72881716]\n",
            "day 22 : predicted output data [[0.7273219]]\n",
            "day 23 : input data [0.85548974 0.85710448 0.85710448 0.87648002 0.9145856  0.9145856\n",
            " 0.91948336 0.886006   0.87406093 0.85301423 0.83056813 0.81030685\n",
            " 0.79355347 0.78057748 0.77108192 0.76436889 0.75961781 0.75608867\n",
            " 0.75316596 0.75044346 0.74771488 0.74492043 0.74209249 0.73938656\n",
            " 0.7368232  0.73444653 0.73234773 0.73048162 0.72881716 0.72732192]\n",
            "day 23 : predicted output data [[0.72592366]]\n",
            "day 24 : input data [0.85710448 0.85710448 0.87648002 0.9145856  0.9145856  0.91948336\n",
            " 0.886006   0.87406093 0.85301423 0.83056813 0.81030685 0.79355347\n",
            " 0.78057748 0.77108192 0.76436889 0.75961781 0.75608867 0.75316596\n",
            " 0.75044346 0.74771488 0.74492043 0.74209249 0.73938656 0.7368232\n",
            " 0.73444653 0.73234773 0.73048162 0.72881716 0.72732192 0.72592366]\n",
            "day 24 : predicted output data [[0.724565]]\n",
            "day 25 : input data [0.85710448 0.87648002 0.9145856  0.9145856  0.91948336 0.886006\n",
            " 0.87406093 0.85301423 0.83056813 0.81030685 0.79355347 0.78057748\n",
            " 0.77108192 0.76436889 0.75961781 0.75608867 0.75316596 0.75044346\n",
            " 0.74771488 0.74492043 0.74209249 0.73938656 0.7368232  0.73444653\n",
            " 0.73234773 0.73048162 0.72881716 0.72732192 0.72592366 0.72456503]\n",
            "day 25 : predicted output data [[0.72321177]]\n",
            "day 26 : input data [0.87648002 0.9145856  0.9145856  0.91948336 0.886006   0.87406093\n",
            " 0.85301423 0.83056813 0.81030685 0.79355347 0.78057748 0.77108192\n",
            " 0.76436889 0.75961781 0.75608867 0.75316596 0.75044346 0.74771488\n",
            " 0.74492043 0.74209249 0.73938656 0.7368232  0.73444653 0.73234773\n",
            " 0.73048162 0.72881716 0.72732192 0.72592366 0.72456503 0.72321177]\n",
            "day 26 : predicted output data [[0.7218299]]\n",
            "day 27 : input data [0.9145856  0.9145856  0.91948336 0.886006   0.87406093 0.85301423\n",
            " 0.83056813 0.81030685 0.79355347 0.78057748 0.77108192 0.76436889\n",
            " 0.75961781 0.75608867 0.75316596 0.75044346 0.74771488 0.74492043\n",
            " 0.74209249 0.73938656 0.7368232  0.73444653 0.73234773 0.73048162\n",
            " 0.72881716 0.72732192 0.72592366 0.72456503 0.72321177 0.72182989]\n",
            "day 27 : predicted output data [[0.7203846]]\n",
            "day 28 : input data [0.9145856  0.91948336 0.886006   0.87406093 0.85301423 0.83056813\n",
            " 0.81030685 0.79355347 0.78057748 0.77108192 0.76436889 0.75961781\n",
            " 0.75608867 0.75316596 0.75044346 0.74771488 0.74492043 0.74209249\n",
            " 0.73938656 0.7368232  0.73444653 0.73234773 0.73048162 0.72881716\n",
            " 0.72732192 0.72592366 0.72456503 0.72321177 0.72182989 0.7203846 ]\n",
            "day 28 : predicted output data [[0.7188564]]\n",
            "day 29 : input data [0.91948336 0.886006   0.87406093 0.85301423 0.83056813 0.81030685\n",
            " 0.79355347 0.78057748 0.77108192 0.76436889 0.75961781 0.75608867\n",
            " 0.75316596 0.75044346 0.74771488 0.74492043 0.74209249 0.73938656\n",
            " 0.7368232  0.73444653 0.73234773 0.73048162 0.72881716 0.72732192\n",
            " 0.72592366 0.72456503 0.72321177 0.72182989 0.7203846  0.71885639]\n",
            "day 29 : predicted output data [[0.7172779]]\n",
            "[[0.8860059976577759], [0.8740609288215637], [0.8530142307281494], [0.8305681347846985], [0.8103068470954895], [0.7935534715652466], [0.7805774807929993], [0.7710819244384766], [0.7643688917160034], [0.759617805480957], [0.7560886740684509], [0.7531659603118896], [0.7504434585571289], [0.7477148771286011], [0.7449204325675964], [0.742092490196228], [0.7393865585327148], [0.7368232011795044], [0.7344465255737305], [0.7323477268218994], [0.7304816246032715], [0.7288171648979187], [0.7273219227790833], [0.7259236574172974], [0.7245650291442871], [0.7232117652893066], [0.721829891204834], [0.7203845977783203], [0.7188563942909241], [0.7172778844833374]]\n"
          ],
          "name": "stdout"
        }
      ]
    },
    {
      "cell_type": "code",
      "metadata": {
        "colab": {
          "base_uri": "https://localhost:8080/",
          "height": 296
        },
        "id": "tsiNBjUd5JKC",
        "outputId": "26966f21-b7c9-42b3-a8e1-ca55178d6a1c"
      },
      "source": [
        "# appending the future 30 days and plotting the graph\n",
        "df1=df.tolist()\n",
        "df1.extend(future_output)\n",
        "plt.plot(df1[(len(df)-no_of_steps):])\n",
        "plt.xlabel(\"Days\")\n",
        "plt.ylabel(\"Normalized Stock Price\")"
      ],
      "execution_count": 75,
      "outputs": [
        {
          "output_type": "execute_result",
          "data": {
            "text/plain": [
              "Text(0, 0.5, 'Normalized Stock Price')"
            ]
          },
          "metadata": {
            "tags": []
          },
          "execution_count": 75
        },
        {
          "output_type": "display_data",
          "data": {
            "image/png": "[encoded data removed]",
            "text/plain": [
              "<Figure size 432x288 with 1 Axes>"
            ]
          },
          "metadata": {
            "tags": [],
            "needs_background": "light"
          }
        }
      ]
    },
    {
      "cell_type": "code",
      "metadata": {
        "id": "jnBejbc85JYL"
      },
      "source": [
        "df2=scaler.inverse_transform(df1).tolist()"
      ],
      "execution_count": 76,
      "outputs": []
    },
    {
      "cell_type": "code",
      "metadata": {
        "colab": {
          "base_uri": "https://localhost:8080/",
          "height": 296
        },
        "id": "-WRuIL3S5SOf",
        "outputId": "7406a067-d241-4ab5-ed79-5dbe80fd6afe"
      },
      "source": [
        "# tranformed it back to original image with 30 future days\n",
        "plt.plot(df2)\n",
        "plt.xlabel(\"Days\")\n",
        "plt.ylabel(\"Stock Price\")\n"
      ],
      "execution_count": 77,
      "outputs": [
        {
          "output_type": "execute_result",
          "data": {
            "text/plain": [
              "Text(0, 0.5, 'Stock Price')"
            ]
          },
          "metadata": {
            "tags": []
          },
          "execution_count": 77
        },
        {
          "output_type": "display_data",
          "data": {
            "image/png": "[encoded data removed]",
            "text/plain": [
              "<Figure size 432x288 with 1 Axes>"
            ]
          },
          "metadata": {
            "tags": [],
            "needs_background": "light"
          }
        }
      ]
    },
    {
      "cell_type": "code",
      "metadata": {
        "id": "SJppTpEJUyM-"
      },
      "source": [
        ""
      ],
      "execution_count": null,
      "outputs": []
    }
  ]
}